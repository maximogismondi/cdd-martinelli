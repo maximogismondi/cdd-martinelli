{
 "cells": [
  {
   "cell_type": "markdown",
   "id": "a3d565ef",
   "metadata": {},
   "source": [
    "> Ingresos por categoria de los productos y visualización de la jerarquías"
   ]
  },
  {
   "cell_type": "code",
   "execution_count": 60,
   "id": "27342b47",
   "metadata": {},
   "outputs": [],
   "source": [
    "# Librerías\n",
    "import pandas as pd\n",
    "import numpy as np\n",
    "import seaborn as sns\n",
    "import matplotlib.pyplot as plt\n",
    "\n",
    "# Visualización interactiva\n",
    "import plotly.express as px\n",
    "\n",
    "pd.set_option('display.max_colwidth', 120)\n",
    "pd.set_option('display.float_format', lambda x: f\"{x:,.2f}\")\n",
    "\n",
    "sns.set_theme(style='whitegrid')\n",
    "plt.rcParams['figure.figsize'] = (10, 5)"
   ]
  },
  {
   "cell_type": "code",
   "execution_count": 61,
   "id": "4fbef4da",
   "metadata": {},
   "outputs": [
    {
     "data": {
      "text/html": [
       "<div>\n",
       "<style scoped>\n",
       "    .dataframe tbody tr th:only-of-type {\n",
       "        vertical-align: middle;\n",
       "    }\n",
       "\n",
       "    .dataframe tbody tr th {\n",
       "        vertical-align: top;\n",
       "    }\n",
       "\n",
       "    .dataframe thead th {\n",
       "        text-align: right;\n",
       "    }\n",
       "</style>\n",
       "<table border=\"1\" class=\"dataframe\">\n",
       "  <thead>\n",
       "    <tr style=\"text-align: right;\">\n",
       "      <th></th>\n",
       "      <th>product_id</th>\n",
       "      <th>quantity</th>\n",
       "      <th>unit_price</th>\n",
       "      <th>line_total</th>\n",
       "      <th>discount_amount</th>\n",
       "    </tr>\n",
       "    <tr>\n",
       "      <th>order_item_id</th>\n",
       "      <th></th>\n",
       "      <th></th>\n",
       "      <th></th>\n",
       "      <th></th>\n",
       "      <th></th>\n",
       "    </tr>\n",
       "  </thead>\n",
       "  <tbody>\n",
       "    <tr>\n",
       "      <th>1</th>\n",
       "      <td>940377</td>\n",
       "      <td>6</td>\n",
       "      <td>569.28</td>\n",
       "      <td>3,415.68</td>\n",
       "      <td>0.00</td>\n",
       "    </tr>\n",
       "    <tr>\n",
       "      <th>2</th>\n",
       "      <td>935931</td>\n",
       "      <td>2</td>\n",
       "      <td>1,090.20</td>\n",
       "      <td>&lt;NA&gt;</td>\n",
       "      <td>0.00</td>\n",
       "    </tr>\n",
       "    <tr>\n",
       "      <th>3</th>\n",
       "      <td>905111</td>\n",
       "      <td>7</td>\n",
       "      <td>&lt;NA&gt;</td>\n",
       "      <td>1,176.98</td>\n",
       "      <td>154.52</td>\n",
       "    </tr>\n",
       "    <tr>\n",
       "      <th>4</th>\n",
       "      <td>920065</td>\n",
       "      <td>3</td>\n",
       "      <td>464.45</td>\n",
       "      <td>1,393.35</td>\n",
       "      <td>&lt;NA&gt;</td>\n",
       "    </tr>\n",
       "    <tr>\n",
       "      <th>5</th>\n",
       "      <td>927289</td>\n",
       "      <td>8</td>\n",
       "      <td>283.12</td>\n",
       "      <td>&lt;NA&gt;</td>\n",
       "      <td>&lt;NA&gt;</td>\n",
       "    </tr>\n",
       "    <tr>\n",
       "      <th>...</th>\n",
       "      <td>...</td>\n",
       "      <td>...</td>\n",
       "      <td>...</td>\n",
       "      <td>...</td>\n",
       "      <td>...</td>\n",
       "    </tr>\n",
       "    <tr>\n",
       "      <th>285239</th>\n",
       "      <td>912297</td>\n",
       "      <td>1</td>\n",
       "      <td>88.40</td>\n",
       "      <td>88.40</td>\n",
       "      <td>0.00</td>\n",
       "    </tr>\n",
       "    <tr>\n",
       "      <th>285240</th>\n",
       "      <td>945504</td>\n",
       "      <td>10</td>\n",
       "      <td>1,435.85</td>\n",
       "      <td>14,358.50</td>\n",
       "      <td>0.00</td>\n",
       "    </tr>\n",
       "    <tr>\n",
       "      <th>285241</th>\n",
       "      <td>972378</td>\n",
       "      <td>8</td>\n",
       "      <td>172.43</td>\n",
       "      <td>1,379.44</td>\n",
       "      <td>158.71</td>\n",
       "    </tr>\n",
       "    <tr>\n",
       "      <th>285242</th>\n",
       "      <td>933150</td>\n",
       "      <td>1</td>\n",
       "      <td>&lt;NA&gt;</td>\n",
       "      <td>811.86</td>\n",
       "      <td>&lt;NA&gt;</td>\n",
       "    </tr>\n",
       "    <tr>\n",
       "      <th>285243</th>\n",
       "      <td>962095</td>\n",
       "      <td>&lt;NA&gt;</td>\n",
       "      <td>&lt;NA&gt;</td>\n",
       "      <td>5,676.48</td>\n",
       "      <td>&lt;NA&gt;</td>\n",
       "    </tr>\n",
       "  </tbody>\n",
       "</table>\n",
       "<p>285243 rows × 5 columns</p>\n",
       "</div>"
      ],
      "text/plain": [
       "               product_id  quantity  unit_price  line_total  discount_amount\n",
       "order_item_id                                                               \n",
       "1                  940377         6      569.28    3,415.68             0.00\n",
       "2                  935931         2    1,090.20        <NA>             0.00\n",
       "3                  905111         7        <NA>    1,176.98           154.52\n",
       "4                  920065         3      464.45    1,393.35             <NA>\n",
       "5                  927289         8      283.12        <NA>             <NA>\n",
       "...                   ...       ...         ...         ...              ...\n",
       "285239             912297         1       88.40       88.40             0.00\n",
       "285240             945504        10    1,435.85   14,358.50             0.00\n",
       "285241             972378         8      172.43    1,379.44           158.71\n",
       "285242             933150         1        <NA>      811.86             <NA>\n",
       "285243             962095      <NA>        <NA>    5,676.48             <NA>\n",
       "\n",
       "[285243 rows x 5 columns]"
      ]
     },
     "execution_count": 61,
     "metadata": {},
     "output_type": "execute_result"
    }
   ],
   "source": [
    "df_order_items = pd.read_pickle('../data/clean/order_items.pkl')\n",
    "\n",
    "df_order_items = df_order_items[[\"product_id\", \"quantity\", \"unit_price\", \"line_total\", \"discount_amount\"]]\n",
    "\n",
    "df_order_items"
   ]
  },
  {
   "cell_type": "markdown",
   "id": "b124ef3f",
   "metadata": {},
   "source": [
    "Vamos a empezar procesando rapidamente estos detalles de ordenes. Como criterios, vamos si tenemos cantidad y precio unitario vamos a calcular el precio nuevamente ya que a veces no coinciden, si no tenemos alguno de los dos, vamos a tomar el precio de la linea. Si no tenemos alguno de los primeros 2 ni el precio de la linea, vamos a descartar esa linea. Además si hay un descuento vamos a aplicarlo en el momento a modo de rebaja."
   ]
  },
  {
   "cell_type": "code",
   "execution_count": 62,
   "id": "ddddba68",
   "metadata": {},
   "outputs": [
    {
     "name": "stderr",
     "output_type": "stream",
     "text": [
      "/tmp/ipykernel_7824/739296204.py:12: SettingWithCopyWarning: \n",
      "A value is trying to be set on a copy of a slice from a DataFrame.\n",
      "Try using .loc[row_indexer,col_indexer] = value instead\n",
      "\n",
      "See the caveats in the documentation: https://pandas.pydata.org/pandas-docs/stable/user_guide/indexing.html#returning-a-view-versus-a-copy\n",
      "  df_order_items['final_price'] = df_order_items['calculated_price'] - df_order_items['discount_amount'].fillna(0)\n"
     ]
    },
    {
     "data": {
      "text/html": [
       "<div>\n",
       "<style scoped>\n",
       "    .dataframe tbody tr th:only-of-type {\n",
       "        vertical-align: middle;\n",
       "    }\n",
       "\n",
       "    .dataframe tbody tr th {\n",
       "        vertical-align: top;\n",
       "    }\n",
       "\n",
       "    .dataframe thead th {\n",
       "        text-align: right;\n",
       "    }\n",
       "</style>\n",
       "<table border=\"1\" class=\"dataframe\">\n",
       "  <thead>\n",
       "    <tr style=\"text-align: right;\">\n",
       "      <th></th>\n",
       "      <th>product_id</th>\n",
       "      <th>final_price</th>\n",
       "    </tr>\n",
       "    <tr>\n",
       "      <th>order_item_id</th>\n",
       "      <th></th>\n",
       "      <th></th>\n",
       "    </tr>\n",
       "  </thead>\n",
       "  <tbody>\n",
       "    <tr>\n",
       "      <th>1</th>\n",
       "      <td>940377</td>\n",
       "      <td>3,415.68</td>\n",
       "    </tr>\n",
       "    <tr>\n",
       "      <th>2</th>\n",
       "      <td>935931</td>\n",
       "      <td>2,180.40</td>\n",
       "    </tr>\n",
       "    <tr>\n",
       "      <th>3</th>\n",
       "      <td>905111</td>\n",
       "      <td>1,022.46</td>\n",
       "    </tr>\n",
       "    <tr>\n",
       "      <th>4</th>\n",
       "      <td>920065</td>\n",
       "      <td>1,393.35</td>\n",
       "    </tr>\n",
       "    <tr>\n",
       "      <th>5</th>\n",
       "      <td>927289</td>\n",
       "      <td>2,264.96</td>\n",
       "    </tr>\n",
       "    <tr>\n",
       "      <th>...</th>\n",
       "      <td>...</td>\n",
       "      <td>...</td>\n",
       "    </tr>\n",
       "    <tr>\n",
       "      <th>285239</th>\n",
       "      <td>912297</td>\n",
       "      <td>88.40</td>\n",
       "    </tr>\n",
       "    <tr>\n",
       "      <th>285240</th>\n",
       "      <td>945504</td>\n",
       "      <td>14,358.50</td>\n",
       "    </tr>\n",
       "    <tr>\n",
       "      <th>285241</th>\n",
       "      <td>972378</td>\n",
       "      <td>1,220.73</td>\n",
       "    </tr>\n",
       "    <tr>\n",
       "      <th>285242</th>\n",
       "      <td>933150</td>\n",
       "      <td>811.86</td>\n",
       "    </tr>\n",
       "    <tr>\n",
       "      <th>285243</th>\n",
       "      <td>962095</td>\n",
       "      <td>5,676.48</td>\n",
       "    </tr>\n",
       "  </tbody>\n",
       "</table>\n",
       "<p>273332 rows × 2 columns</p>\n",
       "</div>"
      ],
      "text/plain": [
       "               product_id  final_price\n",
       "order_item_id                         \n",
       "1                  940377     3,415.68\n",
       "2                  935931     2,180.40\n",
       "3                  905111     1,022.46\n",
       "4                  920065     1,393.35\n",
       "5                  927289     2,264.96\n",
       "...                   ...          ...\n",
       "285239             912297        88.40\n",
       "285240             945504    14,358.50\n",
       "285241             972378     1,220.73\n",
       "285242             933150       811.86\n",
       "285243             962095     5,676.48\n",
       "\n",
       "[273332 rows x 2 columns]"
      ]
     },
     "execution_count": 62,
     "metadata": {},
     "output_type": "execute_result"
    }
   ],
   "source": [
    "df_order_items['calculated_price'] = np.where(\n",
    "    (df_order_items['quantity'].notna()) & (df_order_items['unit_price'].notna()),\n",
    "    df_order_items['quantity'] * df_order_items['unit_price'],\n",
    "    np.where(\n",
    "        df_order_items['line_total'].notna(),\n",
    "        df_order_items['line_total'],\n",
    "        np.nan\n",
    "    )\n",
    ").copy()\n",
    "\n",
    "df_order_items = df_order_items.dropna(subset=['calculated_price'])\n",
    "df_order_items['final_price'] = df_order_items['calculated_price'] - df_order_items['discount_amount'].fillna(0)\n",
    "\n",
    "df_priced_order_items = df_order_items[[\"product_id\", \"final_price\"]].copy()\n",
    "\n",
    "df_priced_order_items"
   ]
  },
  {
   "cell_type": "markdown",
   "id": "af3d775e",
   "metadata": {},
   "source": [
    "Ahora vamos a agrupar por producto para obtener el total vendido por producto."
   ]
  },
  {
   "cell_type": "code",
   "execution_count": 63,
   "id": "c1915b73",
   "metadata": {},
   "outputs": [
    {
     "name": "stdout",
     "output_type": "stream",
     "text": [
      "<class 'pandas.core.frame.DataFrame'>\n",
      "Index: 93320 entries, 900019 to 1000000\n",
      "Data columns (total 1 columns):\n",
      " #   Column         Non-Null Count  Dtype  \n",
      "---  ------         --------------  -----  \n",
      " 0   total_revenue  93320 non-null  Float64\n",
      "dtypes: Float64(1)\n",
      "memory usage: 1.5+ MB\n"
     ]
    }
   ],
   "source": [
    "grouped_by_product = df_priced_order_items.groupby('product_id').agg(\n",
    "    total_revenue=pd.NamedAgg(column='final_price', aggfunc='sum'),\n",
    ")\n",
    "\n",
    "grouped_by_product.index = grouped_by_product.index.astype(str)\n",
    "\n",
    "grouped_by_product.info()"
   ]
  },
  {
   "cell_type": "markdown",
   "id": "135ca452",
   "metadata": {},
   "source": [
    "El siguiente paso, sería mapear todos estos productos a sus categorías y aplicar nuevamente la agrupación esta vez por categoría para obtener el revenue por categoría. Para ellos vamos a import el dataset de productos y vamos a hacer un merge con el dataset que tenemos de ventas por producto mantendremos por ahora las ventas que no matcheen con ningún producto o los productos que no tengan categoría como NA."
   ]
  },
  {
   "cell_type": "code",
   "execution_count": 64,
   "id": "fee5deb8",
   "metadata": {},
   "outputs": [
    {
     "name": "stdout",
     "output_type": "stream",
     "text": [
      "<class 'pandas.core.frame.DataFrame'>\n",
      "Index: 1000000 entries, 1 to 1000000\n",
      "Data columns (total 1 columns):\n",
      " #   Column       Non-Null Count    Dtype\n",
      "---  ------       --------------    -----\n",
      " 0   category_id  1000000 non-null  Int64\n",
      "dtypes: Int64(1)\n",
      "memory usage: 16.2+ MB\n"
     ]
    }
   ],
   "source": [
    "products_df = pd.read_pickle('../data/clean/products.pkl')\n",
    "\n",
    "products_df = products_df[[\"category_id\"]].copy()\n",
    "\n",
    "products_df.info()"
   ]
  },
  {
   "cell_type": "code",
   "execution_count": 65,
   "id": "0ccbcc11",
   "metadata": {},
   "outputs": [
    {
     "name": "stdout",
     "output_type": "stream",
     "text": [
      "<class 'pandas.core.frame.DataFrame'>\n",
      "Index: 93320 entries, 900019 to 1000000\n",
      "Data columns (total 2 columns):\n",
      " #   Column         Non-Null Count  Dtype  \n",
      "---  ------         --------------  -----  \n",
      " 0   total_revenue  93320 non-null  Float64\n",
      " 1   category_id    93320 non-null  Int64  \n",
      "dtypes: Float64(1), Int64(1)\n",
      "memory usage: 4.3+ MB\n"
     ]
    }
   ],
   "source": [
    "revenue_by_product_and_category = grouped_by_product.merge(\n",
    "    products_df,\n",
    "    left_index=True,\n",
    "    right_index=True,\n",
    "    how='left'\n",
    ")\n",
    "\n",
    "revenue_by_product_and_category.info()"
   ]
  },
  {
   "cell_type": "code",
   "execution_count": 66,
   "id": "e42fdbbc",
   "metadata": {},
   "outputs": [
    {
     "data": {
      "text/html": [
       "<div>\n",
       "<style scoped>\n",
       "    .dataframe tbody tr th:only-of-type {\n",
       "        vertical-align: middle;\n",
       "    }\n",
       "\n",
       "    .dataframe tbody tr th {\n",
       "        vertical-align: top;\n",
       "    }\n",
       "\n",
       "    .dataframe thead th {\n",
       "        text-align: right;\n",
       "    }\n",
       "</style>\n",
       "<table border=\"1\" class=\"dataframe\">\n",
       "  <thead>\n",
       "    <tr style=\"text-align: right;\">\n",
       "      <th></th>\n",
       "      <th>total_revenue</th>\n",
       "    </tr>\n",
       "  </thead>\n",
       "  <tbody>\n",
       "    <tr>\n",
       "      <th>count</th>\n",
       "      <td>179.00</td>\n",
       "    </tr>\n",
       "    <tr>\n",
       "      <th>mean</th>\n",
       "      <td>4,007,056.32</td>\n",
       "    </tr>\n",
       "    <tr>\n",
       "      <th>std</th>\n",
       "      <td>2,166,763.05</td>\n",
       "    </tr>\n",
       "    <tr>\n",
       "      <th>min</th>\n",
       "      <td>197,788.63</td>\n",
       "    </tr>\n",
       "    <tr>\n",
       "      <th>25%</th>\n",
       "      <td>3,870,623.00</td>\n",
       "    </tr>\n",
       "    <tr>\n",
       "      <th>50%</th>\n",
       "      <td>4,152,377.55</td>\n",
       "    </tr>\n",
       "    <tr>\n",
       "      <th>75%</th>\n",
       "      <td>4,314,727.37</td>\n",
       "    </tr>\n",
       "    <tr>\n",
       "      <th>max</th>\n",
       "      <td>13,083,384.12</td>\n",
       "    </tr>\n",
       "  </tbody>\n",
       "</table>\n",
       "</div>"
      ],
      "text/plain": [
       "       total_revenue\n",
       "count         179.00\n",
       "mean    4,007,056.32\n",
       "std     2,166,763.05\n",
       "min       197,788.63\n",
       "25%     3,870,623.00\n",
       "50%     4,152,377.55\n",
       "75%     4,314,727.37\n",
       "max    13,083,384.12"
      ]
     },
     "execution_count": 66,
     "metadata": {},
     "output_type": "execute_result"
    }
   ],
   "source": [
    "grouped_by_categories = revenue_by_product_and_category.groupby('category_id').agg(\n",
    "    total_revenue=pd.NamedAgg(column='total_revenue', aggfunc='sum'),\n",
    ")\n",
    "\n",
    "grouped_by_categories.describe()"
   ]
  },
  {
   "cell_type": "markdown",
   "id": "77f96222",
   "metadata": {},
   "source": [
    "Ya tenemos el revenue por categoría en función de nuestras ordenes. Lo siguiente que podemos hacer es mostrar las 5 categorías con más ingresos de nuestro dataset. Para ello primero necesitamos saber el nombre de la categoría. Vamos a importar el dataset de categorías y hacer un merge nuevamente con el dataset que tenemos de ventas por categoría. Nos guardaremos la categoría padre para luego poder mostrar la jerarquía."
   ]
  },
  {
   "cell_type": "code",
   "execution_count": 67,
   "id": "eba08a43",
   "metadata": {},
   "outputs": [
    {
     "data": {
      "text/html": [
       "<div>\n",
       "<style scoped>\n",
       "    .dataframe tbody tr th:only-of-type {\n",
       "        vertical-align: middle;\n",
       "    }\n",
       "\n",
       "    .dataframe tbody tr th {\n",
       "        vertical-align: top;\n",
       "    }\n",
       "\n",
       "    .dataframe thead th {\n",
       "        text-align: right;\n",
       "    }\n",
       "</style>\n",
       "<table border=\"1\" class=\"dataframe\">\n",
       "  <thead>\n",
       "    <tr style=\"text-align: right;\">\n",
       "      <th></th>\n",
       "      <th>name</th>\n",
       "      <th>parent_category_id</th>\n",
       "    </tr>\n",
       "    <tr>\n",
       "      <th>id</th>\n",
       "      <th></th>\n",
       "      <th></th>\n",
       "    </tr>\n",
       "  </thead>\n",
       "  <tbody>\n",
       "    <tr>\n",
       "      <th>1</th>\n",
       "      <td>Smartphones</td>\n",
       "      <td>180</td>\n",
       "    </tr>\n",
       "    <tr>\n",
       "      <th>2</th>\n",
       "      <td>Laptops</td>\n",
       "      <td>180</td>\n",
       "    </tr>\n",
       "    <tr>\n",
       "      <th>3</th>\n",
       "      <td>Tablets</td>\n",
       "      <td>&lt;NA&gt;</td>\n",
       "    </tr>\n",
       "    <tr>\n",
       "      <th>4</th>\n",
       "      <td>Cameras</td>\n",
       "      <td>&lt;NA&gt;</td>\n",
       "    </tr>\n",
       "    <tr>\n",
       "      <th>5</th>\n",
       "      <td>Televisions</td>\n",
       "      <td>180</td>\n",
       "    </tr>\n",
       "    <tr>\n",
       "      <th>...</th>\n",
       "      <td>...</td>\n",
       "      <td>...</td>\n",
       "    </tr>\n",
       "    <tr>\n",
       "      <th>204</th>\n",
       "      <td>Collectibles</td>\n",
       "      <td>&lt;NA&gt;</td>\n",
       "    </tr>\n",
       "    <tr>\n",
       "      <th>205</th>\n",
       "      <td>Tickets &amp; Experiences</td>\n",
       "      <td>&lt;NA&gt;</td>\n",
       "    </tr>\n",
       "    <tr>\n",
       "      <th>206</th>\n",
       "      <td>Musical Instruments</td>\n",
       "      <td>&lt;NA&gt;</td>\n",
       "    </tr>\n",
       "    <tr>\n",
       "      <th>207</th>\n",
       "      <td>Games &amp; Virtual Goods</td>\n",
       "      <td>&lt;NA&gt;</td>\n",
       "    </tr>\n",
       "    <tr>\n",
       "      <th>208</th>\n",
       "      <td>Stationery</td>\n",
       "      <td>&lt;NA&gt;</td>\n",
       "    </tr>\n",
       "  </tbody>\n",
       "</table>\n",
       "<p>208 rows × 2 columns</p>\n",
       "</div>"
      ],
      "text/plain": [
       "                      name  parent_category_id\n",
       "id                                            \n",
       "1              Smartphones                 180\n",
       "2                  Laptops                 180\n",
       "3                  Tablets                <NA>\n",
       "4                  Cameras                <NA>\n",
       "5              Televisions                 180\n",
       "..                     ...                 ...\n",
       "204           Collectibles                <NA>\n",
       "205  Tickets & Experiences                <NA>\n",
       "206    Musical Instruments                <NA>\n",
       "207  Games & Virtual Goods                <NA>\n",
       "208             Stationery                <NA>\n",
       "\n",
       "[208 rows x 2 columns]"
      ]
     },
     "execution_count": 67,
     "metadata": {},
     "output_type": "execute_result"
    }
   ],
   "source": [
    "categories_with_parent = pd.read_pickle('../data/clean/categories.pkl')\n",
    "\n",
    "categories_with_parent = categories_with_parent[[\"name\", \"parent_category_id\"]].copy()\n",
    "categories_with_parent"
   ]
  },
  {
   "cell_type": "code",
   "execution_count": 80,
   "id": "6066eb59",
   "metadata": {},
   "outputs": [
    {
     "data": {
      "text/html": [
       "<div>\n",
       "<style scoped>\n",
       "    .dataframe tbody tr th:only-of-type {\n",
       "        vertical-align: middle;\n",
       "    }\n",
       "\n",
       "    .dataframe tbody tr th {\n",
       "        vertical-align: top;\n",
       "    }\n",
       "\n",
       "    .dataframe thead th {\n",
       "        text-align: right;\n",
       "    }\n",
       "</style>\n",
       "<table border=\"1\" class=\"dataframe\">\n",
       "  <thead>\n",
       "    <tr style=\"text-align: right;\">\n",
       "      <th></th>\n",
       "      <th>name</th>\n",
       "      <th>parent_category_id</th>\n",
       "      <th>total_revenue</th>\n",
       "    </tr>\n",
       "  </thead>\n",
       "  <tbody>\n",
       "    <tr>\n",
       "      <th>1</th>\n",
       "      <td>Smartphones</td>\n",
       "      <td>180</td>\n",
       "      <td>12,277,289.38</td>\n",
       "    </tr>\n",
       "    <tr>\n",
       "      <th>2</th>\n",
       "      <td>Laptops</td>\n",
       "      <td>180</td>\n",
       "      <td>12,650,412.70</td>\n",
       "    </tr>\n",
       "    <tr>\n",
       "      <th>3</th>\n",
       "      <td>Tablets</td>\n",
       "      <td>&lt;NA&gt;</td>\n",
       "      <td>13,083,384.12</td>\n",
       "    </tr>\n",
       "    <tr>\n",
       "      <th>4</th>\n",
       "      <td>Cameras</td>\n",
       "      <td>&lt;NA&gt;</td>\n",
       "      <td>12,916,107.50</td>\n",
       "    </tr>\n",
       "    <tr>\n",
       "      <th>5</th>\n",
       "      <td>Televisions</td>\n",
       "      <td>180</td>\n",
       "      <td>12,043,372.85</td>\n",
       "    </tr>\n",
       "    <tr>\n",
       "      <th>...</th>\n",
       "      <td>...</td>\n",
       "      <td>...</td>\n",
       "      <td>...</td>\n",
       "    </tr>\n",
       "    <tr>\n",
       "      <th>204</th>\n",
       "      <td>Collectibles</td>\n",
       "      <td>&lt;NA&gt;</td>\n",
       "      <td>0.00</td>\n",
       "    </tr>\n",
       "    <tr>\n",
       "      <th>205</th>\n",
       "      <td>Tickets &amp; Experiences</td>\n",
       "      <td>&lt;NA&gt;</td>\n",
       "      <td>0.00</td>\n",
       "    </tr>\n",
       "    <tr>\n",
       "      <th>206</th>\n",
       "      <td>Musical Instruments</td>\n",
       "      <td>&lt;NA&gt;</td>\n",
       "      <td>0.00</td>\n",
       "    </tr>\n",
       "    <tr>\n",
       "      <th>207</th>\n",
       "      <td>Games &amp; Virtual Goods</td>\n",
       "      <td>&lt;NA&gt;</td>\n",
       "      <td>0.00</td>\n",
       "    </tr>\n",
       "    <tr>\n",
       "      <th>208</th>\n",
       "      <td>Stationery</td>\n",
       "      <td>&lt;NA&gt;</td>\n",
       "      <td>0.00</td>\n",
       "    </tr>\n",
       "  </tbody>\n",
       "</table>\n",
       "<p>208 rows × 3 columns</p>\n",
       "</div>"
      ],
      "text/plain": [
       "                      name  parent_category_id  total_revenue\n",
       "1              Smartphones                 180  12,277,289.38\n",
       "2                  Laptops                 180  12,650,412.70\n",
       "3                  Tablets                <NA>  13,083,384.12\n",
       "4                  Cameras                <NA>  12,916,107.50\n",
       "5              Televisions                 180  12,043,372.85\n",
       "..                     ...                 ...            ...\n",
       "204           Collectibles                <NA>           0.00\n",
       "205  Tickets & Experiences                <NA>           0.00\n",
       "206    Musical Instruments                <NA>           0.00\n",
       "207  Games & Virtual Goods                <NA>           0.00\n",
       "208             Stationery                <NA>           0.00\n",
       "\n",
       "[208 rows x 3 columns]"
      ]
     },
     "execution_count": 80,
     "metadata": {},
     "output_type": "execute_result"
    }
   ],
   "source": [
    "revenue_by_category = grouped_by_categories.merge(\n",
    "    categories_with_parent,\n",
    "    left_index=True,\n",
    "    right_index=True,\n",
    "    how='outer'\n",
    ").fillna({'total_revenue': 0})\n",
    "\n",
    "revenue_by_category = revenue_by_category[[\"name\", \"parent_category_id\", \"total_revenue\"]].copy()\n",
    "\n",
    "revenue_by_category"
   ]
  },
  {
   "cell_type": "code",
   "execution_count": 81,
   "id": "7c69bb89",
   "metadata": {},
   "outputs": [
    {
     "data": {
      "text/html": [
       "<div>\n",
       "<style scoped>\n",
       "    .dataframe tbody tr th:only-of-type {\n",
       "        vertical-align: middle;\n",
       "    }\n",
       "\n",
       "    .dataframe tbody tr th {\n",
       "        vertical-align: top;\n",
       "    }\n",
       "\n",
       "    .dataframe thead th {\n",
       "        text-align: right;\n",
       "    }\n",
       "</style>\n",
       "<table border=\"1\" class=\"dataframe\">\n",
       "  <thead>\n",
       "    <tr style=\"text-align: right;\">\n",
       "      <th></th>\n",
       "      <th>name</th>\n",
       "      <th>parent_category_id</th>\n",
       "      <th>total_revenue</th>\n",
       "    </tr>\n",
       "  </thead>\n",
       "  <tbody>\n",
       "    <tr>\n",
       "      <th>3</th>\n",
       "      <td>Tablets</td>\n",
       "      <td>&lt;NA&gt;</td>\n",
       "      <td>13,083,384.12</td>\n",
       "    </tr>\n",
       "    <tr>\n",
       "      <th>4</th>\n",
       "      <td>Cameras</td>\n",
       "      <td>&lt;NA&gt;</td>\n",
       "      <td>12,916,107.50</td>\n",
       "    </tr>\n",
       "    <tr>\n",
       "      <th>2</th>\n",
       "      <td>Laptops</td>\n",
       "      <td>180</td>\n",
       "      <td>12,650,412.70</td>\n",
       "    </tr>\n",
       "    <tr>\n",
       "      <th>6</th>\n",
       "      <td>Headphones</td>\n",
       "      <td>180</td>\n",
       "      <td>12,389,139.51</td>\n",
       "    </tr>\n",
       "    <tr>\n",
       "      <th>1</th>\n",
       "      <td>Smartphones</td>\n",
       "      <td>180</td>\n",
       "      <td>12,277,289.38</td>\n",
       "    </tr>\n",
       "  </tbody>\n",
       "</table>\n",
       "</div>"
      ],
      "text/plain": [
       "          name  parent_category_id  total_revenue\n",
       "3      Tablets                <NA>  13,083,384.12\n",
       "4      Cameras                <NA>  12,916,107.50\n",
       "2      Laptops                 180  12,650,412.70\n",
       "6   Headphones                 180  12,389,139.51\n",
       "1  Smartphones                 180  12,277,289.38"
      ]
     },
     "execution_count": 81,
     "metadata": {},
     "output_type": "execute_result"
    }
   ],
   "source": [
    "TOP_N = 5\n",
    "\n",
    "sorted_categories = revenue_by_category.sort_values(by='total_revenue', ascending=False)\n",
    "top_categories = sorted_categories.head(TOP_N)\n",
    "\n",
    "top_categories"
   ]
  },
  {
   "cell_type": "markdown",
   "id": "cc9807e7",
   "metadata": {},
   "source": [
    "Esto nos indica que las Tablets individualmente son las categorías con más revenue pero no sabemos exactamente si hay alguna categoría padre que contenga varias y que en conjunto superen a las Tablets o a los otros. Vamos a hacer un recorrido por la jerarquía para cada una de las categorías y ver si alguna categoría padre tiene más revenue que las tablets."
   ]
  },
  {
   "cell_type": "code",
   "execution_count": 106,
   "id": "f05c5ecf",
   "metadata": {},
   "outputs": [
    {
     "data": {
      "text/html": [
       "<div>\n",
       "<style scoped>\n",
       "    .dataframe tbody tr th:only-of-type {\n",
       "        vertical-align: middle;\n",
       "    }\n",
       "\n",
       "    .dataframe tbody tr th {\n",
       "        vertical-align: top;\n",
       "    }\n",
       "\n",
       "    .dataframe thead th {\n",
       "        text-align: right;\n",
       "    }\n",
       "</style>\n",
       "<table border=\"1\" class=\"dataframe\">\n",
       "  <thead>\n",
       "    <tr style=\"text-align: right;\">\n",
       "      <th></th>\n",
       "      <th>category_id</th>\n",
       "      <th>name</th>\n",
       "      <th>parent_category_id</th>\n",
       "      <th>total_revenue</th>\n",
       "      <th>direct_revenue</th>\n",
       "    </tr>\n",
       "  </thead>\n",
       "  <tbody>\n",
       "    <tr>\n",
       "      <th>0</th>\n",
       "      <td>1</td>\n",
       "      <td>Smartphones</td>\n",
       "      <td>180</td>\n",
       "      <td>12,277,289.38</td>\n",
       "      <td>12,277,289.38</td>\n",
       "    </tr>\n",
       "    <tr>\n",
       "      <th>1</th>\n",
       "      <td>2</td>\n",
       "      <td>Laptops</td>\n",
       "      <td>180</td>\n",
       "      <td>12,650,412.70</td>\n",
       "      <td>12,650,412.70</td>\n",
       "    </tr>\n",
       "    <tr>\n",
       "      <th>2</th>\n",
       "      <td>3</td>\n",
       "      <td>Tablets</td>\n",
       "      <td>&lt;NA&gt;</td>\n",
       "      <td>13,083,384.12</td>\n",
       "      <td>13,083,384.12</td>\n",
       "    </tr>\n",
       "    <tr>\n",
       "      <th>3</th>\n",
       "      <td>4</td>\n",
       "      <td>Cameras</td>\n",
       "      <td>&lt;NA&gt;</td>\n",
       "      <td>12,916,107.50</td>\n",
       "      <td>12,916,107.50</td>\n",
       "    </tr>\n",
       "    <tr>\n",
       "      <th>4</th>\n",
       "      <td>5</td>\n",
       "      <td>Televisions</td>\n",
       "      <td>180</td>\n",
       "      <td>12,043,372.85</td>\n",
       "      <td>12,043,372.85</td>\n",
       "    </tr>\n",
       "    <tr>\n",
       "      <th>...</th>\n",
       "      <td>...</td>\n",
       "      <td>...</td>\n",
       "      <td>...</td>\n",
       "      <td>...</td>\n",
       "      <td>...</td>\n",
       "    </tr>\n",
       "    <tr>\n",
       "      <th>203</th>\n",
       "      <td>204</td>\n",
       "      <td>Collectibles</td>\n",
       "      <td>&lt;NA&gt;</td>\n",
       "      <td>25,166,757.78</td>\n",
       "      <td>0.00</td>\n",
       "    </tr>\n",
       "    <tr>\n",
       "      <th>204</th>\n",
       "      <td>205</td>\n",
       "      <td>Tickets &amp; Experiences</td>\n",
       "      <td>&lt;NA&gt;</td>\n",
       "      <td>24,766,040.32</td>\n",
       "      <td>0.00</td>\n",
       "    </tr>\n",
       "    <tr>\n",
       "      <th>205</th>\n",
       "      <td>206</td>\n",
       "      <td>Musical Instruments</td>\n",
       "      <td>&lt;NA&gt;</td>\n",
       "      <td>31,424,855.78</td>\n",
       "      <td>0.00</td>\n",
       "    </tr>\n",
       "    <tr>\n",
       "      <th>206</th>\n",
       "      <td>207</td>\n",
       "      <td>Games &amp; Virtual Goods</td>\n",
       "      <td>&lt;NA&gt;</td>\n",
       "      <td>25,220,420.16</td>\n",
       "      <td>0.00</td>\n",
       "    </tr>\n",
       "    <tr>\n",
       "      <th>207</th>\n",
       "      <td>208</td>\n",
       "      <td>Stationery</td>\n",
       "      <td>&lt;NA&gt;</td>\n",
       "      <td>21,522,091.02</td>\n",
       "      <td>0.00</td>\n",
       "    </tr>\n",
       "  </tbody>\n",
       "</table>\n",
       "<p>208 rows × 5 columns</p>\n",
       "</div>"
      ],
      "text/plain": [
       "     category_id                   name  parent_category_id  total_revenue  \\\n",
       "0              1            Smartphones                 180  12,277,289.38   \n",
       "1              2                Laptops                 180  12,650,412.70   \n",
       "2              3                Tablets                <NA>  13,083,384.12   \n",
       "3              4                Cameras                <NA>  12,916,107.50   \n",
       "4              5            Televisions                 180  12,043,372.85   \n",
       "..           ...                    ...                 ...            ...   \n",
       "203          204           Collectibles                <NA>  25,166,757.78   \n",
       "204          205  Tickets & Experiences                <NA>  24,766,040.32   \n",
       "205          206    Musical Instruments                <NA>  31,424,855.78   \n",
       "206          207  Games & Virtual Goods                <NA>  25,220,420.16   \n",
       "207          208             Stationery                <NA>  21,522,091.02   \n",
       "\n",
       "     direct_revenue  \n",
       "0     12,277,289.38  \n",
       "1     12,650,412.70  \n",
       "2     13,083,384.12  \n",
       "3     12,916,107.50  \n",
       "4     12,043,372.85  \n",
       "..              ...  \n",
       "203            0.00  \n",
       "204            0.00  \n",
       "205            0.00  \n",
       "206            0.00  \n",
       "207            0.00  \n",
       "\n",
       "[208 rows x 5 columns]"
      ]
     },
     "execution_count": 106,
     "metadata": {},
     "output_type": "execute_result"
    }
   ],
   "source": [
    "df = revenue_by_category.copy().reset_index()\n",
    "\n",
    "df[\"direct_revenue\"] = df[\"total_revenue\"]\n",
    "df = df.rename(columns={\"index\": \"category_id\"})\n",
    "\n",
    "children = df.groupby(\"parent_category_id\")[\"category_id\"].apply(list).to_dict()\n",
    "\n",
    "# Función recursiva para acumular revenue\n",
    "def accumulate(cat_id):\n",
    "    row = df.loc[df[\"category_id\"] == cat_id].iloc[0]\n",
    "    total = row[\"total_revenue\"]\n",
    "    if cat_id in children:  # si tiene hijos\n",
    "        for child in children[cat_id]:\n",
    "            total += accumulate(child)\n",
    "    df.loc[df[\"category_id\"] == cat_id, \"total_revenue\"] = total\n",
    "    return total\n",
    "\n",
    "# Aplicar a las raíces (categorías sin parent_id)\n",
    "roots = df.loc[df[\"parent_category_id\"].isna(), \"category_id\"]\n",
    "for r in roots:\n",
    "    accumulate(r)\n",
    "\n",
    "total_revenue_by_category = df\n",
    "total_revenue_by_category"
   ]
  },
  {
   "cell_type": "markdown",
   "id": "03b0cf54",
   "metadata": {},
   "source": [
    "Ahora podemos ver que aparecen categorías que antes ni aparecían ya que tienen todas las ventas de sus categorías hijas. Veamos ahora el top 5 de categorías con más revenue."
   ]
  },
  {
   "cell_type": "code",
   "execution_count": 107,
   "id": "9e66e0b4",
   "metadata": {},
   "outputs": [
    {
     "data": {
      "text/html": [
       "<div>\n",
       "<style scoped>\n",
       "    .dataframe tbody tr th:only-of-type {\n",
       "        vertical-align: middle;\n",
       "    }\n",
       "\n",
       "    .dataframe tbody tr th {\n",
       "        vertical-align: top;\n",
       "    }\n",
       "\n",
       "    .dataframe thead th {\n",
       "        text-align: right;\n",
       "    }\n",
       "</style>\n",
       "<table border=\"1\" class=\"dataframe\">\n",
       "  <thead>\n",
       "    <tr style=\"text-align: right;\">\n",
       "      <th></th>\n",
       "      <th>category_id</th>\n",
       "      <th>name</th>\n",
       "      <th>parent_category_id</th>\n",
       "      <th>total_revenue</th>\n",
       "      <th>direct_revenue</th>\n",
       "    </tr>\n",
       "  </thead>\n",
       "  <tbody>\n",
       "    <tr>\n",
       "      <th>179</th>\n",
       "      <td>180</td>\n",
       "      <td>Electronics</td>\n",
       "      <td>&lt;NA&gt;</td>\n",
       "      <td>49,360,214.44</td>\n",
       "      <td>0.00</td>\n",
       "    </tr>\n",
       "    <tr>\n",
       "      <th>186</th>\n",
       "      <td>187</td>\n",
       "      <td>Automotive</td>\n",
       "      <td>&lt;NA&gt;</td>\n",
       "      <td>40,399,254.61</td>\n",
       "      <td>0.00</td>\n",
       "    </tr>\n",
       "    <tr>\n",
       "      <th>17</th>\n",
       "      <td>18</td>\n",
       "      <td>Furniture</td>\n",
       "      <td>&lt;NA&gt;</td>\n",
       "      <td>37,673,418.19</td>\n",
       "      <td>4,199,633.68</td>\n",
       "    </tr>\n",
       "    <tr>\n",
       "      <th>205</th>\n",
       "      <td>206</td>\n",
       "      <td>Musical Instruments</td>\n",
       "      <td>&lt;NA&gt;</td>\n",
       "      <td>31,424,855.78</td>\n",
       "      <td>0.00</td>\n",
       "    </tr>\n",
       "    <tr>\n",
       "      <th>197</th>\n",
       "      <td>198</td>\n",
       "      <td>Kitchen &amp; Dining</td>\n",
       "      <td>&lt;NA&gt;</td>\n",
       "      <td>29,457,665.77</td>\n",
       "      <td>0.00</td>\n",
       "    </tr>\n",
       "  </tbody>\n",
       "</table>\n",
       "</div>"
      ],
      "text/plain": [
       "     category_id                 name  parent_category_id  total_revenue  \\\n",
       "179          180          Electronics                <NA>  49,360,214.44   \n",
       "186          187           Automotive                <NA>  40,399,254.61   \n",
       "17            18            Furniture                <NA>  37,673,418.19   \n",
       "205          206  Musical Instruments                <NA>  31,424,855.78   \n",
       "197          198     Kitchen & Dining                <NA>  29,457,665.77   \n",
       "\n",
       "     direct_revenue  \n",
       "179            0.00  \n",
       "186            0.00  \n",
       "17     4,199,633.68  \n",
       "205            0.00  \n",
       "197            0.00  "
      ]
     },
     "execution_count": 107,
     "metadata": {},
     "output_type": "execute_result"
    }
   ],
   "source": [
    "sorted_total_revenue = total_revenue_by_category.sort_values(by='total_revenue', ascending=False)\n",
    "\n",
    "sorted_total_revenue.head(TOP_N)"
   ]
  },
  {
   "cell_type": "markdown",
   "id": "c3e49928",
   "metadata": {},
   "source": [
    "Ahora las categorías son totalmente otras... Veamos la información en forma de treemap para entender mejor como se distribuye el revenue por categorías y subcategorías."
   ]
  },
  {
   "cell_type": "code",
   "execution_count": 173,
   "id": "f2209266",
   "metadata": {},
   "outputs": [
    {
     "data": {
      "application/vnd.plotly.v1+json": {
       "config": {
        "plotlyServerURL": "https://plot.ly"
       },
       "data": [
        {
         "domain": {
          "x": [
           0,
           1
          ],
          "y": [
           0,
           1
          ]
         },
         "hovertemplate": "<b>%{label}</b><br>Revenue total: %{value:,.0f}<br>Porcentaje: %{percentParent:.1%}<extra></extra>",
         "ids": [
          "1",
          "2",
          "3",
          "4",
          "5",
          "6",
          "7",
          "8",
          "9",
          "10",
          "11",
          "12",
          "13",
          "14",
          "15",
          "16",
          "17",
          "18",
          "19",
          "20",
          "21",
          "22",
          "23",
          "24",
          "25",
          "26",
          "27",
          "28",
          "29",
          "30",
          "31",
          "32",
          "33",
          "34",
          "35",
          "36",
          "37",
          "38",
          "39",
          "40",
          "41",
          "42",
          "43",
          "44",
          "45",
          "46",
          "47",
          "48",
          "49",
          "50",
          "51",
          "52",
          "53",
          "54",
          "55",
          "56",
          "57",
          "58",
          "59",
          "60",
          "61",
          "62",
          "63",
          "64",
          "65",
          "66",
          "67",
          "68",
          "69",
          "70",
          "71",
          "72",
          "73",
          "74",
          "75",
          "76",
          "77",
          "78",
          "79",
          "80",
          "81",
          "82",
          "83",
          "84",
          "85",
          "86",
          "87",
          "88",
          "89",
          "90",
          "91",
          "92",
          "93",
          "94",
          "95",
          "96",
          "97",
          "98",
          "99",
          "100",
          "101",
          "102",
          "103",
          "104",
          "105",
          "106",
          "107",
          "108",
          "109",
          "110",
          "111",
          "112",
          "113",
          "114",
          "115",
          "116",
          "117",
          "118",
          "119",
          "120",
          "121",
          "122",
          "123",
          "124",
          "125",
          "126",
          "127",
          "128",
          "129",
          "130",
          "131",
          "132",
          "133",
          "134",
          "135",
          "136",
          "137",
          "138",
          "139",
          "140",
          "141",
          "142",
          "143",
          "144",
          "145",
          "146",
          "147",
          "148",
          "149",
          "150",
          "151",
          "152",
          "153",
          "154",
          "155",
          "156",
          "157",
          "158",
          "159",
          "160",
          "161",
          "162",
          "163",
          "164",
          "165",
          "166",
          "167",
          "168",
          "169",
          "170",
          "171",
          "172",
          "173",
          "174",
          "175",
          "176",
          "177",
          "178",
          "179",
          "180",
          "181",
          "182",
          "183",
          "184",
          "185",
          "186",
          "187",
          "188",
          "189",
          "190",
          "191",
          "192",
          "193",
          "194",
          "195",
          "196",
          "197",
          "198",
          "199",
          "200",
          "201",
          "202",
          "203",
          "204",
          "205",
          "206",
          "207",
          "208"
         ],
         "labels": [
          "Smartphones",
          "Laptops",
          "Tablets",
          "Cameras",
          "Televisions",
          "Headphones",
          "Men'S Clothing",
          "Women'S Clothing",
          "Children'S Clothing",
          "Undefined",
          "Outerwear",
          "Fiction",
          "Non-Fiction",
          "Children'S Books",
          "Textbooks",
          "Comics",
          "Undefined",
          "Furniture",
          null,
          "Undefined",
          "Gardening Tools",
          "Lighting",
          "Tools",
          "Exercise Equipment",
          "Camping Gear",
          "Cycling",
          "Team Sports",
          "Fitness Apparel",
          "Fishing",
          "Makeup",
          null,
          "Haircare",
          "Supplements",
          "Personal Care",
          "Fragrances",
          "Action Figures",
          "Board Games",
          "Dolls",
          "Educational Toys",
          "Puzzles",
          "Car Accessories",
          "Tires",
          null,
          "Car Electronics",
          "Tools",
          "Snacks",
          "Beverages",
          "Gourmet",
          "Organic Food",
          "Baking",
          "Condiments",
          "Necklaces",
          "Rings",
          "Bracelets",
          "Earrings",
          "Watches",
          "Men'S Shoes",
          "Women'S Shoes",
          "Children'S Shoes",
          "Athletic Shoes",
          "Boots",
          "Sandals",
          "Baby Clothing",
          "Toys",
          "Diapers",
          null,
          "Undefined",
          "Safety",
          null,
          "Pet Toys",
          "Pet Beds",
          "Leashes & Collars",
          "Grooming",
          "Training",
          "Pens & Pencils",
          "Notebooks",
          null,
          "Printers",
          "Undefined",
          "Office Furniture",
          "Power Tools",
          "Hand Tools",
          null,
          "Fasteners",
          "Safety Gear",
          "Plumbing",
          "Cds",
          "Vinyl",
          "Dvds",
          "Blu-Ray",
          "Streaming",
          "Merchandise",
          "Paints",
          "Drawing Supplies",
          "Craft Kits",
          "Canvas & Paper",
          "Beading",
          "Paper Crafts",
          "Luggage",
          "Travel Accessories",
          "Guides",
          "Travel Clothing",
          "Backpacks",
          "Apparel",
          "Cookware",
          "Dinnerware",
          "Cutlery",
          "Appliances",
          "Bakeware",
          "Dining",
          "Utensils",
          null,
          "Beds",
          null,
          "Chairs",
          "Cabinets",
          "Living Room",
          "Outdoor",
          "Office",
          null,
          "Pet Grooming",
          "Pet Medications",
          null,
          "Supplements",
          "Healthcare",
          "Plants",
          "Gardening Tools",
          "Outdoor Furniture",
          "Bbq Grills",
          "Grilling",
          "Landscape",
          "Lab Equipment",
          "Measuring Instruments",
          "Safety Supplies",
          "Sensors",
          "Adhesives",
          "Professional Tools",
          "Handmade Jewelry",
          "Handmade Home Decor",
          "Handmade Clothing",
          "Toys",
          "Art",
          null,
          "Snacks",
          "Baking Supplies",
          "Dairy",
          "Pantry",
          "Specialty",
          "Coins",
          "Stamps",
          "Action Figures",
          "Comics",
          null,
          "Memorabilia",
          "Figurines",
          null,
          "Sporting Event Tickets",
          "Theater Tickets",
          "Travel Packages",
          "Tours",
          "Workshops",
          "Guitars",
          "Pianos",
          "Drums",
          "Wind Instruments",
          "Undefined",
          "Accessories",
          "Video Games",
          "Game Accessories",
          "In-Game Currency",
          "Dlc",
          "E-Books",
          "Software",
          "Notebooks",
          "Pens",
          "Art Supplies",
          "Organizers",
          "Greeting Cards",
          "Planners",
          "Electronics",
          "Clothing",
          "Books",
          "Home & Garden",
          "Sports & Outdoors",
          "Health & Beauty",
          "Toys & Games",
          "Automotive",
          "Food & Beverages",
          "Jewelry",
          "Shoes",
          "Baby & Kids",
          "Pet Supplies",
          "Office Supplies",
          "Tools & Hardware",
          "Music & Movies",
          "Art & Crafts",
          "Travel",
          "Kitchen & Dining",
          "Pet Care",
          "Garden & Outdoor",
          "Industrial & Scientific",
          "Handmade",
          "Grocery & Gourmet Food",
          "Collectibles",
          "Tickets & Experiences",
          "Musical Instruments",
          "Games & Virtual Goods",
          "Stationery"
         ],
         "marker": {
          "coloraxis": "coloraxis",
          "colors": {
           "bdata": "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",
           "dtype": "f8"
          }
         },
         "name": "",
         "parents": [
          "180",
          "180",
          null,
          null,
          "180",
          "180",
          "181",
          "181",
          "181",
          "166",
          "181",
          "182",
          "166",
          "182",
          "182",
          "182",
          "182",
          null,
          "183",
          "183",
          "183",
          "183",
          "183",
          "184",
          "184",
          "184",
          "184",
          "184",
          null,
          "185",
          "185",
          "185",
          null,
          "185",
          "185",
          "186",
          "186",
          null,
          "186",
          "186",
          "187",
          "187",
          "187",
          "187",
          "187",
          "166",
          null,
          "188",
          "188",
          "188",
          "188",
          "189",
          "189",
          "189",
          "189",
          "189",
          "190",
          "190",
          "190",
          "190",
          "190",
          "190",
          "191",
          "191",
          "191",
          "166",
          "191",
          "191",
          "192",
          "192",
          "192",
          null,
          "192",
          null,
          "193",
          "193",
          "166",
          "193",
          "193",
          "193",
          "194",
          "194",
          "194",
          "194",
          "194",
          "194",
          "195",
          "195",
          "195",
          "195",
          "195",
          "195",
          "196",
          "196",
          null,
          "196",
          "196",
          "196",
          "197",
          "197",
          "197",
          "197",
          "197",
          "197",
          "198",
          "198",
          "198",
          "198",
          "198",
          "198",
          "198",
          "18",
          "18",
          "18",
          "18",
          "18",
          "18",
          "18",
          "18",
          "199",
          "199",
          "199",
          "199",
          "199",
          "199",
          "200",
          "200",
          "200",
          "200",
          "200",
          "200",
          "201",
          "201",
          "201",
          "201",
          "201",
          "201",
          "202",
          "202",
          "202",
          "202",
          "202",
          "203",
          "203",
          "203",
          "203",
          "203",
          "203",
          "204",
          null,
          "204",
          "204",
          "204",
          "204",
          "204",
          "205",
          "205",
          "205",
          "205",
          "205",
          "205",
          null,
          "206",
          "206",
          "206",
          "206",
          "206",
          "207",
          "207",
          "207",
          "207",
          "207",
          "207",
          "208",
          "208",
          "208",
          "208",
          "208",
          null,
          null,
          null,
          null,
          null,
          null,
          null,
          null,
          null,
          null,
          null,
          null,
          null,
          null,
          null,
          null,
          null,
          null,
          null,
          null,
          null,
          null,
          null,
          null,
          null,
          null,
          null,
          null,
          null,
          null
         ],
         "pathbar": {
          "textfont": {
           "size": 12
          },
          "visible": true
         },
         "root": {
          "color": "lightgray"
         },
         "textinfo": "label+value+percent entry",
         "texttemplate": "<b>%{label}</b><br>%{value:,.0f}",
         "tiling": {
          "pad": 2,
          "squarifyratio": 1.2
         },
         "type": "treemap",
         "values": {
          "bdata": "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",
          "dtype": "f8"
         }
        }
       ],
       "layout": {
        "coloraxis": {
         "colorbar": {
          "tickformat": ",.0f",
          "title": {
           "text": "Revenue total"
          }
         },
         "colorscale": [
          [
           0,
           "rgb(247,252,245)"
          ],
          [
           0.125,
           "rgb(229,245,224)"
          ],
          [
           0.25,
           "rgb(199,233,192)"
          ],
          [
           0.375,
           "rgb(161,217,155)"
          ],
          [
           0.5,
           "rgb(116,196,118)"
          ],
          [
           0.625,
           "rgb(65,171,93)"
          ],
          [
           0.75,
           "rgb(35,139,69)"
          ],
          [
           0.875,
           "rgb(0,109,44)"
          ],
          [
           1,
           "rgb(0,68,27)"
          ]
         ]
        },
        "legend": {
         "tracegroupgap": 0
        },
        "margin": {
         "b": 10,
         "l": 10,
         "r": 10,
         "t": 60
        },
        "template": {
         "data": {
          "bar": [
           {
            "error_x": {
             "color": "#2a3f5f"
            },
            "error_y": {
             "color": "#2a3f5f"
            },
            "marker": {
             "line": {
              "color": "#E5ECF6",
              "width": 0.5
             },
             "pattern": {
              "fillmode": "overlay",
              "size": 10,
              "solidity": 0.2
             }
            },
            "type": "bar"
           }
          ],
          "barpolar": [
           {
            "marker": {
             "line": {
              "color": "#E5ECF6",
              "width": 0.5
             },
             "pattern": {
              "fillmode": "overlay",
              "size": 10,
              "solidity": 0.2
             }
            },
            "type": "barpolar"
           }
          ],
          "carpet": [
           {
            "aaxis": {
             "endlinecolor": "#2a3f5f",
             "gridcolor": "white",
             "linecolor": "white",
             "minorgridcolor": "white",
             "startlinecolor": "#2a3f5f"
            },
            "baxis": {
             "endlinecolor": "#2a3f5f",
             "gridcolor": "white",
             "linecolor": "white",
             "minorgridcolor": "white",
             "startlinecolor": "#2a3f5f"
            },
            "type": "carpet"
           }
          ],
          "choropleth": [
           {
            "colorbar": {
             "outlinewidth": 0,
             "ticks": ""
            },
            "type": "choropleth"
           }
          ],
          "contour": [
           {
            "colorbar": {
             "outlinewidth": 0,
             "ticks": ""
            },
            "colorscale": [
             [
              0,
              "#0d0887"
             ],
             [
              0.1111111111111111,
              "#46039f"
             ],
             [
              0.2222222222222222,
              "#7201a8"
             ],
             [
              0.3333333333333333,
              "#9c179e"
             ],
             [
              0.4444444444444444,
              "#bd3786"
             ],
             [
              0.5555555555555556,
              "#d8576b"
             ],
             [
              0.6666666666666666,
              "#ed7953"
             ],
             [
              0.7777777777777778,
              "#fb9f3a"
             ],
             [
              0.8888888888888888,
              "#fdca26"
             ],
             [
              1,
              "#f0f921"
             ]
            ],
            "type": "contour"
           }
          ],
          "contourcarpet": [
           {
            "colorbar": {
             "outlinewidth": 0,
             "ticks": ""
            },
            "type": "contourcarpet"
           }
          ],
          "heatmap": [
           {
            "colorbar": {
             "outlinewidth": 0,
             "ticks": ""
            },
            "colorscale": [
             [
              0,
              "#0d0887"
             ],
             [
              0.1111111111111111,
              "#46039f"
             ],
             [
              0.2222222222222222,
              "#7201a8"
             ],
             [
              0.3333333333333333,
              "#9c179e"
             ],
             [
              0.4444444444444444,
              "#bd3786"
             ],
             [
              0.5555555555555556,
              "#d8576b"
             ],
             [
              0.6666666666666666,
              "#ed7953"
             ],
             [
              0.7777777777777778,
              "#fb9f3a"
             ],
             [
              0.8888888888888888,
              "#fdca26"
             ],
             [
              1,
              "#f0f921"
             ]
            ],
            "type": "heatmap"
           }
          ],
          "histogram": [
           {
            "marker": {
             "pattern": {
              "fillmode": "overlay",
              "size": 10,
              "solidity": 0.2
             }
            },
            "type": "histogram"
           }
          ],
          "histogram2d": [
           {
            "colorbar": {
             "outlinewidth": 0,
             "ticks": ""
            },
            "colorscale": [
             [
              0,
              "#0d0887"
             ],
             [
              0.1111111111111111,
              "#46039f"
             ],
             [
              0.2222222222222222,
              "#7201a8"
             ],
             [
              0.3333333333333333,
              "#9c179e"
             ],
             [
              0.4444444444444444,
              "#bd3786"
             ],
             [
              0.5555555555555556,
              "#d8576b"
             ],
             [
              0.6666666666666666,
              "#ed7953"
             ],
             [
              0.7777777777777778,
              "#fb9f3a"
             ],
             [
              0.8888888888888888,
              "#fdca26"
             ],
             [
              1,
              "#f0f921"
             ]
            ],
            "type": "histogram2d"
           }
          ],
          "histogram2dcontour": [
           {
            "colorbar": {
             "outlinewidth": 0,
             "ticks": ""
            },
            "colorscale": [
             [
              0,
              "#0d0887"
             ],
             [
              0.1111111111111111,
              "#46039f"
             ],
             [
              0.2222222222222222,
              "#7201a8"
             ],
             [
              0.3333333333333333,
              "#9c179e"
             ],
             [
              0.4444444444444444,
              "#bd3786"
             ],
             [
              0.5555555555555556,
              "#d8576b"
             ],
             [
              0.6666666666666666,
              "#ed7953"
             ],
             [
              0.7777777777777778,
              "#fb9f3a"
             ],
             [
              0.8888888888888888,
              "#fdca26"
             ],
             [
              1,
              "#f0f921"
             ]
            ],
            "type": "histogram2dcontour"
           }
          ],
          "mesh3d": [
           {
            "colorbar": {
             "outlinewidth": 0,
             "ticks": ""
            },
            "type": "mesh3d"
           }
          ],
          "parcoords": [
           {
            "line": {
             "colorbar": {
              "outlinewidth": 0,
              "ticks": ""
             }
            },
            "type": "parcoords"
           }
          ],
          "pie": [
           {
            "automargin": true,
            "type": "pie"
           }
          ],
          "scatter": [
           {
            "fillpattern": {
             "fillmode": "overlay",
             "size": 10,
             "solidity": 0.2
            },
            "type": "scatter"
           }
          ],
          "scatter3d": [
           {
            "line": {
             "colorbar": {
              "outlinewidth": 0,
              "ticks": ""
             }
            },
            "marker": {
             "colorbar": {
              "outlinewidth": 0,
              "ticks": ""
             }
            },
            "type": "scatter3d"
           }
          ],
          "scattercarpet": [
           {
            "marker": {
             "colorbar": {
              "outlinewidth": 0,
              "ticks": ""
             }
            },
            "type": "scattercarpet"
           }
          ],
          "scattergeo": [
           {
            "marker": {
             "colorbar": {
              "outlinewidth": 0,
              "ticks": ""
             }
            },
            "type": "scattergeo"
           }
          ],
          "scattergl": [
           {
            "marker": {
             "colorbar": {
              "outlinewidth": 0,
              "ticks": ""
             }
            },
            "type": "scattergl"
           }
          ],
          "scattermap": [
           {
            "marker": {
             "colorbar": {
              "outlinewidth": 0,
              "ticks": ""
             }
            },
            "type": "scattermap"
           }
          ],
          "scattermapbox": [
           {
            "marker": {
             "colorbar": {
              "outlinewidth": 0,
              "ticks": ""
             }
            },
            "type": "scattermapbox"
           }
          ],
          "scatterpolar": [
           {
            "marker": {
             "colorbar": {
              "outlinewidth": 0,
              "ticks": ""
             }
            },
            "type": "scatterpolar"
           }
          ],
          "scatterpolargl": [
           {
            "marker": {
             "colorbar": {
              "outlinewidth": 0,
              "ticks": ""
             }
            },
            "type": "scatterpolargl"
           }
          ],
          "scatterternary": [
           {
            "marker": {
             "colorbar": {
              "outlinewidth": 0,
              "ticks": ""
             }
            },
            "type": "scatterternary"
           }
          ],
          "surface": [
           {
            "colorbar": {
             "outlinewidth": 0,
             "ticks": ""
            },
            "colorscale": [
             [
              0,
              "#0d0887"
             ],
             [
              0.1111111111111111,
              "#46039f"
             ],
             [
              0.2222222222222222,
              "#7201a8"
             ],
             [
              0.3333333333333333,
              "#9c179e"
             ],
             [
              0.4444444444444444,
              "#bd3786"
             ],
             [
              0.5555555555555556,
              "#d8576b"
             ],
             [
              0.6666666666666666,
              "#ed7953"
             ],
             [
              0.7777777777777778,
              "#fb9f3a"
             ],
             [
              0.8888888888888888,
              "#fdca26"
             ],
             [
              1,
              "#f0f921"
             ]
            ],
            "type": "surface"
           }
          ],
          "table": [
           {
            "cells": {
             "fill": {
              "color": "#EBF0F8"
             },
             "line": {
              "color": "white"
             }
            },
            "header": {
             "fill": {
              "color": "#C8D4E3"
             },
             "line": {
              "color": "white"
             }
            },
            "type": "table"
           }
          ]
         },
         "layout": {
          "annotationdefaults": {
           "arrowcolor": "#2a3f5f",
           "arrowhead": 0,
           "arrowwidth": 1
          },
          "autotypenumbers": "strict",
          "coloraxis": {
           "colorbar": {
            "outlinewidth": 0,
            "ticks": ""
           }
          },
          "colorscale": {
           "diverging": [
            [
             0,
             "#8e0152"
            ],
            [
             0.1,
             "#c51b7d"
            ],
            [
             0.2,
             "#de77ae"
            ],
            [
             0.3,
             "#f1b6da"
            ],
            [
             0.4,
             "#fde0ef"
            ],
            [
             0.5,
             "#f7f7f7"
            ],
            [
             0.6,
             "#e6f5d0"
            ],
            [
             0.7,
             "#b8e186"
            ],
            [
             0.8,
             "#7fbc41"
            ],
            [
             0.9,
             "#4d9221"
            ],
            [
             1,
             "#276419"
            ]
           ],
           "sequential": [
            [
             0,
             "#0d0887"
            ],
            [
             0.1111111111111111,
             "#46039f"
            ],
            [
             0.2222222222222222,
             "#7201a8"
            ],
            [
             0.3333333333333333,
             "#9c179e"
            ],
            [
             0.4444444444444444,
             "#bd3786"
            ],
            [
             0.5555555555555556,
             "#d8576b"
            ],
            [
             0.6666666666666666,
             "#ed7953"
            ],
            [
             0.7777777777777778,
             "#fb9f3a"
            ],
            [
             0.8888888888888888,
             "#fdca26"
            ],
            [
             1,
             "#f0f921"
            ]
           ],
           "sequentialminus": [
            [
             0,
             "#0d0887"
            ],
            [
             0.1111111111111111,
             "#46039f"
            ],
            [
             0.2222222222222222,
             "#7201a8"
            ],
            [
             0.3333333333333333,
             "#9c179e"
            ],
            [
             0.4444444444444444,
             "#bd3786"
            ],
            [
             0.5555555555555556,
             "#d8576b"
            ],
            [
             0.6666666666666666,
             "#ed7953"
            ],
            [
             0.7777777777777778,
             "#fb9f3a"
            ],
            [
             0.8888888888888888,
             "#fdca26"
            ],
            [
             1,
             "#f0f921"
            ]
           ]
          },
          "colorway": [
           "#636efa",
           "#EF553B",
           "#00cc96",
           "#ab63fa",
           "#FFA15A",
           "#19d3f3",
           "#FF6692",
           "#B6E880",
           "#FF97FF",
           "#FECB52"
          ],
          "font": {
           "color": "#2a3f5f"
          },
          "geo": {
           "bgcolor": "white",
           "lakecolor": "white",
           "landcolor": "#E5ECF6",
           "showlakes": true,
           "showland": true,
           "subunitcolor": "white"
          },
          "hoverlabel": {
           "align": "left"
          },
          "hovermode": "closest",
          "mapbox": {
           "style": "light"
          },
          "paper_bgcolor": "white",
          "plot_bgcolor": "#E5ECF6",
          "polar": {
           "angularaxis": {
            "gridcolor": "white",
            "linecolor": "white",
            "ticks": ""
           },
           "bgcolor": "#E5ECF6",
           "radialaxis": {
            "gridcolor": "white",
            "linecolor": "white",
            "ticks": ""
           }
          },
          "scene": {
           "xaxis": {
            "backgroundcolor": "#E5ECF6",
            "gridcolor": "white",
            "gridwidth": 2,
            "linecolor": "white",
            "showbackground": true,
            "ticks": "",
            "zerolinecolor": "white"
           },
           "yaxis": {
            "backgroundcolor": "#E5ECF6",
            "gridcolor": "white",
            "gridwidth": 2,
            "linecolor": "white",
            "showbackground": true,
            "ticks": "",
            "zerolinecolor": "white"
           },
           "zaxis": {
            "backgroundcolor": "#E5ECF6",
            "gridcolor": "white",
            "gridwidth": 2,
            "linecolor": "white",
            "showbackground": true,
            "ticks": "",
            "zerolinecolor": "white"
           }
          },
          "shapedefaults": {
           "line": {
            "color": "#2a3f5f"
           }
          },
          "ternary": {
           "aaxis": {
            "gridcolor": "white",
            "linecolor": "white",
            "ticks": ""
           },
           "baxis": {
            "gridcolor": "white",
            "linecolor": "white",
            "ticks": ""
           },
           "bgcolor": "#E5ECF6",
           "caxis": {
            "gridcolor": "white",
            "linecolor": "white",
            "ticks": ""
           }
          },
          "title": {
           "x": 0.05
          },
          "xaxis": {
           "automargin": true,
           "gridcolor": "white",
           "linecolor": "white",
           "ticks": "",
           "title": {
            "standoff": 15
           },
           "zerolinecolor": "white",
           "zerolinewidth": 2
          },
          "yaxis": {
           "automargin": true,
           "gridcolor": "white",
           "linecolor": "white",
           "ticks": "",
           "title": {
            "standoff": 15
           },
           "zerolinecolor": "white",
           "zerolinewidth": 2
          }
         }
        },
        "title": {
         "font": {
          "size": 20
         },
         "text": "Categorías principales por revenue total",
         "x": 0.5
        }
       }
      }
     },
     "metadata": {},
     "output_type": "display_data"
    }
   ],
   "source": [
    "df = total_revenue_by_category.copy()\n",
    "\n",
    "# Asegurar tipos string para ids/parents (evita conflictos None/NaN)\n",
    "df[\"id_str\"] = df[\"category_id\"].astype(str)\n",
    "df[\"parent_str\"] = df[\"parent_category_id\"].astype(\"string\")\n",
    "\n",
    "# Treemap jerárquico con drill-down\n",
    "fig = px.treemap(\n",
    "    df,\n",
    "    ids=\"id_str\",\n",
    "    names=\"name\",\n",
    "    parents=\"parent_str\",\n",
    "    values=\"total_revenue\",\n",
    "    color=\"total_revenue\",\n",
    "    color_continuous_scale=\"Greens\",\n",
    ")\n",
    "\n",
    "fig.update_traces(\n",
    "    # Texto dentro de cada rectángulo\n",
    "    texttemplate=\"<b>%{label}</b><br>%{value:,.0f}\",\n",
    "    textinfo=\"label+value+percent entry\",\n",
    "    # Hover con % relativo al padre\n",
    "    hovertemplate=(\n",
    "        \"<b>%{label}</b><br>\"\n",
    "        \"Revenue total: %{value:,.0f}<br>\"\n",
    "        \"Porcentaje: %{percentParent:.1%}<extra></extra>\"\n",
    "    ),\n",
    "    # Apariencia\n",
    "    root_color=\"lightgray\",\n",
    "    tiling=dict(pad=2, squarifyratio=1.2),\n",
    "    # Pathbar (migas de pan) arriba para navegar\n",
    "    pathbar=dict(visible=True, textfont=dict(size=12)),\n",
    ")\n",
    "\n",
    "fig.update_layout(\n",
    "    title=dict(\n",
    "        text=\"Categorías principales por revenue total\",\n",
    "        x=0.5,\n",
    "        font=dict(size=20),\n",
    "    ),\n",
    "    coloraxis_colorbar=dict(title=\"Revenue total\", tickformat=\",.0f\"),\n",
    "    margin=dict(t=60, r=10, b=10, l=10),\n",
    ")\n",
    "\n",
    "fig.show()"
   ]
  },
  {
   "cell_type": "markdown",
   "id": "33d6bfa2",
   "metadata": {},
   "source": [
    "Este gráfico nos muestra claramente como se distribuye el revenue por categorías incluyendo la revenue de las subcategorías, es interactivo y consistente con todo aquello que fuimos calculando."
   ]
  }
 ],
 "metadata": {
  "kernelspec": {
   "display_name": ".venv (3.12.3)",
   "language": "python",
   "name": "python3"
  },
  "language_info": {
   "codemirror_mode": {
    "name": "ipython",
    "version": 3
   },
   "file_extension": ".py",
   "mimetype": "text/x-python",
   "name": "python",
   "nbconvert_exporter": "python",
   "pygments_lexer": "ipython3",
   "version": "3.12.3"
  }
 },
 "nbformat": 4,
 "nbformat_minor": 5
}
