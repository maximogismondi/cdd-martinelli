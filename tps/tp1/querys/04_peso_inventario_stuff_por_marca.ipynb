{
 "cells": [
  {
   "cell_type": "markdown",
   "id": "16a85890",
   "metadata": {},
   "source": [
    "> Para los productos que contienen en su descripción la palabra “stuff” (sin importar mayúsculas o minúsculas), calcular el peso total de su inventario agrupado por marca, mostrar sólo la marca y el peso total de las 5 más pesadas."
   ]
  },
  {
   "cell_type": "markdown",
   "id": "40b88a5e",
   "metadata": {},
   "source": [
    "Para esta consulta, vamos a usar los datasets `products` e `inventory_logs`."
   ]
  },
  {
   "cell_type": "markdown",
   "id": "da52e1ae",
   "metadata": {},
   "source": [
    "Vamos a empezar con lo más sencillo... filtrando y quedandonos con los productos que contienen \"stuff\" en su descripción."
   ]
  },
  {
   "cell_type": "code",
   "execution_count": 48,
   "id": "b2ee8c24",
   "metadata": {},
   "outputs": [
    {
     "name": "stdout",
     "output_type": "stream",
     "text": [
      "<class 'pandas.core.frame.DataFrame'>\n",
      "Index: 1000000 entries, 1 to 1000000\n",
      "Data columns (total 11 columns):\n",
      " #   Column          Non-Null Count    Dtype         \n",
      "---  ------          --------------    -----         \n",
      " 0   product_name    939819 non-null   string        \n",
      " 1   category_id     1000000 non-null  Int64         \n",
      " 2   brand           939944 non-null   category      \n",
      " 3   price           850000 non-null   Float64       \n",
      " 4   cost            850000 non-null   Float64       \n",
      " 5   stock_quantity  850000 non-null   Int64         \n",
      " 6   weight_kg       850000 non-null   Float64       \n",
      " 7   dimensions      940014 non-null   string        \n",
      " 8   description     939716 non-null   string        \n",
      " 9   is_active       1000000 non-null  boolean       \n",
      " 10  created_at      910329 non-null   datetime64[ns]\n",
      "dtypes: Float64(3), Int64(2), boolean(1), category(1), datetime64[ns](1), string(3)\n",
      "memory usage: 84.9+ MB\n"
     ]
    }
   ],
   "source": [
    "import pandas as pd\n",
    "\n",
    "products_df = pd.read_pickle('../data/clean/products.pkl')\n",
    "products_df.info()"
   ]
  },
  {
   "cell_type": "code",
   "execution_count": 55,
   "id": "6dc3b83c",
   "metadata": {},
   "outputs": [
    {
     "data": {
      "text/html": [
       "<div>\n",
       "<style scoped>\n",
       "    .dataframe tbody tr th:only-of-type {\n",
       "        vertical-align: middle;\n",
       "    }\n",
       "\n",
       "    .dataframe tbody tr th {\n",
       "        vertical-align: top;\n",
       "    }\n",
       "\n",
       "    .dataframe thead th {\n",
       "        text-align: right;\n",
       "    }\n",
       "</style>\n",
       "<table border=\"1\" class=\"dataframe\">\n",
       "  <thead>\n",
       "    <tr style=\"text-align: right;\">\n",
       "      <th></th>\n",
       "      <th>brand</th>\n",
       "      <th>weight_kg</th>\n",
       "    </tr>\n",
       "    <tr>\n",
       "      <th>product_id</th>\n",
       "      <th></th>\n",
       "      <th></th>\n",
       "    </tr>\n",
       "  </thead>\n",
       "  <tbody>\n",
       "    <tr>\n",
       "      <th>5</th>\n",
       "      <td>Ikea</td>\n",
       "      <td>31.47</td>\n",
       "    </tr>\n",
       "    <tr>\n",
       "      <th>23</th>\n",
       "      <td>La-Z-Boy</td>\n",
       "      <td>46.17</td>\n",
       "    </tr>\n",
       "    <tr>\n",
       "      <th>107</th>\n",
       "      <td>Dove</td>\n",
       "      <td>10.12</td>\n",
       "    </tr>\n",
       "    <tr>\n",
       "      <th>187</th>\n",
       "      <td>Warner Bros.</td>\n",
       "      <td>17.33</td>\n",
       "    </tr>\n",
       "    <tr>\n",
       "      <th>289</th>\n",
       "      <td>Yamaha</td>\n",
       "      <td>10.97</td>\n",
       "    </tr>\n",
       "  </tbody>\n",
       "</table>\n",
       "</div>"
      ],
      "text/plain": [
       "                   brand  weight_kg\n",
       "product_id                         \n",
       "5                   Ikea      31.47\n",
       "23              La-Z-Boy      46.17\n",
       "107                 Dove      10.12\n",
       "187         Warner Bros.      17.33\n",
       "289               Yamaha      10.97"
      ]
     },
     "execution_count": 55,
     "metadata": {},
     "output_type": "execute_result"
    }
   ],
   "source": [
    "KEY_WORD = \"stuff\"\n",
    "\n",
    "REGEX_FILTER = rf\"\\b{KEY_WORD}\\b\"\n",
    "stuff_products = products_df[\n",
    "    products_df[\"description\"].str.contains(REGEX_FILTER, case=False, na=False)\n",
    "]\n",
    "\n",
    "stuff_products = stuff_products[[\"brand\", \"weight_kg\"]]\n",
    "stuff_products.head()"
   ]
  },
  {
   "cell_type": "markdown",
   "id": "02073fc7",
   "metadata": {},
   "source": [
    "Ahora vamos a intentar reconstruir el inventario actual de cada producto. Para eso, vamos a usar el dataset `inventory_logs`, que tiene un registro de todas las entradas y salidas de inventario por producto con su cantidad y fecha."
   ]
  },
  {
   "cell_type": "code",
   "execution_count": 50,
   "id": "f956de4d",
   "metadata": {},
   "outputs": [
    {
     "name": "stdout",
     "output_type": "stream",
     "text": [
      "<class 'pandas.core.frame.DataFrame'>\n",
      "Index: 400000 entries, 1 to 400000\n",
      "Data columns (total 4 columns):\n",
      " #   Column           Non-Null Count   Dtype         \n",
      "---  ------           --------------   -----         \n",
      " 0   product_id       400000 non-null  Int64         \n",
      " 1   movement_type    364060 non-null  category      \n",
      " 2   quantity_change  340000 non-null  Int64         \n",
      " 3   timestamp        363851 non-null  datetime64[ns]\n",
      "dtypes: Int64(2), category(1), datetime64[ns](1)\n",
      "memory usage: 13.4+ MB\n"
     ]
    }
   ],
   "source": [
    "df_inventory = pd.read_pickle('../data/clean/inventory_logs.pkl')\n",
    "\n",
    "df_inventory = df_inventory[['product_id', 'movement_type', 'quantity_change', 'timestamp']]\n",
    "df_inventory.info()"
   ]
  },
  {
   "cell_type": "markdown",
   "id": "8da18fff",
   "metadata": {},
   "source": [
    "Como no podemos operar si no sabemos datos del producto, tipo de movimiento o cantidad, vamos a descartar las filas que tengan datos nulos en esas columnas y de a poco ir simplificando el dataframe. En el caso de los productos, ya tenemos todos como NO nulos así que no hace falta comprobar."
   ]
  },
  {
   "cell_type": "code",
   "execution_count": 51,
   "id": "424a75a5",
   "metadata": {},
   "outputs": [
    {
     "name": "stdout",
     "output_type": "stream",
     "text": [
      "<class 'pandas.core.frame.DataFrame'>\n",
      "Index: 309268 entries, 1 to 400000\n",
      "Data columns (total 4 columns):\n",
      " #   Column           Non-Null Count   Dtype         \n",
      "---  ------           --------------   -----         \n",
      " 0   product_id       309268 non-null  Int64         \n",
      " 1   movement_type    309268 non-null  category      \n",
      " 2   quantity_change  309268 non-null  Int64         \n",
      " 3   timestamp        281384 non-null  datetime64[ns]\n",
      "dtypes: Int64(2), category(1), datetime64[ns](1)\n",
      "memory usage: 10.3+ MB\n"
     ]
    }
   ],
   "source": [
    "df_inventory = df_inventory.dropna(\n",
    "    subset=[\"movement_type\", \"quantity_change\"]\n",
    ")\n",
    "df_inventory.info()"
   ]
  },
  {
   "cell_type": "markdown",
   "id": "cd2379fa",
   "metadata": {},
   "source": [
    "Luego sería ideal simplificar los movimientos a un solo valor real positivo o negativo, para poder sumar todo al final y obtener el inventario actual. Para eso, vamos a crear una nueva columna `quantity_signed` que va a tener el valor de `quantity_change` pero con el signo cambiado si el `movement_type` es \"OUT\". El otro caso es si el `movement_type` es \"ADJUSTMENT\", en ese caso vamos a asumir que el valor de `quantity_change` ya tiene el signo correcto y lo dejamos igual."
   ]
  },
  {
   "cell_type": "code",
   "execution_count": 52,
   "id": "bf88e183",
   "metadata": {},
   "outputs": [
    {
     "data": {
      "text/html": [
       "<div>\n",
       "<style scoped>\n",
       "    .dataframe tbody tr th:only-of-type {\n",
       "        vertical-align: middle;\n",
       "    }\n",
       "\n",
       "    .dataframe tbody tr th {\n",
       "        vertical-align: top;\n",
       "    }\n",
       "\n",
       "    .dataframe thead th {\n",
       "        text-align: right;\n",
       "    }\n",
       "</style>\n",
       "<table border=\"1\" class=\"dataframe\">\n",
       "  <thead>\n",
       "    <tr style=\"text-align: right;\">\n",
       "      <th></th>\n",
       "      <th>product_id</th>\n",
       "      <th>quantity_signed</th>\n",
       "      <th>timestamp</th>\n",
       "    </tr>\n",
       "    <tr>\n",
       "      <th>log_id</th>\n",
       "      <th></th>\n",
       "      <th></th>\n",
       "      <th></th>\n",
       "    </tr>\n",
       "  </thead>\n",
       "  <tbody>\n",
       "    <tr>\n",
       "      <th>1</th>\n",
       "      <td>996381</td>\n",
       "      <td>228</td>\n",
       "      <td>2023-08-21 04:33:50.446753</td>\n",
       "    </tr>\n",
       "    <tr>\n",
       "      <th>4</th>\n",
       "      <td>997550</td>\n",
       "      <td>260</td>\n",
       "      <td>2024-09-03 20:47:37.637720</td>\n",
       "    </tr>\n",
       "    <tr>\n",
       "      <th>5</th>\n",
       "      <td>978028</td>\n",
       "      <td>263</td>\n",
       "      <td>2024-10-19 08:55:45.508647</td>\n",
       "    </tr>\n",
       "    <tr>\n",
       "      <th>6</th>\n",
       "      <td>990089</td>\n",
       "      <td>6</td>\n",
       "      <td>2025-06-02 12:53:02.444493</td>\n",
       "    </tr>\n",
       "    <tr>\n",
       "      <th>7</th>\n",
       "      <td>911658</td>\n",
       "      <td>87</td>\n",
       "      <td>2024-04-03 01:01:52.216227</td>\n",
       "    </tr>\n",
       "  </tbody>\n",
       "</table>\n",
       "</div>"
      ],
      "text/plain": [
       "       product_id  quantity_signed                  timestamp\n",
       "log_id                                                       \n",
       "1          996381              228 2023-08-21 04:33:50.446753\n",
       "4          997550              260 2024-09-03 20:47:37.637720\n",
       "5          978028              263 2024-10-19 08:55:45.508647\n",
       "6          990089                6 2025-06-02 12:53:02.444493\n",
       "7          911658               87 2024-04-03 01:01:52.216227"
      ]
     },
     "execution_count": 52,
     "metadata": {},
     "output_type": "execute_result"
    }
   ],
   "source": [
    "df_inventory[\"quantity_signed\"] = df_inventory.apply(\n",
    "    lambda row: -row[\"quantity_change\"]\n",
    "    if row[\"movement_type\"] == \"OUT\"\n",
    "    else row[\"quantity_change\"],\n",
    "    axis=1,\n",
    ")\n",
    "\n",
    "df_inventory = df_inventory[[\"product_id\", \"quantity_signed\", \"timestamp\"]]\n",
    "df_inventory[\"product_id\"] = df_inventory[\"product_id\"].astype(str)\n",
    "\n",
    "df_inventory.head()"
   ]
  },
  {
   "cell_type": "markdown",
   "id": "01e33716",
   "metadata": {},
   "source": [
    "Ahora que ya tenemos todo reducido a lo que necesitamos, podemos hacer un inner join entre el dataframe de productos y el de inventario, usando `product_id` como clave. Luego a esto lo podemos agrupar por producto y sumar los movimientos para obtener el inventario actual de cada producto."
   ]
  },
  {
   "cell_type": "code",
   "execution_count": null,
   "id": "b4b5a00e",
   "metadata": {},
   "outputs": [
    {
     "name": "stderr",
     "output_type": "stream",
     "text": [
      "/tmp/ipykernel_20876/362923857.py:7: FutureWarning: The default of observed=False is deprecated and will be changed to True in a future version of pandas. Pass observed=False to retain current behavior or observed=True to adopt the future default and silence this warning.\n",
      "  inventory_by_product = merged_products_inventory.groupby(\n"
     ]
    }
   ],
   "source": [
    "merged_products_inventory = pd.merge(\n",
    "    stuff_products, df_inventory,\n",
    "    left_index=True, right_on=\"product_id\",\n",
    "    how=\"inner\"\n",
    ")\n",
    "\n",
    "inventory_by_product = merged_products_inventory.groupby(observed=False\n",
    "    [\"product_id\", \"brand\", \"weight_kg\"]\n",
    ").agg(\n",
    "    total_inventory=(\"quantity_signed\", \"sum\")\n",
    ").reset_index()\n",
    "\n",
    "inventory_by_product"
   ]
  }
 ],
 "metadata": {
  "kernelspec": {
   "display_name": ".venv (3.12.3)",
   "language": "python",
   "name": "python3"
  },
  "language_info": {
   "codemirror_mode": {
    "name": "ipython",
    "version": 3
   },
   "file_extension": ".py",
   "mimetype": "text/x-python",
   "name": "python",
   "nbconvert_exporter": "python",
   "pygments_lexer": "ipython3",
   "version": "3.12.3"
  }
 },
 "nbformat": 4,
 "nbformat_minor": 5
}
