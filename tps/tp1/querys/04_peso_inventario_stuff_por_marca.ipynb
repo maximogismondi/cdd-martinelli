{
 "cells": [
  {
   "cell_type": "markdown",
   "id": "16a85890",
   "metadata": {},
   "source": [
    "> Para los productos que contienen en su descripción la palabra “stuff” (sin importar mayúsculas o minúsculas), calcular el peso total de su inventario agrupado por marca, mostrar sólo la marca y el peso total de las 5 más pesadas."
   ]
  },
  {
   "cell_type": "markdown",
   "id": "40b88a5e",
   "metadata": {},
   "source": [
    "Para esta consulta, vamos a usar los datasets `products` e `inventory_logs`."
   ]
  },
  {
   "cell_type": "markdown",
   "id": "da52e1ae",
   "metadata": {},
   "source": [
    "Vamos a empezar con lo más sencillo... filtrando y quedandonos con los productos que contienen \"stuff\" en su descripción."
   ]
  },
  {
   "cell_type": "code",
   "execution_count": 1,
   "id": "b2ee8c24",
   "metadata": {},
   "outputs": [
    {
     "name": "stdout",
     "output_type": "stream",
     "text": [
      "<class 'pandas.core.frame.DataFrame'>\n",
      "Index: 1000000 entries, 1 to 1000000\n",
      "Data columns (total 11 columns):\n",
      " #   Column          Non-Null Count    Dtype         \n",
      "---  ------          --------------    -----         \n",
      " 0   product_name    939819 non-null   string        \n",
      " 1   category_id     1000000 non-null  Int64         \n",
      " 2   brand           939944 non-null   category      \n",
      " 3   price           850000 non-null   Float64       \n",
      " 4   cost            850000 non-null   Float64       \n",
      " 5   stock_quantity  850000 non-null   Int64         \n",
      " 6   weight_kg       850000 non-null   Float64       \n",
      " 7   dimensions      940014 non-null   string        \n",
      " 8   description     939716 non-null   string        \n",
      " 9   is_active       1000000 non-null  boolean       \n",
      " 10  created_at      910329 non-null   datetime64[ns]\n",
      "dtypes: Float64(3), Int64(2), boolean(1), category(1), datetime64[ns](1), string(3)\n",
      "memory usage: 84.9+ MB\n"
     ]
    }
   ],
   "source": [
    "import pandas as pd\n",
    "\n",
    "products_df = pd.read_pickle('../data/clean/products.pkl')\n",
    "products_df.info()"
   ]
  },
  {
   "cell_type": "code",
   "execution_count": 70,
   "id": "6dc3b83c",
   "metadata": {},
   "outputs": [
    {
     "data": {
      "text/html": [
       "<div>\n",
       "<style scoped>\n",
       "    .dataframe tbody tr th:only-of-type {\n",
       "        vertical-align: middle;\n",
       "    }\n",
       "\n",
       "    .dataframe tbody tr th {\n",
       "        vertical-align: top;\n",
       "    }\n",
       "\n",
       "    .dataframe thead th {\n",
       "        text-align: right;\n",
       "    }\n",
       "</style>\n",
       "<table border=\"1\" class=\"dataframe\">\n",
       "  <thead>\n",
       "    <tr style=\"text-align: right;\">\n",
       "      <th></th>\n",
       "      <th>brand</th>\n",
       "      <th>weight_kg</th>\n",
       "    </tr>\n",
       "    <tr>\n",
       "      <th>product_id</th>\n",
       "      <th></th>\n",
       "      <th></th>\n",
       "    </tr>\n",
       "  </thead>\n",
       "  <tbody>\n",
       "    <tr>\n",
       "      <th>5</th>\n",
       "      <td>Ikea</td>\n",
       "      <td>31.47</td>\n",
       "    </tr>\n",
       "    <tr>\n",
       "      <th>23</th>\n",
       "      <td>La-Z-Boy</td>\n",
       "      <td>46.17</td>\n",
       "    </tr>\n",
       "    <tr>\n",
       "      <th>107</th>\n",
       "      <td>Dove</td>\n",
       "      <td>10.12</td>\n",
       "    </tr>\n",
       "    <tr>\n",
       "      <th>187</th>\n",
       "      <td>Warner Bros.</td>\n",
       "      <td>17.33</td>\n",
       "    </tr>\n",
       "    <tr>\n",
       "      <th>289</th>\n",
       "      <td>Yamaha</td>\n",
       "      <td>10.97</td>\n",
       "    </tr>\n",
       "    <tr>\n",
       "      <th>...</th>\n",
       "      <td>...</td>\n",
       "      <td>...</td>\n",
       "    </tr>\n",
       "    <tr>\n",
       "      <th>999793</th>\n",
       "      <td>Travelpro</td>\n",
       "      <td>48.84</td>\n",
       "    </tr>\n",
       "    <tr>\n",
       "      <th>999854</th>\n",
       "      <td>Trader Joe'S</td>\n",
       "      <td>27.03</td>\n",
       "    </tr>\n",
       "    <tr>\n",
       "      <th>999869</th>\n",
       "      <td>Ikea</td>\n",
       "      <td>46.19</td>\n",
       "    </tr>\n",
       "    <tr>\n",
       "      <th>999980</th>\n",
       "      <td>Frontline</td>\n",
       "      <td>3.54</td>\n",
       "    </tr>\n",
       "    <tr>\n",
       "      <th>999984</th>\n",
       "      <td>Godiva</td>\n",
       "      <td>22.08</td>\n",
       "    </tr>\n",
       "  </tbody>\n",
       "</table>\n",
       "<p>14605 rows × 2 columns</p>\n",
       "</div>"
      ],
      "text/plain": [
       "                   brand  weight_kg\n",
       "product_id                         \n",
       "5                   Ikea      31.47\n",
       "23              La-Z-Boy      46.17\n",
       "107                 Dove      10.12\n",
       "187         Warner Bros.      17.33\n",
       "289               Yamaha      10.97\n",
       "...                  ...        ...\n",
       "999793         Travelpro      48.84\n",
       "999854      Trader Joe'S      27.03\n",
       "999869              Ikea      46.19\n",
       "999980         Frontline       3.54\n",
       "999984            Godiva      22.08\n",
       "\n",
       "[14605 rows x 2 columns]"
      ]
     },
     "execution_count": 70,
     "metadata": {},
     "output_type": "execute_result"
    }
   ],
   "source": [
    "KEY_WORD = \"stuff\"\n",
    "\n",
    "REGEX_FILTER = rf\"\\b{KEY_WORD}\\b\"\n",
    "stuff_products = products_df[\n",
    "    products_df[\"description\"].str.contains(REGEX_FILTER, case=False, na=False)\n",
    "]\n",
    "\n",
    "stuff_products = stuff_products[[\"brand\", \"weight_kg\"]]\n",
    "stuff_products"
   ]
  },
  {
   "cell_type": "markdown",
   "id": "02073fc7",
   "metadata": {},
   "source": [
    "Ahora vamos a intentar reconstruir el inventario actual de cada producto. Para eso, vamos a usar el dataset `inventory_logs`, que tiene un registro de todas las entradas y salidas de inventario por producto con su cantidad y fecha."
   ]
  },
  {
   "cell_type": "code",
   "execution_count": 3,
   "id": "f956de4d",
   "metadata": {},
   "outputs": [
    {
     "name": "stdout",
     "output_type": "stream",
     "text": [
      "<class 'pandas.core.frame.DataFrame'>\n",
      "Index: 400000 entries, 1 to 400000\n",
      "Data columns (total 4 columns):\n",
      " #   Column           Non-Null Count   Dtype         \n",
      "---  ------           --------------   -----         \n",
      " 0   product_id       400000 non-null  Int64         \n",
      " 1   movement_type    364060 non-null  category      \n",
      " 2   quantity_change  340000 non-null  Int64         \n",
      " 3   timestamp        363851 non-null  datetime64[ns]\n",
      "dtypes: Int64(2), category(1), datetime64[ns](1)\n",
      "memory usage: 13.4+ MB\n"
     ]
    }
   ],
   "source": [
    "df_inventory = pd.read_pickle('../data/clean/inventory_logs.pkl')\n",
    "\n",
    "df_inventory = df_inventory[['product_id', 'movement_type', 'quantity_change', 'timestamp']]\n",
    "df_inventory.info()"
   ]
  },
  {
   "cell_type": "markdown",
   "id": "8da18fff",
   "metadata": {},
   "source": [
    "Como no podemos operar si no sabemos datos del producto, tipo de movimiento o cantidad, vamos a descartar las filas que tengan datos nulos en esas columnas y de a poco ir simplificando el dataframe. En el caso de los productos, ya tenemos todos como NO nulos así que no hace falta comprobar."
   ]
  },
  {
   "cell_type": "code",
   "execution_count": 4,
   "id": "424a75a5",
   "metadata": {},
   "outputs": [
    {
     "name": "stdout",
     "output_type": "stream",
     "text": [
      "<class 'pandas.core.frame.DataFrame'>\n",
      "Index: 309268 entries, 1 to 400000\n",
      "Data columns (total 4 columns):\n",
      " #   Column           Non-Null Count   Dtype         \n",
      "---  ------           --------------   -----         \n",
      " 0   product_id       309268 non-null  Int64         \n",
      " 1   movement_type    309268 non-null  category      \n",
      " 2   quantity_change  309268 non-null  Int64         \n",
      " 3   timestamp        281384 non-null  datetime64[ns]\n",
      "dtypes: Int64(2), category(1), datetime64[ns](1)\n",
      "memory usage: 10.3+ MB\n"
     ]
    }
   ],
   "source": [
    "df_inventory = df_inventory.dropna(\n",
    "    subset=[\"movement_type\", \"quantity_change\"]\n",
    ")\n",
    "df_inventory.info()"
   ]
  },
  {
   "cell_type": "markdown",
   "id": "cd2379fa",
   "metadata": {},
   "source": [
    "Luego sería ideal simplificar los movimientos a un solo valor real positivo o negativo, para poder sumar todo al final y obtener el inventario actual. Para eso, vamos a crear una nueva columna `quantity_signed` que va a tener el valor de `quantity_change` pero con el signo cambiado si el `movement_type` es \"OUT\". El otro caso es si el `movement_type` es \"ADJUSTMENT\", en ese caso vamos a asumir que el valor de `quantity_change` ya tiene el signo correcto y lo dejamos igual."
   ]
  },
  {
   "cell_type": "code",
   "execution_count": 5,
   "id": "bf88e183",
   "metadata": {},
   "outputs": [
    {
     "data": {
      "text/html": [
       "<div>\n",
       "<style scoped>\n",
       "    .dataframe tbody tr th:only-of-type {\n",
       "        vertical-align: middle;\n",
       "    }\n",
       "\n",
       "    .dataframe tbody tr th {\n",
       "        vertical-align: top;\n",
       "    }\n",
       "\n",
       "    .dataframe thead th {\n",
       "        text-align: right;\n",
       "    }\n",
       "</style>\n",
       "<table border=\"1\" class=\"dataframe\">\n",
       "  <thead>\n",
       "    <tr style=\"text-align: right;\">\n",
       "      <th></th>\n",
       "      <th>product_id</th>\n",
       "      <th>quantity_signed</th>\n",
       "      <th>timestamp</th>\n",
       "    </tr>\n",
       "    <tr>\n",
       "      <th>log_id</th>\n",
       "      <th></th>\n",
       "      <th></th>\n",
       "      <th></th>\n",
       "    </tr>\n",
       "  </thead>\n",
       "  <tbody>\n",
       "    <tr>\n",
       "      <th>1</th>\n",
       "      <td>996381</td>\n",
       "      <td>228</td>\n",
       "      <td>2023-08-21 04:33:50.446753</td>\n",
       "    </tr>\n",
       "    <tr>\n",
       "      <th>4</th>\n",
       "      <td>997550</td>\n",
       "      <td>260</td>\n",
       "      <td>2024-09-03 20:47:37.637720</td>\n",
       "    </tr>\n",
       "    <tr>\n",
       "      <th>5</th>\n",
       "      <td>978028</td>\n",
       "      <td>263</td>\n",
       "      <td>2024-10-19 08:55:45.508647</td>\n",
       "    </tr>\n",
       "    <tr>\n",
       "      <th>6</th>\n",
       "      <td>990089</td>\n",
       "      <td>6</td>\n",
       "      <td>2025-06-02 12:53:02.444493</td>\n",
       "    </tr>\n",
       "    <tr>\n",
       "      <th>7</th>\n",
       "      <td>911658</td>\n",
       "      <td>87</td>\n",
       "      <td>2024-04-03 01:01:52.216227</td>\n",
       "    </tr>\n",
       "  </tbody>\n",
       "</table>\n",
       "</div>"
      ],
      "text/plain": [
       "       product_id  quantity_signed                  timestamp\n",
       "log_id                                                       \n",
       "1          996381              228 2023-08-21 04:33:50.446753\n",
       "4          997550              260 2024-09-03 20:47:37.637720\n",
       "5          978028              263 2024-10-19 08:55:45.508647\n",
       "6          990089                6 2025-06-02 12:53:02.444493\n",
       "7          911658               87 2024-04-03 01:01:52.216227"
      ]
     },
     "execution_count": 5,
     "metadata": {},
     "output_type": "execute_result"
    }
   ],
   "source": [
    "df_inventory[\"quantity_signed\"] = df_inventory.apply(\n",
    "    lambda row: -row[\"quantity_change\"]\n",
    "    if row[\"movement_type\"] == \"OUT\"\n",
    "    else row[\"quantity_change\"],\n",
    "    axis=1,\n",
    ")\n",
    "\n",
    "df_inventory = df_inventory[[\"product_id\", \"quantity_signed\", \"timestamp\"]]\n",
    "df_inventory[\"product_id\"] = df_inventory[\"product_id\"].astype(str)\n",
    "\n",
    "df_inventory.head()"
   ]
  },
  {
   "cell_type": "markdown",
   "id": "01e33716",
   "metadata": {},
   "source": [
    "Ahora que ya tenemos todo reducido a lo que necesitamos, podemos hacer un inner join entre el dataframe de productos y el de inventario, usando `product_id` como clave. Luego a esto lo podemos agrupar por producto y sumar los movimientos para obtener el inventario actual de cada producto."
   ]
  },
  {
   "cell_type": "code",
   "execution_count": 6,
   "id": "b4b5a00e",
   "metadata": {},
   "outputs": [
    {
     "name": "stdout",
     "output_type": "stream",
     "text": [
      "<class 'pandas.core.frame.DataFrame'>\n",
      "Index: 4750 entries, 20301 to 274325\n",
      "Data columns (total 5 columns):\n",
      " #   Column           Non-Null Count  Dtype         \n",
      "---  ------           --------------  -----         \n",
      " 0   brand            4453 non-null   category      \n",
      " 1   weight_kg        4038 non-null   Float64       \n",
      " 2   product_id       4750 non-null   object        \n",
      " 3   quantity_signed  4750 non-null   int64         \n",
      " 4   timestamp        4292 non-null   datetime64[ns]\n",
      "dtypes: Float64(1), category(1), datetime64[ns](1), int64(1), object(1)\n",
      "memory usage: 200.7+ KB\n"
     ]
    }
   ],
   "source": [
    "merged_products_inventory = pd.merge(\n",
    "    stuff_products, df_inventory, left_index=True, right_on=\"product_id\", how=\"inner\"\n",
    ")\n",
    "\n",
    "merged_products_inventory.info()"
   ]
  },
  {
   "cell_type": "code",
   "execution_count": 12,
   "id": "bae1db29",
   "metadata": {},
   "outputs": [
    {
     "name": "stdout",
     "output_type": "stream",
     "text": [
      "<class 'pandas.core.frame.DataFrame'>\n",
      "Index: 1458 entries, 900142 to 999984\n",
      "Data columns (total 3 columns):\n",
      " #   Column           Non-Null Count  Dtype   \n",
      "---  ------           --------------  -----   \n",
      " 0   brand            1368 non-null   category\n",
      " 1   weight_kg        1236 non-null   Float64 \n",
      " 2   quantity_signed  1458 non-null   int64   \n",
      "dtypes: Float64(1), category(1), int64(1)\n",
      "memory usage: 39.7+ KB\n"
     ]
    }
   ],
   "source": [
    "inventory_by_product = merged_products_inventory.groupby([\"product_id\"]).agg(\n",
    "    {\n",
    "        \"brand\": \"first\",  # en este caso como todas las filas de un producto tienen la misma marca, podemos usar \"first\"\n",
    "        \"weight_kg\": \"first\",  # IDEM\n",
    "        \"quantity_signed\": \"sum\",\n",
    "    }\n",
    ")\n",
    "\n",
    "inventory_by_product.info()"
   ]
  },
  {
   "cell_type": "code",
   "execution_count": 13,
   "id": "e3edcd79",
   "metadata": {},
   "outputs": [
    {
     "data": {
      "text/html": [
       "<div>\n",
       "<style scoped>\n",
       "    .dataframe tbody tr th:only-of-type {\n",
       "        vertical-align: middle;\n",
       "    }\n",
       "\n",
       "    .dataframe tbody tr th {\n",
       "        vertical-align: top;\n",
       "    }\n",
       "\n",
       "    .dataframe thead th {\n",
       "        text-align: right;\n",
       "    }\n",
       "</style>\n",
       "<table border=\"1\" class=\"dataframe\">\n",
       "  <thead>\n",
       "    <tr style=\"text-align: right;\">\n",
       "      <th></th>\n",
       "      <th>weight_kg</th>\n",
       "      <th>quantity_signed</th>\n",
       "    </tr>\n",
       "  </thead>\n",
       "  <tbody>\n",
       "    <tr>\n",
       "      <th>count</th>\n",
       "      <td>1236.0</td>\n",
       "      <td>1458.000000</td>\n",
       "    </tr>\n",
       "    <tr>\n",
       "      <th>mean</th>\n",
       "      <td>24.917298</td>\n",
       "      <td>551.434842</td>\n",
       "    </tr>\n",
       "    <tr>\n",
       "      <th>std</th>\n",
       "      <td>14.469504</td>\n",
       "      <td>422.360405</td>\n",
       "    </tr>\n",
       "    <tr>\n",
       "      <th>min</th>\n",
       "      <td>0.1</td>\n",
       "      <td>-202.000000</td>\n",
       "    </tr>\n",
       "    <tr>\n",
       "      <th>25%</th>\n",
       "      <td>12.2375</td>\n",
       "      <td>227.000000</td>\n",
       "    </tr>\n",
       "    <tr>\n",
       "      <th>50%</th>\n",
       "      <td>25.605</td>\n",
       "      <td>486.500000</td>\n",
       "    </tr>\n",
       "    <tr>\n",
       "      <th>75%</th>\n",
       "      <td>37.34</td>\n",
       "      <td>815.750000</td>\n",
       "    </tr>\n",
       "    <tr>\n",
       "      <th>max</th>\n",
       "      <td>49.96</td>\n",
       "      <td>2558.000000</td>\n",
       "    </tr>\n",
       "  </tbody>\n",
       "</table>\n",
       "</div>"
      ],
      "text/plain": [
       "       weight_kg  quantity_signed\n",
       "count     1236.0      1458.000000\n",
       "mean   24.917298       551.434842\n",
       "std    14.469504       422.360405\n",
       "min          0.1      -202.000000\n",
       "25%      12.2375       227.000000\n",
       "50%       25.605       486.500000\n",
       "75%        37.34       815.750000\n",
       "max        49.96      2558.000000"
      ]
     },
     "execution_count": 13,
     "metadata": {},
     "output_type": "execute_result"
    }
   ],
   "source": [
    "inventory_by_product.describe()"
   ]
  },
  {
   "cell_type": "markdown",
   "id": "f802ffb2",
   "metadata": {},
   "source": [
    "Ya con toda esta información podemos calcular el peso total del inventario por marca. Para esto primero vamos a crear una nueva columna que calcule el peso total del inventario de cada producto, multiplicando el peso por unidad por la cantidad en inventario. Luego podemos agrupar por marca y sumar los pesos totales para obtener el peso total del inventario por marca.\n",
    "\n",
    "Como aclaración, es normal que tengamos productos con inventario negativo, ya que en el dataset del inventario descartamos algunos movimientos con información incompleta que pueden haber afectado el inventario final de algunos productos. Obviamente esto podría ser también un problema en la vida real donde se hayan pasado por alto algunos IN/OUT/ADJUSTMENT, pero para este ejercicio vamos a trabajar con lo que tenemos.\n",
    "\n",
    "Como decisión de diseño, vamos a descartar los productos que tienen peso nulo o que la cantidad según el inventario es menor o igual a 0, ya que probablemente distorsionen el resultado final."
   ]
  },
  {
   "cell_type": "code",
   "execution_count": 68,
   "id": "c7bc6ccf",
   "metadata": {},
   "outputs": [
    {
     "data": {
      "text/html": [
       "<div>\n",
       "<style scoped>\n",
       "    .dataframe tbody tr th:only-of-type {\n",
       "        vertical-align: middle;\n",
       "    }\n",
       "\n",
       "    .dataframe tbody tr th {\n",
       "        vertical-align: top;\n",
       "    }\n",
       "\n",
       "    .dataframe thead th {\n",
       "        text-align: right;\n",
       "    }\n",
       "</style>\n",
       "<table border=\"1\" class=\"dataframe\">\n",
       "  <thead>\n",
       "    <tr style=\"text-align: right;\">\n",
       "      <th></th>\n",
       "      <th>brand</th>\n",
       "      <th>total_weight_kg</th>\n",
       "    </tr>\n",
       "    <tr>\n",
       "      <th>product_id</th>\n",
       "      <th></th>\n",
       "      <th></th>\n",
       "    </tr>\n",
       "  </thead>\n",
       "  <tbody>\n",
       "    <tr>\n",
       "      <th>900142</th>\n",
       "      <td>Trader Joe'S</td>\n",
       "      <td>12602.86</td>\n",
       "    </tr>\n",
       "    <tr>\n",
       "      <th>900157</th>\n",
       "      <td>Dr. Martens</td>\n",
       "      <td>11651.04</td>\n",
       "    </tr>\n",
       "    <tr>\n",
       "      <th>900229</th>\n",
       "      <td>Winsor &amp; Newton</td>\n",
       "      <td>21534.75</td>\n",
       "    </tr>\n",
       "    <tr>\n",
       "      <th>900247</th>\n",
       "      <td>Ticketmaster</td>\n",
       "      <td>3887.76</td>\n",
       "    </tr>\n",
       "    <tr>\n",
       "      <th>900294</th>\n",
       "      <td>Lowe'S</td>\n",
       "      <td>4492.28</td>\n",
       "    </tr>\n",
       "    <tr>\n",
       "      <th>...</th>\n",
       "      <td>...</td>\n",
       "      <td>...</td>\n",
       "    </tr>\n",
       "    <tr>\n",
       "      <th>999793</th>\n",
       "      <td>Travelpro</td>\n",
       "      <td>1123.32</td>\n",
       "    </tr>\n",
       "    <tr>\n",
       "      <th>999854</th>\n",
       "      <td>Trader Joe'S</td>\n",
       "      <td>6027.69</td>\n",
       "    </tr>\n",
       "    <tr>\n",
       "      <th>999869</th>\n",
       "      <td>Ikea</td>\n",
       "      <td>35612.49</td>\n",
       "    </tr>\n",
       "    <tr>\n",
       "      <th>999980</th>\n",
       "      <td>Frontline</td>\n",
       "      <td>513.3</td>\n",
       "    </tr>\n",
       "    <tr>\n",
       "      <th>999984</th>\n",
       "      <td>Godiva</td>\n",
       "      <td>13181.76</td>\n",
       "    </tr>\n",
       "  </tbody>\n",
       "</table>\n",
       "<p>1162 rows × 2 columns</p>\n",
       "</div>"
      ],
      "text/plain": [
       "                      brand  total_weight_kg\n",
       "product_id                                  \n",
       "900142         Trader Joe'S         12602.86\n",
       "900157          Dr. Martens         11651.04\n",
       "900229      Winsor & Newton         21534.75\n",
       "900247         Ticketmaster          3887.76\n",
       "900294               Lowe'S          4492.28\n",
       "...                     ...              ...\n",
       "999793            Travelpro          1123.32\n",
       "999854         Trader Joe'S          6027.69\n",
       "999869                 Ikea         35612.49\n",
       "999980            Frontline            513.3\n",
       "999984               Godiva         13181.76\n",
       "\n",
       "[1162 rows x 2 columns]"
      ]
     },
     "execution_count": 68,
     "metadata": {},
     "output_type": "execute_result"
    }
   ],
   "source": [
    "inventory_by_product = inventory_by_product.dropna(subset=[\"weight_kg\"])\n",
    "inventory_by_product = inventory_by_product[inventory_by_product[\"quantity_signed\"] > 0]\n",
    "\n",
    "inventory_by_product[\"total_weight_kg\"] = (\n",
    "    inventory_by_product[\"weight_kg\"] * inventory_by_product[\"quantity_signed\"]\n",
    ")\n",
    "\n",
    "weight_by_product = inventory_by_product[[\"brand\", \"total_weight_kg\"]]\n",
    "weight_by_product"
   ]
  },
  {
   "cell_type": "code",
   "execution_count": 66,
   "id": "604cc13a",
   "metadata": {},
   "outputs": [
    {
     "data": {
      "text/html": [
       "<div>\n",
       "<style scoped>\n",
       "    .dataframe tbody tr th:only-of-type {\n",
       "        vertical-align: middle;\n",
       "    }\n",
       "\n",
       "    .dataframe tbody tr th {\n",
       "        vertical-align: top;\n",
       "    }\n",
       "\n",
       "    .dataframe thead th {\n",
       "        text-align: right;\n",
       "    }\n",
       "</style>\n",
       "<table border=\"1\" class=\"dataframe\">\n",
       "  <thead>\n",
       "    <tr style=\"text-align: right;\">\n",
       "      <th></th>\n",
       "      <th>total_inventory_weight_kg</th>\n",
       "      <th>product_count</th>\n",
       "    </tr>\n",
       "  </thead>\n",
       "  <tbody>\n",
       "    <tr>\n",
       "      <th>count</th>\n",
       "      <td>153.0</td>\n",
       "      <td>153.0</td>\n",
       "    </tr>\n",
       "    <tr>\n",
       "      <th>mean</th>\n",
       "      <td>105288.910327</td>\n",
       "      <td>7.111111</td>\n",
       "    </tr>\n",
       "    <tr>\n",
       "      <th>std</th>\n",
       "      <td>70533.52866</td>\n",
       "      <td>3.931244</td>\n",
       "    </tr>\n",
       "    <tr>\n",
       "      <th>min</th>\n",
       "      <td>525.4</td>\n",
       "      <td>1.0</td>\n",
       "    </tr>\n",
       "    <tr>\n",
       "      <th>25%</th>\n",
       "      <td>55786.08</td>\n",
       "      <td>5.0</td>\n",
       "    </tr>\n",
       "    <tr>\n",
       "      <th>50%</th>\n",
       "      <td>91403.01</td>\n",
       "      <td>7.0</td>\n",
       "    </tr>\n",
       "    <tr>\n",
       "      <th>75%</th>\n",
       "      <td>129844.8</td>\n",
       "      <td>8.0</td>\n",
       "    </tr>\n",
       "    <tr>\n",
       "      <th>max</th>\n",
       "      <td>491074.67</td>\n",
       "      <td>32.0</td>\n",
       "    </tr>\n",
       "  </tbody>\n",
       "</table>\n",
       "</div>"
      ],
      "text/plain": [
       "       total_inventory_weight_kg  product_count\n",
       "count                      153.0          153.0\n",
       "mean               105288.910327       7.111111\n",
       "std                  70533.52866       3.931244\n",
       "min                        525.4            1.0\n",
       "25%                     55786.08            5.0\n",
       "50%                     91403.01            7.0\n",
       "75%                     129844.8            8.0\n",
       "max                    491074.67           32.0"
      ]
     },
     "execution_count": 66,
     "metadata": {},
     "output_type": "execute_result"
    }
   ],
   "source": [
    "weight_by_brand = weight_by_product.groupby(\"brand\", observed=True).agg(\n",
    "    total_inventory_weight_kg=(\"total_weight_kg\", \"sum\"),\n",
    "    product_count=(\"total_weight_kg\", \"count\"),\n",
    ")\n",
    "\n",
    "weight_by_brand"
   ]
  },
  {
   "cell_type": "markdown",
   "id": "01bf1acc",
   "metadata": {},
   "source": [
    "Ahora tenemos el peso total del inventario por marca, nos resta encontrar los 5 más pesadas. Antes vamos a ver un poco las estadísticas descriptivas para entender mejor los datos."
   ]
  },
  {
   "cell_type": "code",
   "execution_count": 57,
   "id": "17cce6dd",
   "metadata": {},
   "outputs": [
    {
     "data": {
      "text/html": [
       "<div>\n",
       "<style scoped>\n",
       "    .dataframe tbody tr th:only-of-type {\n",
       "        vertical-align: middle;\n",
       "    }\n",
       "\n",
       "    .dataframe tbody tr th {\n",
       "        vertical-align: top;\n",
       "    }\n",
       "\n",
       "    .dataframe thead th {\n",
       "        text-align: right;\n",
       "    }\n",
       "</style>\n",
       "<table border=\"1\" class=\"dataframe\">\n",
       "  <thead>\n",
       "    <tr style=\"text-align: right;\">\n",
       "      <th></th>\n",
       "      <th>total_inventory_weight_kg</th>\n",
       "      <th>product_count</th>\n",
       "    </tr>\n",
       "  </thead>\n",
       "  <tbody>\n",
       "    <tr>\n",
       "      <th>count</th>\n",
       "      <td>155.0</td>\n",
       "      <td>155.0</td>\n",
       "    </tr>\n",
       "    <tr>\n",
       "      <th>mean</th>\n",
       "      <td>103930.343742</td>\n",
       "      <td>7.019355</td>\n",
       "    </tr>\n",
       "    <tr>\n",
       "      <th>std</th>\n",
       "      <td>71080.811081</td>\n",
       "      <td>3.987759</td>\n",
       "    </tr>\n",
       "    <tr>\n",
       "      <th>min</th>\n",
       "      <td>0.0</td>\n",
       "      <td>0.0</td>\n",
       "    </tr>\n",
       "    <tr>\n",
       "      <th>25%</th>\n",
       "      <td>53987.15</td>\n",
       "      <td>5.0</td>\n",
       "    </tr>\n",
       "    <tr>\n",
       "      <th>50%</th>\n",
       "      <td>91344.99</td>\n",
       "      <td>7.0</td>\n",
       "    </tr>\n",
       "    <tr>\n",
       "      <th>75%</th>\n",
       "      <td>129543.09</td>\n",
       "      <td>8.0</td>\n",
       "    </tr>\n",
       "    <tr>\n",
       "      <th>max</th>\n",
       "      <td>491074.67</td>\n",
       "      <td>32.0</td>\n",
       "    </tr>\n",
       "  </tbody>\n",
       "</table>\n",
       "</div>"
      ],
      "text/plain": [
       "       total_inventory_weight_kg  product_count\n",
       "count                      155.0          155.0\n",
       "mean               103930.343742       7.019355\n",
       "std                 71080.811081       3.987759\n",
       "min                          0.0            0.0\n",
       "25%                     53987.15            5.0\n",
       "50%                     91344.99            7.0\n",
       "75%                    129543.09            8.0\n",
       "max                    491074.67           32.0"
      ]
     },
     "execution_count": 57,
     "metadata": {},
     "output_type": "execute_result"
    }
   ],
   "source": [
    "weight_by_brand.describe()"
   ]
  },
  {
   "cell_type": "markdown",
   "id": "8ece2b11",
   "metadata": {},
   "source": [
    "En este caso la información esta bastante dispersa, no se encuentra todo concentrado al rededor de un valor puntual. La media nos indica que 100k kg por marca con un desvió de 70k kg. Vamos a graficar un violín plot para ver mejor la distribución de las marcas."
   ]
  },
  {
   "cell_type": "code",
   "execution_count": 42,
   "id": "b7705c75",
   "metadata": {},
   "outputs": [
    {
     "data": {
      "image/png": "[encoded data removed]",
      "text/plain": [
       "<Figure size 1000x600 with 1 Axes>"
      ]
     },
     "metadata": {},
     "output_type": "display_data"
    }
   ],
   "source": [
    "import seaborn as sns\n",
    "import matplotlib.pyplot as plt\n",
    "\n",
    "serie = weight_by_brand[\"total_inventory_weight_kg\"]\n",
    "color = \"#1976D2\"\n",
    "\n",
    "plt.figure(figsize=(10, 6))\n",
    "ax = sns.violinplot(y=serie, color=color, inner=None, cut=0)\n",
    "\n",
    "mean_val = serie.mean()\n",
    "median_val = serie.median()\n",
    "q1 = serie.quantile(0.25)\n",
    "q3 = serie.quantile(0.75)\n",
    "\n",
    "ax.axhline(mean_val, color=\"#D32F2F\", linestyle=\"-\", linewidth=1.8, label=\"Media\")\n",
    "ax.axhline(median_val, color=\"#000000\", linestyle=\"--\", linewidth=1.6, label=\"Mediana\")\n",
    "ax.axhline(q1, color=\"#616161\", linestyle=\":\", linewidth=1.4, label=\"Q1\")\n",
    "ax.axhline(q3, color=\"#616161\", linestyle=\":\", linewidth=1.4, label=\"Q3\")\n",
    "\n",
    "ax.yaxis.grid(True, linestyle=\"--\", alpha=0.35)\n",
    "ax.set_title(\"Distribución del peso total del inventario por marca\")\n",
    "ax.set_xlabel(\"\")\n",
    "ax.set_ylabel(\"Peso total del inventario (kg)\")\n",
    "ax.legend(loc=\"upper right\")\n",
    "plt.show()"
   ]
  },
  {
   "cell_type": "markdown",
   "id": "913c88e7",
   "metadata": {},
   "source": [
    "En esta visualización podemos ver que hay muchas marcas que se comportan de forma \"normal\" respecto a los datos pero tenemos algunos outliers que aparecen entre los 400k y 500k que sean los que probablemente terminen en el top 5 marcas más pesadas.\n",
    "\n",
    "Vamos a ver de paso con un gráfico de caja cuantos outliers tenemos aproximadamente ya que el violín plot suaviza mucho la información y puede que se distorsione un poco la realidad."
   ]
  },
  {
   "cell_type": "code",
   "execution_count": 47,
   "id": "2e56c71f",
   "metadata": {},
   "outputs": [
    {
     "data": {
      "image/png": "[encoded data removed]",
      "text/plain": [
       "<Figure size 1000x400 with 1 Axes>"
      ]
     },
     "metadata": {},
     "output_type": "display_data"
    }
   ],
   "source": [
    "serie = weight_by_brand[\"total_inventory_weight_kg\"]\n",
    "\n",
    "plt.figure(figsize=(10, 4))\n",
    "ax = sns.boxplot(x=serie, color=\"#1976D2\", fliersize=3, linewidth=1.2, whis=1.5)\n",
    "ax.xaxis.grid(True, linestyle=\"--\", alpha=0.35)\n",
    "ax.set_title(\"Outliers del peso total del inventario por marca\")\n",
    "ax.set_xlabel(\"Peso total del inventario (kg)\")\n",
    "ax.set_ylabel(\"\")\n",
    "plt.show()"
   ]
  },
  {
   "cell_type": "markdown",
   "id": "ba7dda5b",
   "metadata": {},
   "source": [
    "Particularmente vemos un outlier muy marcado que está cerca de los 500k kg y algunos más cerca de los 250k kg que aunque más raros, se encuentran en un rango de valores normales y es normal que aparezcan valores por fuera de los bigotes sobre todo si el devío estandar es grande y la cantidad de marcas es relativamente alta (150 aproximadamente)."
   ]
  },
  {
   "cell_type": "markdown",
   "id": "a220457f",
   "metadata": {},
   "source": [
    "Ya dadas las hipótesis, pasemos a ver las 5 marcas más pesadas."
   ]
  },
  {
   "cell_type": "code",
   "execution_count": 49,
   "id": "8e4693c8",
   "metadata": {},
   "outputs": [
    {
     "data": {
      "text/html": [
       "<div>\n",
       "<style scoped>\n",
       "    .dataframe tbody tr th:only-of-type {\n",
       "        vertical-align: middle;\n",
       "    }\n",
       "\n",
       "    .dataframe tbody tr th {\n",
       "        vertical-align: top;\n",
       "    }\n",
       "\n",
       "    .dataframe thead th {\n",
       "        text-align: right;\n",
       "    }\n",
       "</style>\n",
       "<table border=\"1\" class=\"dataframe\">\n",
       "  <thead>\n",
       "    <tr style=\"text-align: right;\">\n",
       "      <th></th>\n",
       "      <th>total_inventory_weight_kg</th>\n",
       "      <th>product_count</th>\n",
       "    </tr>\n",
       "    <tr>\n",
       "      <th>brand</th>\n",
       "      <th></th>\n",
       "      <th></th>\n",
       "    </tr>\n",
       "  </thead>\n",
       "  <tbody>\n",
       "    <tr>\n",
       "      <th>Undefined</th>\n",
       "      <td>491074.67</td>\n",
       "      <td>32</td>\n",
       "    </tr>\n",
       "    <tr>\n",
       "      <th>Gardena</th>\n",
       "      <td>283674.25</td>\n",
       "      <td>14</td>\n",
       "    </tr>\n",
       "    <tr>\n",
       "      <th>Vetriscience</th>\n",
       "      <td>272768.03</td>\n",
       "      <td>12</td>\n",
       "    </tr>\n",
       "    <tr>\n",
       "      <th>Adidas</th>\n",
       "      <td>261657.25</td>\n",
       "      <td>14</td>\n",
       "    </tr>\n",
       "    <tr>\n",
       "      <th>Bosch</th>\n",
       "      <td>257753.56</td>\n",
       "      <td>13</td>\n",
       "    </tr>\n",
       "  </tbody>\n",
       "</table>\n",
       "</div>"
      ],
      "text/plain": [
       "              total_inventory_weight_kg  product_count\n",
       "brand                                                 \n",
       "Undefined                     491074.67             32\n",
       "Gardena                       283674.25             14\n",
       "Vetriscience                  272768.03             12\n",
       "Adidas                        261657.25             14\n",
       "Bosch                         257753.56             13"
      ]
     },
     "execution_count": 49,
     "metadata": {},
     "output_type": "execute_result"
    }
   ],
   "source": [
    "TOP_N_BRANDS = 5\n",
    "\n",
    "sorted_brands_by_total_weight = weight_by_brand.sort_values(by=\"total_inventory_weight_kg\", ascending=False)\n",
    "top_n_brands = sorted_brands_by_total_weight.head(TOP_N_BRANDS)\n",
    "\n",
    "top_n_brands"
   ]
  },
  {
   "cell_type": "markdown",
   "id": "5268f0b6",
   "metadata": {},
   "source": [
    "Ahí sale a relucir el outlier que vimos en el gráfico de caja, la marca que generaba disturbios en la distribución es aquella de los valores nulos ya que nunca descartamos estos valores y es la categoría donde caen todos los productos sin marca.\n",
    "\n",
    "Para tener un mejor análisis, podemos hacer un análisis equivalente pero sin considerar los productos sin marca, ya que es un caso especial y no nos habla de cuales marcas son las que más inventario acumulan."
   ]
  },
  {
   "cell_type": "code",
   "execution_count": 76,
   "id": "7904c1be",
   "metadata": {},
   "outputs": [
    {
     "data": {
      "text/html": [
       "<div>\n",
       "<style scoped>\n",
       "    .dataframe tbody tr th:only-of-type {\n",
       "        vertical-align: middle;\n",
       "    }\n",
       "\n",
       "    .dataframe tbody tr th {\n",
       "        vertical-align: top;\n",
       "    }\n",
       "\n",
       "    .dataframe thead th {\n",
       "        text-align: right;\n",
       "    }\n",
       "</style>\n",
       "<table border=\"1\" class=\"dataframe\">\n",
       "  <thead>\n",
       "    <tr style=\"text-align: right;\">\n",
       "      <th></th>\n",
       "      <th>total_inventory_weight_kg</th>\n",
       "      <th>product_count</th>\n",
       "    </tr>\n",
       "  </thead>\n",
       "  <tbody>\n",
       "    <tr>\n",
       "      <th>count</th>\n",
       "      <td>152.0</td>\n",
       "      <td>152.0</td>\n",
       "    </tr>\n",
       "    <tr>\n",
       "      <th>mean</th>\n",
       "      <td>102750.846118</td>\n",
       "      <td>6.947368</td>\n",
       "    </tr>\n",
       "    <tr>\n",
       "      <th>std</th>\n",
       "      <td>63370.400455</td>\n",
       "      <td>3.380484</td>\n",
       "    </tr>\n",
       "    <tr>\n",
       "      <th>min</th>\n",
       "      <td>525.4</td>\n",
       "      <td>1.0</td>\n",
       "    </tr>\n",
       "    <tr>\n",
       "      <th>25%</th>\n",
       "      <td>55401.7775</td>\n",
       "      <td>5.0</td>\n",
       "    </tr>\n",
       "    <tr>\n",
       "      <th>50%</th>\n",
       "      <td>91374.0</td>\n",
       "      <td>7.0</td>\n",
       "    </tr>\n",
       "    <tr>\n",
       "      <th>75%</th>\n",
       "      <td>129392.235</td>\n",
       "      <td>8.0</td>\n",
       "    </tr>\n",
       "    <tr>\n",
       "      <th>max</th>\n",
       "      <td>283674.25</td>\n",
       "      <td>23.0</td>\n",
       "    </tr>\n",
       "  </tbody>\n",
       "</table>\n",
       "</div>"
      ],
      "text/plain": [
       "       total_inventory_weight_kg  product_count\n",
       "count                      152.0          152.0\n",
       "mean               102750.846118       6.947368\n",
       "std                 63370.400455       3.380484\n",
       "min                        525.4            1.0\n",
       "25%                   55401.7775            5.0\n",
       "50%                      91374.0            7.0\n",
       "75%                   129392.235            8.0\n",
       "max                    283674.25           23.0"
      ]
     },
     "execution_count": 76,
     "metadata": {},
     "output_type": "execute_result"
    }
   ],
   "source": [
    "non_null_brands = weight_by_brand.dropna()\n",
    "non_null_brands = non_null_brands[non_null_brands.index != \"Undefined\"]\n",
    "\n",
    "non_null_brands.describe()"
   ]
  },
  {
   "cell_type": "markdown",
   "id": "e42baf00",
   "metadata": {},
   "source": [
    "Como vemos, ahora el outlier desaparece y la distribución de los datos es mucho más normal, con una media de 100k kg y un desvió de 63k kg. Podemos ver la difrerencia de la distribución con un nuevo violin plot más un gráfico de caja."
   ]
  },
  {
   "cell_type": "code",
   "execution_count": 87,
   "id": "34d00232",
   "metadata": {},
   "outputs": [
    {
     "data": {
      "image/png": "[encoded data removed]",
      "text/plain": [
       "<Figure size 1000x600 with 1 Axes>"
      ]
     },
     "metadata": {},
     "output_type": "display_data"
    },
    {
     "data": {
      "image/png": "[encoded data removed]",
      "text/plain": [
       "<Figure size 640x480 with 1 Axes>"
      ]
     },
     "metadata": {},
     "output_type": "display_data"
    }
   ],
   "source": [
    "serie = non_null_brands[\"total_inventory_weight_kg\"]\n",
    "color = \"#4BDB12\"\n",
    "\n",
    "plt.figure(figsize=(10, 6))\n",
    "ax = sns.violinplot(y=serie, color=color, cut=0)\n",
    "\n",
    "mean_val = serie.mean()\n",
    "median_val = serie.median()\n",
    "q1 = serie.quantile(0.25)\n",
    "q3 = serie.quantile(0.75)\n",
    "\n",
    "ax.axhline(mean_val, color=\"#D32F2F\", linestyle=\"-\", linewidth=1.8, label=\"Media\")\n",
    "ax.axhline(median_val, color=\"#000000\", linestyle=\"--\", linewidth=1.6, label=\"Mediana\")\n",
    "ax.axhline(q1, color=\"#616161\", linestyle=\":\", linewidth=1.4, label=\"Q1\")\n",
    "ax.axhline(q3, color=\"#616161\", linestyle=\":\", linewidth=1.4, label=\"Q3\")\n",
    "\n",
    "ax.yaxis.grid(True, linestyle=\"--\", alpha=0.35)\n",
    "ax.set_title(\"Distribución del peso total del inventario por marca\")\n",
    "ax.set_xlabel(\"\")\n",
    "ax.set_ylabel(\"Peso total del inventario (kg)\")\n",
    "ax.legend(loc=\"upper right\")\n",
    "plt.show()\n",
    "\n",
    "ax = sns.boxplot(x=serie, color=color, fliersize=3, linewidth=1.2, whis=1.5)\n",
    "ax.xaxis.grid(True, linestyle=\"--\", alpha=0.35)\n",
    "ax.set_title(\"Outliers del peso total del inventario por marca\")\n",
    "ax.set_xlabel(\"Peso total del inventario (kg)\")\n",
    "ax.set_ylabel(\"\")\n",
    "plt.show()"
   ]
  },
  {
   "cell_type": "markdown",
   "id": "e7e82a84",
   "metadata": {},
   "source": [
    "Claramente ahora la distribución es mucho más normal y estos outliers son más realistas y resultarán aquellos en el TOP 5."
   ]
  },
  {
   "cell_type": "code",
   "execution_count": 88,
   "id": "ad17d4bf",
   "metadata": {},
   "outputs": [
    {
     "data": {
      "text/html": [
       "<div>\n",
       "<style scoped>\n",
       "    .dataframe tbody tr th:only-of-type {\n",
       "        vertical-align: middle;\n",
       "    }\n",
       "\n",
       "    .dataframe tbody tr th {\n",
       "        vertical-align: top;\n",
       "    }\n",
       "\n",
       "    .dataframe thead th {\n",
       "        text-align: right;\n",
       "    }\n",
       "</style>\n",
       "<table border=\"1\" class=\"dataframe\">\n",
       "  <thead>\n",
       "    <tr style=\"text-align: right;\">\n",
       "      <th></th>\n",
       "      <th>total_inventory_weight_kg</th>\n",
       "      <th>product_count</th>\n",
       "    </tr>\n",
       "    <tr>\n",
       "      <th>brand</th>\n",
       "      <th></th>\n",
       "      <th></th>\n",
       "    </tr>\n",
       "  </thead>\n",
       "  <tbody>\n",
       "    <tr>\n",
       "      <th>Gardena</th>\n",
       "      <td>283674.25</td>\n",
       "      <td>14</td>\n",
       "    </tr>\n",
       "    <tr>\n",
       "      <th>Vetriscience</th>\n",
       "      <td>272768.03</td>\n",
       "      <td>12</td>\n",
       "    </tr>\n",
       "    <tr>\n",
       "      <th>Adidas</th>\n",
       "      <td>261657.25</td>\n",
       "      <td>14</td>\n",
       "    </tr>\n",
       "    <tr>\n",
       "      <th>Bosch</th>\n",
       "      <td>257753.56</td>\n",
       "      <td>13</td>\n",
       "    </tr>\n",
       "    <tr>\n",
       "      <th>Stubhub</th>\n",
       "      <td>255881.28</td>\n",
       "      <td>12</td>\n",
       "    </tr>\n",
       "  </tbody>\n",
       "</table>\n",
       "</div>"
      ],
      "text/plain": [
       "              total_inventory_weight_kg  product_count\n",
       "brand                                                 \n",
       "Gardena                       283674.25             14\n",
       "Vetriscience                  272768.03             12\n",
       "Adidas                        261657.25             14\n",
       "Bosch                         257753.56             13\n",
       "Stubhub                       255881.28             12"
      ]
     },
     "execution_count": 88,
     "metadata": {},
     "output_type": "execute_result"
    }
   ],
   "source": [
    "sorted_non_null_brands = non_null_brands.sort_values(by=\"total_inventory_weight_kg\", ascending=False)\n",
    "top_n_non_null_brands = sorted_non_null_brands.head(TOP_N_BRANDS)\n",
    "\n",
    "top_n_non_null_brands"
   ]
  },
  {
   "cell_type": "markdown",
   "id": "919b6101",
   "metadata": {},
   "source": [
    "Las marcas son las misma que antes sumando a \"Stubhub\"."
   ]
  },
  {
   "cell_type": "markdown",
   "id": "801d401a",
   "metadata": {},
   "source": [
    "Otro análisis que puede resultar interesante es la distribución de la variedad de productos con \"stuff\" por marca con respecto al peso total del inventario de la marca. Los datos ya los tenemos, solo hace falta ver si tenemos correlación entre estas 2 variables. Para ello calcularemos la matriz de correlación y graficaremos un scatter plot para ver si esta relación es lineal o no."
   ]
  },
  {
   "cell_type": "code",
   "execution_count": 90,
   "id": "a1f8d87b",
   "metadata": {},
   "outputs": [
    {
     "data": {
      "text/html": [
       "<div>\n",
       "<style scoped>\n",
       "    .dataframe tbody tr th:only-of-type {\n",
       "        vertical-align: middle;\n",
       "    }\n",
       "\n",
       "    .dataframe tbody tr th {\n",
       "        vertical-align: top;\n",
       "    }\n",
       "\n",
       "    .dataframe thead th {\n",
       "        text-align: right;\n",
       "    }\n",
       "</style>\n",
       "<table border=\"1\" class=\"dataframe\">\n",
       "  <thead>\n",
       "    <tr style=\"text-align: right;\">\n",
       "      <th></th>\n",
       "      <th>total_inventory_weight_kg</th>\n",
       "      <th>product_count</th>\n",
       "    </tr>\n",
       "  </thead>\n",
       "  <tbody>\n",
       "    <tr>\n",
       "      <th>total_inventory_weight_kg</th>\n",
       "      <td>1.000000</td>\n",
       "      <td>0.774223</td>\n",
       "    </tr>\n",
       "    <tr>\n",
       "      <th>product_count</th>\n",
       "      <td>0.774223</td>\n",
       "      <td>1.000000</td>\n",
       "    </tr>\n",
       "  </tbody>\n",
       "</table>\n",
       "</div>"
      ],
      "text/plain": [
       "                           total_inventory_weight_kg  product_count\n",
       "total_inventory_weight_kg                   1.000000       0.774223\n",
       "product_count                               0.774223       1.000000"
      ]
     },
     "execution_count": 90,
     "metadata": {},
     "output_type": "execute_result"
    }
   ],
   "source": [
    "correlation_matrix = non_null_brands.corr()\n",
    "correlation_matrix"
   ]
  },
  {
   "cell_type": "markdown",
   "id": "d85c92fb",
   "metadata": {},
   "source": [
    "Parece que hay una alta correlación positiva entre la cantidad de productos con \"stuff\" y el peso total del inventario por marca, con un coeficiente de 0.77. Veamos si es una correlación lineal o se ve más marcada por algun rango de valores."
   ]
  },
  {
   "cell_type": "code",
   "execution_count": 95,
   "id": "6d525212",
   "metadata": {},
   "outputs": [
    {
     "data": {
      "image/png": "[encoded data removed]",
      "text/plain": [
       "<Figure size 1000x600 with 1 Axes>"
      ]
     },
     "metadata": {},
     "output_type": "display_data"
    }
   ],
   "source": [
    "color = \"#4BDB12\"\n",
    "df = non_null_brands\n",
    "\n",
    "plt.figure(figsize=(10, 6))\n",
    "ax = sns.scatterplot(\n",
    "    data=df,\n",
    "    x=\"product_count\",\n",
    "    y=\"total_inventory_weight_kg\",\n",
    "    color=color,\n",
    "    s=80,\n",
    "    edgecolor=\"black\",\n",
    ")\n",
    "sns.regplot(\n",
    "    data=df,\n",
    "    x=\"product_count\",\n",
    "    y=\"total_inventory_weight_kg\",\n",
    "    scatter=False,\n",
    "    color=\"#D32F2F\",\n",
    "    line_kws={\"lw\": 2},\n",
    "    ax=ax,\n",
    ")\n",
    "plt.title(\"Relación entre variedad de productos y peso total del inventario por marca\")\n",
    "plt.xlabel(\"Cantidad de productos con 'stuff'\")\n",
    "plt.ylabel(\"Peso total del inventario (kg)\")\n",
    "plt.grid(True, linestyle=\"--\", alpha=0.3)\n",
    "plt.tight_layout()\n",
    "plt.show()"
   ]
  },
  {
   "cell_type": "markdown",
   "id": "6bbabf06",
   "metadata": {},
   "source": [
    "Vemos como aparece está tendencia creciente efectivamente, pero también aparecen algunos pilares que surgen por la poca granularidad que tiene la distribución de la cantidad de productos por marca. Una forma más fehaciente de ver esto entonces es introduciendo la noción de buckets que agrupen las marcas por rangos de cantidad de productos y graficando el promedio del peso total del inventario por cada bucket. Esto se puede hacer con un gráfico de tipo bar plot."
   ]
  },
  {
   "cell_type": "code",
   "execution_count": null,
   "id": "1783a2f6",
   "metadata": {},
   "outputs": [
    {
     "data": {
      "image/png": "[encoded data removed]",
      "text/plain": [
       "<Figure size 1200x600 with 1 Axes>"
      ]
     },
     "metadata": {},
     "output_type": "display_data"
    }
   ],
   "source": [
    "import numpy as np\n",
    "\n",
    "color = \"#4BDB12\"\n",
    "df = non_null_brands\n",
    "\n",
    "pc = df[\"product_count\"]\n",
    "weights = df[\"total_inventory_weight_kg\"]\n",
    "\n",
    "# Definimos bins automáticamente (maneja bien distintos tamaños):\n",
    "bin_edges = np.histogram_bin_edges(pc, bins=\"auto\")\n",
    "\n",
    "# Asignamos cada marca a un bin según su product_count\n",
    "binned = pd.cut(pc, bins=bin_edges, include_lowest=True)\n",
    "\n",
    "# Agregamos: promedio de peso por bin y cantidad de marcas por bin\n",
    "agg = (\n",
    "    df.groupby(binned, observed=True)\n",
    "    .agg(\n",
    "        mean_weight=(\"total_inventory_weight_kg\", \"mean\"),\n",
    "        count=(\"total_inventory_weight_kg\", \"size\"),\n",
    "    )\n",
    "    .dropna(subset=[\"mean_weight\"])\n",
    ")\n",
    "\n",
    "# Centros y anchos de cada bin para graficar barras proporcionales al rango\n",
    "centers = agg.index.map(lambda index: (index.left + index.right) / 2)\n",
    "widths = agg.index.map(lambda index: index.right - index.left)\n",
    "agg = agg.assign(center=centers.values, width=widths.values)\n",
    "\n",
    "# Ajuste lineal ponderado por la cantidad de marcas en cada bin\n",
    "x = agg[\"center\"].to_numpy()\n",
    "y = agg[\"mean_weight\"].to_numpy()\n",
    "w = np.sqrt(agg[\"count\"].to_numpy().astype(float))  # sqrt(n) ~ replicar n veces\n",
    "\n",
    "plt.figure(figsize=(12, 6))\n",
    "# Barras: peso medio por bin\n",
    "plt.bar(\n",
    "    agg[\"center\"],\n",
    "    agg[\"mean_weight\"],\n",
    "    width=agg[\"width\"] * 0.9,  # ligeramente más angostas que el bin\n",
    "    color=color,\n",
    "    alpha=0.7,\n",
    "    edgecolor=\"black\",\n",
    "    linewidth=0.6,\n",
    "    label=\"Peso medio\",\n",
    ")\n",
    "\n",
    "# Puntos con tamaño proporcional a cantidad de marcas en el bin (contexto visual)\n",
    "sizes = 30 + 120 * (agg[\"count\"] / agg[\"count\"].max())\n",
    "plt.scatter(\n",
    "    agg[\"center\"],\n",
    "    agg[\"mean_weight\"],\n",
    "    s=sizes,\n",
    "    color=\"#1B5E20\",\n",
    "    edgecolor=\"white\",\n",
    "    zorder=3,\n",
    "    label=\"Cantidad de marcas (tamaño ∝ #marcas)\",\n",
    ")\n",
    "\n",
    "# Línea de tendencia ponderada\n",
    "m, b = np.polyfit(x, y, deg=1, w=w)\n",
    "x_line = np.linspace(x.min(), x.max(), 200)\n",
    "y_line = m * x_line + b\n",
    "plt.plot(\n",
    "    x_line, y_line, color=\"#D32F2F\", linewidth=2.2, label=\"Tendencia ponderada\"\n",
    ")\n",
    "\n",
    "plt.title(\"Peso medio del inventario por bins de variedad y tendencia ponderada\")\n",
    "plt.xlabel(\"Cantidad de productos con 'stuff'\")\n",
    "plt.ylabel(\"Peso medio del inventario (kg)\")\n",
    "plt.grid(True, linestyle=\"--\", alpha=0.3, axis=\"y\")\n",
    "plt.legend()\n",
    "plt.tight_layout()\n",
    "plt.show()"
   ]
  },
  {
   "cell_type": "markdown",
   "id": "e8f8e1bb",
   "metadata": {},
   "source": [
    "Otro analisis posible es de la evolución de los pesos totales del inventario por marca a lo largo del tiempo. Para ello vamos a tomar solo las 5 marcas más pesadas y vamos a ver como evolucionó su peso total del inventario a lo largo del tiempo.\n",
    "\n",
    "El primer paso sería ver que rango temporal tenemos en el dataset de inventario."
   ]
  },
  {
   "cell_type": "code",
   "execution_count": 97,
   "id": "1f8a53bf",
   "metadata": {},
   "outputs": [
    {
     "data": {
      "text/html": [
       "<div>\n",
       "<style scoped>\n",
       "    .dataframe tbody tr th:only-of-type {\n",
       "        vertical-align: middle;\n",
       "    }\n",
       "\n",
       "    .dataframe tbody tr th {\n",
       "        vertical-align: top;\n",
       "    }\n",
       "\n",
       "    .dataframe thead th {\n",
       "        text-align: right;\n",
       "    }\n",
       "</style>\n",
       "<table border=\"1\" class=\"dataframe\">\n",
       "  <thead>\n",
       "    <tr style=\"text-align: right;\">\n",
       "      <th></th>\n",
       "      <th>weight_kg</th>\n",
       "      <th>quantity_signed</th>\n",
       "      <th>timestamp</th>\n",
       "    </tr>\n",
       "  </thead>\n",
       "  <tbody>\n",
       "    <tr>\n",
       "      <th>count</th>\n",
       "      <td>4038.0</td>\n",
       "      <td>4750.000000</td>\n",
       "      <td>4292</td>\n",
       "    </tr>\n",
       "    <tr>\n",
       "      <th>mean</th>\n",
       "      <td>25.119079</td>\n",
       "      <td>169.261474</td>\n",
       "      <td>2024-07-15 03:39:49.213987328</td>\n",
       "    </tr>\n",
       "    <tr>\n",
       "      <th>min</th>\n",
       "      <td>0.1</td>\n",
       "      <td>-100.000000</td>\n",
       "      <td>2023-07-17 23:09:04.239020</td>\n",
       "    </tr>\n",
       "    <tr>\n",
       "      <th>25%</th>\n",
       "      <td>12.37</td>\n",
       "      <td>28.000000</td>\n",
       "      <td>2024-01-18 08:38:49.346192384</td>\n",
       "    </tr>\n",
       "    <tr>\n",
       "      <th>50%</th>\n",
       "      <td>26.215</td>\n",
       "      <td>122.000000</td>\n",
       "      <td>2024-07-11 06:04:43.055015936</td>\n",
       "    </tr>\n",
       "    <tr>\n",
       "      <th>75%</th>\n",
       "      <td>37.36</td>\n",
       "      <td>321.000000</td>\n",
       "      <td>2025-01-12 16:43:15.308692992</td>\n",
       "    </tr>\n",
       "    <tr>\n",
       "      <th>max</th>\n",
       "      <td>49.96</td>\n",
       "      <td>500.000000</td>\n",
       "      <td>2025-07-17 08:23:49.700728</td>\n",
       "    </tr>\n",
       "    <tr>\n",
       "      <th>std</th>\n",
       "      <td>14.447712</td>\n",
       "      <td>171.042717</td>\n",
       "      <td>NaN</td>\n",
       "    </tr>\n",
       "  </tbody>\n",
       "</table>\n",
       "</div>"
      ],
      "text/plain": [
       "       weight_kg  quantity_signed                      timestamp\n",
       "count     4038.0      4750.000000                           4292\n",
       "mean   25.119079       169.261474  2024-07-15 03:39:49.213987328\n",
       "min          0.1      -100.000000     2023-07-17 23:09:04.239020\n",
       "25%        12.37        28.000000  2024-01-18 08:38:49.346192384\n",
       "50%       26.215       122.000000  2024-07-11 06:04:43.055015936\n",
       "75%        37.36       321.000000  2025-01-12 16:43:15.308692992\n",
       "max        49.96       500.000000     2025-07-17 08:23:49.700728\n",
       "std    14.447712       171.042717                            NaN"
      ]
     },
     "execution_count": 97,
     "metadata": {},
     "output_type": "execute_result"
    }
   ],
   "source": [
    "merged_products_inventory.describe()"
   ]
  },
  {
   "cell_type": "markdown",
   "id": "51c99af7",
   "metadata": {},
   "source": [
    "Vemos que la fecha más vieja es del 2023-07-17 y la más reciente del 2025-07-17. Por lo que para 2 años tendría sentido hacer una análisis por cuatrimestres (quarters).\n",
    "\n",
    "Para ellos vamos a primero definir los cuatrimestres como 2023-Q3, 2023-Q4 y así hasta 2025-Q2. Luego vamos a filtrar el dataset de inventario para quedarnos solo con los productos de las 5 marcas más pesadas, luego vamos a agrupar por producto y cuatrimestre y sumar la cantidad en inventario para cada producto en cada cuatrimestrel. Luego calcularemos el peso total del inventario por producto y cuatrimestre y finalmente agruparemos por marca y cuatrimestre para sumar el peso total del inventario por marca y cuatrimestre."
   ]
  },
  {
   "cell_type": "code",
   "execution_count": 134,
   "id": "313a235f",
   "metadata": {},
   "outputs": [
    {
     "data": {
      "text/html": [
       "<div>\n",
       "<style scoped>\n",
       "    .dataframe tbody tr th:only-of-type {\n",
       "        vertical-align: middle;\n",
       "    }\n",
       "\n",
       "    .dataframe tbody tr th {\n",
       "        vertical-align: top;\n",
       "    }\n",
       "\n",
       "    .dataframe thead th {\n",
       "        text-align: right;\n",
       "    }\n",
       "</style>\n",
       "<table border=\"1\" class=\"dataframe\">\n",
       "  <thead>\n",
       "    <tr style=\"text-align: right;\">\n",
       "      <th></th>\n",
       "      <th>brand</th>\n",
       "      <th>weight_kg</th>\n",
       "      <th>product_id</th>\n",
       "      <th>quantity_signed</th>\n",
       "      <th>quarter</th>\n",
       "    </tr>\n",
       "    <tr>\n",
       "      <th>log_id</th>\n",
       "      <th></th>\n",
       "      <th></th>\n",
       "      <th></th>\n",
       "      <th></th>\n",
       "      <th></th>\n",
       "    </tr>\n",
       "  </thead>\n",
       "  <tbody>\n",
       "    <tr>\n",
       "      <th>124481</th>\n",
       "      <td>Stubhub</td>\n",
       "      <td>44.5</td>\n",
       "      <td>900434</td>\n",
       "      <td>410</td>\n",
       "      <td>2024Q1</td>\n",
       "    </tr>\n",
       "    <tr>\n",
       "      <th>295199</th>\n",
       "      <td>Stubhub</td>\n",
       "      <td>44.5</td>\n",
       "      <td>900434</td>\n",
       "      <td>469</td>\n",
       "      <td>2025Q2</td>\n",
       "    </tr>\n",
       "    <tr>\n",
       "      <th>320334</th>\n",
       "      <td>Stubhub</td>\n",
       "      <td>44.5</td>\n",
       "      <td>900434</td>\n",
       "      <td>293</td>\n",
       "      <td>2024Q1</td>\n",
       "    </tr>\n",
       "    <tr>\n",
       "      <th>334747</th>\n",
       "      <td>Stubhub</td>\n",
       "      <td>44.5</td>\n",
       "      <td>900434</td>\n",
       "      <td>155</td>\n",
       "      <td>2024Q2</td>\n",
       "    </tr>\n",
       "    <tr>\n",
       "      <th>43556</th>\n",
       "      <td>Adidas</td>\n",
       "      <td>13.4</td>\n",
       "      <td>902214</td>\n",
       "      <td>-84</td>\n",
       "      <td>2025Q1</td>\n",
       "    </tr>\n",
       "    <tr>\n",
       "      <th>...</th>\n",
       "      <td>...</td>\n",
       "      <td>...</td>\n",
       "      <td>...</td>\n",
       "      <td>...</td>\n",
       "      <td>...</td>\n",
       "    </tr>\n",
       "    <tr>\n",
       "      <th>307622</th>\n",
       "      <td>Vetriscience</td>\n",
       "      <td>38.09</td>\n",
       "      <td>994781</td>\n",
       "      <td>294</td>\n",
       "      <td>2023Q4</td>\n",
       "    </tr>\n",
       "    <tr>\n",
       "      <th>328384</th>\n",
       "      <td>Vetriscience</td>\n",
       "      <td>38.09</td>\n",
       "      <td>994781</td>\n",
       "      <td>260</td>\n",
       "      <td>2024Q1</td>\n",
       "    </tr>\n",
       "    <tr>\n",
       "      <th>162470</th>\n",
       "      <td>Adidas</td>\n",
       "      <td>38.46</td>\n",
       "      <td>998303</td>\n",
       "      <td>274</td>\n",
       "      <td>2024Q3</td>\n",
       "    </tr>\n",
       "    <tr>\n",
       "      <th>173850</th>\n",
       "      <td>Adidas</td>\n",
       "      <td>38.46</td>\n",
       "      <td>998303</td>\n",
       "      <td>325</td>\n",
       "      <td>2023Q3</td>\n",
       "    </tr>\n",
       "    <tr>\n",
       "      <th>199755</th>\n",
       "      <td>Adidas</td>\n",
       "      <td>38.46</td>\n",
       "      <td>998303</td>\n",
       "      <td>23</td>\n",
       "      <td>2024Q1</td>\n",
       "    </tr>\n",
       "  </tbody>\n",
       "</table>\n",
       "<p>293 rows × 5 columns</p>\n",
       "</div>"
      ],
      "text/plain": [
       "               brand  weight_kg product_id  quantity_signed quarter\n",
       "log_id                                                             \n",
       "124481       Stubhub       44.5     900434              410  2024Q1\n",
       "295199       Stubhub       44.5     900434              469  2025Q2\n",
       "320334       Stubhub       44.5     900434              293  2024Q1\n",
       "334747       Stubhub       44.5     900434              155  2024Q2\n",
       "43556         Adidas       13.4     902214              -84  2025Q1\n",
       "...              ...        ...        ...              ...     ...\n",
       "307622  Vetriscience      38.09     994781              294  2023Q4\n",
       "328384  Vetriscience      38.09     994781              260  2024Q1\n",
       "162470        Adidas      38.46     998303              274  2024Q3\n",
       "173850        Adidas      38.46     998303              325  2023Q3\n",
       "199755        Adidas      38.46     998303               23  2024Q1\n",
       "\n",
       "[293 rows x 5 columns]"
      ]
     },
     "execution_count": 134,
     "metadata": {},
     "output_type": "execute_result"
    }
   ],
   "source": [
    "products_inventory_with_quarters_in_top_brands = merged_products_inventory[\n",
    "    merged_products_inventory[\"brand\"].isin(top_n_non_null_brands.index)\n",
    "].copy()\n",
    "\n",
    "products_inventory_with_quarters_in_top_brands[\"quarter\"] = products_inventory_with_quarters_in_top_brands[\"timestamp\"].dt.to_period(\"Q\").astype(\"category\")\n",
    "\n",
    "products_inventory_with_quarters_in_top_brands = products_inventory_with_quarters_in_top_brands[\n",
    "    [\"brand\", \"weight_kg\", \"product_id\", \"quantity_signed\", \"quarter\"]\n",
    "]\n",
    "\n",
    "products_inventory_with_quarters_in_top_brands"
   ]
  },
  {
   "cell_type": "code",
   "execution_count": 154,
   "id": "95196849",
   "metadata": {},
   "outputs": [
    {
     "data": {
      "text/html": [
       "<div>\n",
       "<style scoped>\n",
       "    .dataframe tbody tr th:only-of-type {\n",
       "        vertical-align: middle;\n",
       "    }\n",
       "\n",
       "    .dataframe tbody tr th {\n",
       "        vertical-align: top;\n",
       "    }\n",
       "\n",
       "    .dataframe thead th {\n",
       "        text-align: right;\n",
       "    }\n",
       "</style>\n",
       "<table border=\"1\" class=\"dataframe\">\n",
       "  <thead>\n",
       "    <tr style=\"text-align: right;\">\n",
       "      <th></th>\n",
       "      <th></th>\n",
       "      <th></th>\n",
       "      <th>weight_kg_variation</th>\n",
       "    </tr>\n",
       "    <tr>\n",
       "      <th>brand</th>\n",
       "      <th>product_id</th>\n",
       "      <th>quarter</th>\n",
       "      <th></th>\n",
       "    </tr>\n",
       "  </thead>\n",
       "  <tbody>\n",
       "    <tr>\n",
       "      <th rowspan=\"5\" valign=\"top\">Adidas</th>\n",
       "      <th rowspan=\"3\" valign=\"top\">902214</th>\n",
       "      <th>2024Q4</th>\n",
       "      <td>13.4</td>\n",
       "    </tr>\n",
       "    <tr>\n",
       "      <th>2025Q1</th>\n",
       "      <td>13.4</td>\n",
       "    </tr>\n",
       "    <tr>\n",
       "      <th>2025Q2</th>\n",
       "      <td>13.4</td>\n",
       "    </tr>\n",
       "    <tr>\n",
       "      <th rowspan=\"2\" valign=\"top\">903231</th>\n",
       "      <th>2023Q4</th>\n",
       "      <td>34.36</td>\n",
       "    </tr>\n",
       "    <tr>\n",
       "      <th>2024Q2</th>\n",
       "      <td>34.36</td>\n",
       "    </tr>\n",
       "    <tr>\n",
       "      <th>...</th>\n",
       "      <th>...</th>\n",
       "      <th>...</th>\n",
       "      <td>...</td>\n",
       "    </tr>\n",
       "    <tr>\n",
       "      <th rowspan=\"5\" valign=\"top\">Vetriscience</th>\n",
       "      <th>983572</th>\n",
       "      <th>2023Q4</th>\n",
       "      <td>14.9</td>\n",
       "    </tr>\n",
       "    <tr>\n",
       "      <th>987925</th>\n",
       "      <th>2024Q4</th>\n",
       "      <td>44.85</td>\n",
       "    </tr>\n",
       "    <tr>\n",
       "      <th rowspan=\"3\" valign=\"top\">994781</th>\n",
       "      <th>2023Q4</th>\n",
       "      <td>38.09</td>\n",
       "    </tr>\n",
       "    <tr>\n",
       "      <th>2024Q1</th>\n",
       "      <td>38.09</td>\n",
       "    </tr>\n",
       "    <tr>\n",
       "      <th>2024Q4</th>\n",
       "      <td>38.09</td>\n",
       "    </tr>\n",
       "  </tbody>\n",
       "</table>\n",
       "<p>216 rows × 1 columns</p>\n",
       "</div>"
      ],
      "text/plain": [
       "                                 weight_kg_variation\n",
       "brand        product_id quarter                     \n",
       "Adidas       902214     2024Q4                  13.4\n",
       "                        2025Q1                  13.4\n",
       "                        2025Q2                  13.4\n",
       "             903231     2023Q4                 34.36\n",
       "                        2024Q2                 34.36\n",
       "...                                              ...\n",
       "Vetriscience 983572     2023Q4                  14.9\n",
       "             987925     2024Q4                 44.85\n",
       "             994781     2023Q4                 38.09\n",
       "                        2024Q1                 38.09\n",
       "                        2024Q4                 38.09\n",
       "\n",
       "[216 rows x 1 columns]"
      ]
     },
     "execution_count": 154,
     "metadata": {},
     "output_type": "execute_result"
    }
   ],
   "source": [
    "variation_of_inventory_by_product_and_quarter = products_inventory_with_quarters_in_top_brands.groupby(\n",
    "    [\"brand\", \"product_id\", \"quarter\"], observed=True\n",
    ").agg(\n",
    "    {\n",
    "        \"brand\": \"first\",\n",
    "        \"weight_kg\": \"first\",\n",
    "        \"quantity_signed\": \"sum\",\n",
    "    },\n",
    ")\n",
    "\n",
    "variation_of_inventory_by_product_and_quarter[\"weight_kg_variation\"] = (\n",
    "    variation_of_inventory_by_product_and_quarter[\"weight_kg\"]\n",
    ")\n",
    "\n",
    "variation_of_inventory_by_product_and_quarter = variation_of_inventory_by_product_and_quarter[\n",
    "    [\"weight_kg_variation\"]\n",
    "]\n",
    "\n",
    "variation_of_inventory_by_product_and_quarter"
   ]
  },
  {
   "cell_type": "markdown",
   "id": "3fd5e0a2",
   "metadata": {},
   "source": [
    "Acumulamos las variaciones netas por marca por cuatrimestre"
   ]
  },
  {
   "cell_type": "code",
   "execution_count": 157,
   "id": "b4550e16",
   "metadata": {},
   "outputs": [
    {
     "data": {
      "text/html": [
       "<div>\n",
       "<style scoped>\n",
       "    .dataframe tbody tr th:only-of-type {\n",
       "        vertical-align: middle;\n",
       "    }\n",
       "\n",
       "    .dataframe tbody tr th {\n",
       "        vertical-align: top;\n",
       "    }\n",
       "\n",
       "    .dataframe thead th {\n",
       "        text-align: right;\n",
       "    }\n",
       "</style>\n",
       "<table border=\"1\" class=\"dataframe\">\n",
       "  <thead>\n",
       "    <tr style=\"text-align: right;\">\n",
       "      <th></th>\n",
       "      <th></th>\n",
       "      <th>total_weight_variation_kg</th>\n",
       "    </tr>\n",
       "    <tr>\n",
       "      <th>brand</th>\n",
       "      <th>quarter</th>\n",
       "      <th></th>\n",
       "    </tr>\n",
       "  </thead>\n",
       "  <tbody>\n",
       "    <tr>\n",
       "      <th rowspan=\"9\" valign=\"top\">Adidas</th>\n",
       "      <th>2023Q3</th>\n",
       "      <td>86.66</td>\n",
       "    </tr>\n",
       "    <tr>\n",
       "      <th>2023Q4</th>\n",
       "      <td>118.39</td>\n",
       "    </tr>\n",
       "    <tr>\n",
       "      <th>2024Q1</th>\n",
       "      <td>130.36</td>\n",
       "    </tr>\n",
       "    <tr>\n",
       "      <th>2024Q2</th>\n",
       "      <td>131.35</td>\n",
       "    </tr>\n",
       "    <tr>\n",
       "      <th>2024Q3</th>\n",
       "      <td>92.37</td>\n",
       "    </tr>\n",
       "    <tr>\n",
       "      <th>2024Q4</th>\n",
       "      <td>102.76</td>\n",
       "    </tr>\n",
       "    <tr>\n",
       "      <th>2025Q1</th>\n",
       "      <td>138.58</td>\n",
       "    </tr>\n",
       "    <tr>\n",
       "      <th>2025Q2</th>\n",
       "      <td>180.33</td>\n",
       "    </tr>\n",
       "    <tr>\n",
       "      <th>2025Q3</th>\n",
       "      <td>77.82</td>\n",
       "    </tr>\n",
       "    <tr>\n",
       "      <th rowspan=\"9\" valign=\"top\">Bosch</th>\n",
       "      <th>2023Q3</th>\n",
       "      <td>135.1</td>\n",
       "    </tr>\n",
       "    <tr>\n",
       "      <th>2023Q4</th>\n",
       "      <td>88.68</td>\n",
       "    </tr>\n",
       "    <tr>\n",
       "      <th>2024Q1</th>\n",
       "      <td>128.11</td>\n",
       "    </tr>\n",
       "    <tr>\n",
       "      <th>2024Q2</th>\n",
       "      <td>158.87</td>\n",
       "    </tr>\n",
       "    <tr>\n",
       "      <th>2024Q3</th>\n",
       "      <td>134.71</td>\n",
       "    </tr>\n",
       "    <tr>\n",
       "      <th>2024Q4</th>\n",
       "      <td>160.67</td>\n",
       "    </tr>\n",
       "    <tr>\n",
       "      <th>2025Q1</th>\n",
       "      <td>147.88</td>\n",
       "    </tr>\n",
       "    <tr>\n",
       "      <th>2025Q2</th>\n",
       "      <td>104.68</td>\n",
       "    </tr>\n",
       "    <tr>\n",
       "      <th>2025Q3</th>\n",
       "      <td>49.92</td>\n",
       "    </tr>\n",
       "    <tr>\n",
       "      <th rowspan=\"9\" valign=\"top\">Gardena</th>\n",
       "      <th>2023Q3</th>\n",
       "      <td>143.22</td>\n",
       "    </tr>\n",
       "    <tr>\n",
       "      <th>2023Q4</th>\n",
       "      <td>231.55</td>\n",
       "    </tr>\n",
       "    <tr>\n",
       "      <th>2024Q1</th>\n",
       "      <td>187.89</td>\n",
       "    </tr>\n",
       "    <tr>\n",
       "      <th>2024Q2</th>\n",
       "      <td>164.62</td>\n",
       "    </tr>\n",
       "    <tr>\n",
       "      <th>2024Q3</th>\n",
       "      <td>153.67</td>\n",
       "    </tr>\n",
       "    <tr>\n",
       "      <th>2024Q4</th>\n",
       "      <td>96.14</td>\n",
       "    </tr>\n",
       "    <tr>\n",
       "      <th>2025Q1</th>\n",
       "      <td>150.57</td>\n",
       "    </tr>\n",
       "    <tr>\n",
       "      <th>2025Q2</th>\n",
       "      <td>140.09</td>\n",
       "    </tr>\n",
       "    <tr>\n",
       "      <th>2025Q3</th>\n",
       "      <td>29.03</td>\n",
       "    </tr>\n",
       "    <tr>\n",
       "      <th rowspan=\"8\" valign=\"top\">Stubhub</th>\n",
       "      <th>2023Q3</th>\n",
       "      <td>67.66</td>\n",
       "    </tr>\n",
       "    <tr>\n",
       "      <th>2023Q4</th>\n",
       "      <td>169.71</td>\n",
       "    </tr>\n",
       "    <tr>\n",
       "      <th>2024Q1</th>\n",
       "      <td>169.75</td>\n",
       "    </tr>\n",
       "    <tr>\n",
       "      <th>2024Q2</th>\n",
       "      <td>174.0</td>\n",
       "    </tr>\n",
       "    <tr>\n",
       "      <th>2024Q3</th>\n",
       "      <td>124.45</td>\n",
       "    </tr>\n",
       "    <tr>\n",
       "      <th>2024Q4</th>\n",
       "      <td>109.62</td>\n",
       "    </tr>\n",
       "    <tr>\n",
       "      <th>2025Q1</th>\n",
       "      <td>115.23</td>\n",
       "    </tr>\n",
       "    <tr>\n",
       "      <th>2025Q2</th>\n",
       "      <td>201.27</td>\n",
       "    </tr>\n",
       "    <tr>\n",
       "      <th rowspan=\"9\" valign=\"top\">Vetriscience</th>\n",
       "      <th>2023Q3</th>\n",
       "      <td>21.48</td>\n",
       "    </tr>\n",
       "    <tr>\n",
       "      <th>2023Q4</th>\n",
       "      <td>212.0</td>\n",
       "    </tr>\n",
       "    <tr>\n",
       "      <th>2024Q1</th>\n",
       "      <td>161.41</td>\n",
       "    </tr>\n",
       "    <tr>\n",
       "      <th>2024Q2</th>\n",
       "      <td>47.97</td>\n",
       "    </tr>\n",
       "    <tr>\n",
       "      <th>2024Q3</th>\n",
       "      <td>56.59</td>\n",
       "    </tr>\n",
       "    <tr>\n",
       "      <th>2024Q4</th>\n",
       "      <td>209.16</td>\n",
       "    </tr>\n",
       "    <tr>\n",
       "      <th>2025Q1</th>\n",
       "      <td>171.34</td>\n",
       "    </tr>\n",
       "    <tr>\n",
       "      <th>2025Q2</th>\n",
       "      <td>157.66</td>\n",
       "    </tr>\n",
       "    <tr>\n",
       "      <th>2025Q3</th>\n",
       "      <td>49.62</td>\n",
       "    </tr>\n",
       "  </tbody>\n",
       "</table>\n",
       "</div>"
      ],
      "text/plain": [
       "                      total_weight_variation_kg\n",
       "brand        quarter                           \n",
       "Adidas       2023Q3                       86.66\n",
       "             2023Q4                      118.39\n",
       "             2024Q1                      130.36\n",
       "             2024Q2                      131.35\n",
       "             2024Q3                       92.37\n",
       "             2024Q4                      102.76\n",
       "             2025Q1                      138.58\n",
       "             2025Q2                      180.33\n",
       "             2025Q3                       77.82\n",
       "Bosch        2023Q3                       135.1\n",
       "             2023Q4                       88.68\n",
       "             2024Q1                      128.11\n",
       "             2024Q2                      158.87\n",
       "             2024Q3                      134.71\n",
       "             2024Q4                      160.67\n",
       "             2025Q1                      147.88\n",
       "             2025Q2                      104.68\n",
       "             2025Q3                       49.92\n",
       "Gardena      2023Q3                      143.22\n",
       "             2023Q4                      231.55\n",
       "             2024Q1                      187.89\n",
       "             2024Q2                      164.62\n",
       "             2024Q3                      153.67\n",
       "             2024Q4                       96.14\n",
       "             2025Q1                      150.57\n",
       "             2025Q2                      140.09\n",
       "             2025Q3                       29.03\n",
       "Stubhub      2023Q3                       67.66\n",
       "             2023Q4                      169.71\n",
       "             2024Q1                      169.75\n",
       "             2024Q2                       174.0\n",
       "             2024Q3                      124.45\n",
       "             2024Q4                      109.62\n",
       "             2025Q1                      115.23\n",
       "             2025Q2                      201.27\n",
       "Vetriscience 2023Q3                       21.48\n",
       "             2023Q4                       212.0\n",
       "             2024Q1                      161.41\n",
       "             2024Q2                       47.97\n",
       "             2024Q3                       56.59\n",
       "             2024Q4                      209.16\n",
       "             2025Q1                      171.34\n",
       "             2025Q2                      157.66\n",
       "             2025Q3                       49.62"
      ]
     },
     "execution_count": 157,
     "metadata": {},
     "output_type": "execute_result"
    }
   ],
   "source": [
    "grouped_variation = variation_of_inventory_by_product_and_quarter.groupby(\n",
    "    [\"brand\", \"quarter\"], observed=True\n",
    ").agg(\n",
    "    total_weight_variation_kg=(\"weight_kg_variation\", \"sum\"),\n",
    ")\n",
    "\n",
    "grouped_variation"
   ]
  },
  {
   "cell_type": "markdown",
   "id": "6813e512",
   "metadata": {},
   "source": [
    "Vamos ahora a acumular las variaciones netas por marca y cuatrimestre para ver la evolución del peso total del inventario de las 5 marcas más pesadas a lo largo del tiempo."
   ]
  },
  {
   "cell_type": "code",
   "execution_count": 197,
   "id": "e8aca116",
   "metadata": {},
   "outputs": [
    {
     "data": {
      "text/html": [
       "<div>\n",
       "<style scoped>\n",
       "    .dataframe tbody tr th:only-of-type {\n",
       "        vertical-align: middle;\n",
       "    }\n",
       "\n",
       "    .dataframe tbody tr th {\n",
       "        vertical-align: top;\n",
       "    }\n",
       "\n",
       "    .dataframe thead th {\n",
       "        text-align: right;\n",
       "    }\n",
       "</style>\n",
       "<table border=\"1\" class=\"dataframe\">\n",
       "  <thead>\n",
       "    <tr style=\"text-align: right;\">\n",
       "      <th></th>\n",
       "      <th></th>\n",
       "      <th>acumulated_weight_kg</th>\n",
       "    </tr>\n",
       "    <tr>\n",
       "      <th>brand</th>\n",
       "      <th>quarter</th>\n",
       "      <th></th>\n",
       "    </tr>\n",
       "  </thead>\n",
       "  <tbody>\n",
       "    <tr>\n",
       "      <th rowspan=\"9\" valign=\"top\">Gardena</th>\n",
       "      <th>2023Q3</th>\n",
       "      <td>143.22</td>\n",
       "    </tr>\n",
       "    <tr>\n",
       "      <th>2023Q4</th>\n",
       "      <td>374.77</td>\n",
       "    </tr>\n",
       "    <tr>\n",
       "      <th>2024Q1</th>\n",
       "      <td>562.66</td>\n",
       "    </tr>\n",
       "    <tr>\n",
       "      <th>2024Q2</th>\n",
       "      <td>727.28</td>\n",
       "    </tr>\n",
       "    <tr>\n",
       "      <th>2024Q3</th>\n",
       "      <td>880.95</td>\n",
       "    </tr>\n",
       "    <tr>\n",
       "      <th>2024Q4</th>\n",
       "      <td>977.09</td>\n",
       "    </tr>\n",
       "    <tr>\n",
       "      <th>2025Q1</th>\n",
       "      <td>1127.66</td>\n",
       "    </tr>\n",
       "    <tr>\n",
       "      <th>2025Q2</th>\n",
       "      <td>1267.75</td>\n",
       "    </tr>\n",
       "    <tr>\n",
       "      <th>2025Q3</th>\n",
       "      <td>1296.78</td>\n",
       "    </tr>\n",
       "    <tr>\n",
       "      <th rowspan=\"9\" valign=\"top\">Vetriscience</th>\n",
       "      <th>2023Q3</th>\n",
       "      <td>21.48</td>\n",
       "    </tr>\n",
       "    <tr>\n",
       "      <th>2023Q4</th>\n",
       "      <td>233.48</td>\n",
       "    </tr>\n",
       "    <tr>\n",
       "      <th>2024Q1</th>\n",
       "      <td>394.89</td>\n",
       "    </tr>\n",
       "    <tr>\n",
       "      <th>2024Q2</th>\n",
       "      <td>442.86</td>\n",
       "    </tr>\n",
       "    <tr>\n",
       "      <th>2024Q3</th>\n",
       "      <td>499.45</td>\n",
       "    </tr>\n",
       "    <tr>\n",
       "      <th>2024Q4</th>\n",
       "      <td>708.61</td>\n",
       "    </tr>\n",
       "    <tr>\n",
       "      <th>2025Q1</th>\n",
       "      <td>879.95</td>\n",
       "    </tr>\n",
       "    <tr>\n",
       "      <th>2025Q2</th>\n",
       "      <td>1037.61</td>\n",
       "    </tr>\n",
       "    <tr>\n",
       "      <th>2025Q3</th>\n",
       "      <td>1087.23</td>\n",
       "    </tr>\n",
       "    <tr>\n",
       "      <th rowspan=\"9\" valign=\"top\">Adidas</th>\n",
       "      <th>2023Q3</th>\n",
       "      <td>86.66</td>\n",
       "    </tr>\n",
       "    <tr>\n",
       "      <th>2023Q4</th>\n",
       "      <td>205.05</td>\n",
       "    </tr>\n",
       "    <tr>\n",
       "      <th>2024Q1</th>\n",
       "      <td>335.41</td>\n",
       "    </tr>\n",
       "    <tr>\n",
       "      <th>2024Q2</th>\n",
       "      <td>466.76</td>\n",
       "    </tr>\n",
       "    <tr>\n",
       "      <th>2024Q3</th>\n",
       "      <td>559.13</td>\n",
       "    </tr>\n",
       "    <tr>\n",
       "      <th>2024Q4</th>\n",
       "      <td>661.89</td>\n",
       "    </tr>\n",
       "    <tr>\n",
       "      <th>2025Q1</th>\n",
       "      <td>800.47</td>\n",
       "    </tr>\n",
       "    <tr>\n",
       "      <th>2025Q2</th>\n",
       "      <td>980.80</td>\n",
       "    </tr>\n",
       "    <tr>\n",
       "      <th>2025Q3</th>\n",
       "      <td>1058.62</td>\n",
       "    </tr>\n",
       "    <tr>\n",
       "      <th rowspan=\"9\" valign=\"top\">Bosch</th>\n",
       "      <th>2023Q3</th>\n",
       "      <td>135.10</td>\n",
       "    </tr>\n",
       "    <tr>\n",
       "      <th>2023Q4</th>\n",
       "      <td>223.78</td>\n",
       "    </tr>\n",
       "    <tr>\n",
       "      <th>2024Q1</th>\n",
       "      <td>351.89</td>\n",
       "    </tr>\n",
       "    <tr>\n",
       "      <th>2024Q2</th>\n",
       "      <td>510.76</td>\n",
       "    </tr>\n",
       "    <tr>\n",
       "      <th>2024Q3</th>\n",
       "      <td>645.47</td>\n",
       "    </tr>\n",
       "    <tr>\n",
       "      <th>2024Q4</th>\n",
       "      <td>806.14</td>\n",
       "    </tr>\n",
       "    <tr>\n",
       "      <th>2025Q1</th>\n",
       "      <td>954.02</td>\n",
       "    </tr>\n",
       "    <tr>\n",
       "      <th>2025Q2</th>\n",
       "      <td>1058.70</td>\n",
       "    </tr>\n",
       "    <tr>\n",
       "      <th>2025Q3</th>\n",
       "      <td>1108.62</td>\n",
       "    </tr>\n",
       "    <tr>\n",
       "      <th rowspan=\"9\" valign=\"top\">Stubhub</th>\n",
       "      <th>2023Q3</th>\n",
       "      <td>67.66</td>\n",
       "    </tr>\n",
       "    <tr>\n",
       "      <th>2023Q4</th>\n",
       "      <td>237.37</td>\n",
       "    </tr>\n",
       "    <tr>\n",
       "      <th>2024Q1</th>\n",
       "      <td>407.12</td>\n",
       "    </tr>\n",
       "    <tr>\n",
       "      <th>2024Q2</th>\n",
       "      <td>581.12</td>\n",
       "    </tr>\n",
       "    <tr>\n",
       "      <th>2024Q3</th>\n",
       "      <td>705.57</td>\n",
       "    </tr>\n",
       "    <tr>\n",
       "      <th>2024Q4</th>\n",
       "      <td>815.19</td>\n",
       "    </tr>\n",
       "    <tr>\n",
       "      <th>2025Q1</th>\n",
       "      <td>930.42</td>\n",
       "    </tr>\n",
       "    <tr>\n",
       "      <th>2025Q2</th>\n",
       "      <td>1131.69</td>\n",
       "    </tr>\n",
       "    <tr>\n",
       "      <th>2025Q3</th>\n",
       "      <td>1131.69</td>\n",
       "    </tr>\n",
       "  </tbody>\n",
       "</table>\n",
       "</div>"
      ],
      "text/plain": [
       "                      acumulated_weight_kg\n",
       "brand        quarter                      \n",
       "Gardena      2023Q3                 143.22\n",
       "             2023Q4                 374.77\n",
       "             2024Q1                 562.66\n",
       "             2024Q2                 727.28\n",
       "             2024Q3                 880.95\n",
       "             2024Q4                 977.09\n",
       "             2025Q1                1127.66\n",
       "             2025Q2                1267.75\n",
       "             2025Q3                1296.78\n",
       "Vetriscience 2023Q3                  21.48\n",
       "             2023Q4                 233.48\n",
       "             2024Q1                 394.89\n",
       "             2024Q2                 442.86\n",
       "             2024Q3                 499.45\n",
       "             2024Q4                 708.61\n",
       "             2025Q1                 879.95\n",
       "             2025Q2                1037.61\n",
       "             2025Q3                1087.23\n",
       "Adidas       2023Q3                  86.66\n",
       "             2023Q4                 205.05\n",
       "             2024Q1                 335.41\n",
       "             2024Q2                 466.76\n",
       "             2024Q3                 559.13\n",
       "             2024Q4                 661.89\n",
       "             2025Q1                 800.47\n",
       "             2025Q2                 980.80\n",
       "             2025Q3                1058.62\n",
       "Bosch        2023Q3                 135.10\n",
       "             2023Q4                 223.78\n",
       "             2024Q1                 351.89\n",
       "             2024Q2                 510.76\n",
       "             2024Q3                 645.47\n",
       "             2024Q4                 806.14\n",
       "             2025Q1                 954.02\n",
       "             2025Q2                1058.70\n",
       "             2025Q3                1108.62\n",
       "Stubhub      2023Q3                  67.66\n",
       "             2023Q4                 237.37\n",
       "             2024Q1                 407.12\n",
       "             2024Q2                 581.12\n",
       "             2024Q3                 705.57\n",
       "             2024Q4                 815.19\n",
       "             2025Q1                 930.42\n",
       "             2025Q2                1131.69\n",
       "             2025Q3                1131.69"
      ]
     },
     "execution_count": 197,
     "metadata": {},
     "output_type": "execute_result"
    }
   ],
   "source": [
    "all_brands = top_n_non_null_brands.index.unique()\n",
    "all_quarters = grouped_variation.index.get_level_values('quarter').unique()\n",
    "\n",
    "acumulated_weight_by_brand = {}\n",
    "\n",
    "for brand in all_brands:\n",
    "    brand_data = grouped_variation.loc[brand].sort_index()\n",
    "\n",
    "    brand_data = brand_data.reindex(all_quarters, fill_value=0)\n",
    "    brand_data[\"acumulated_weight_kg\"] = brand_data[\"total_weight_variation_kg\"].cumsum()\n",
    "    acumulated_weight_by_brand[brand] = brand_data\n",
    "\n",
    "acumulated_weight_df = pd.concat(\n",
    "    acumulated_weight_by_brand.values(), keys=acumulated_weight_by_brand.keys()\n",
    ")\n",
    "acumulated_weight_df.index.names = [\"brand\", \"quarter\"]\n",
    "acumulated_weight_df = acumulated_weight_df[[\"acumulated_weight_kg\"]]\n",
    "acumulated_weight_df[\"acumulated_weight_kg\"] = acumulated_weight_df[\"acumulated_weight_kg\"].astype(float).round(2).fillna(0.0)\n",
    "acumulated_weight_df"
   ]
  },
  {
   "cell_type": "markdown",
   "id": "e91b805d",
   "metadata": {},
   "source": [
    "Ahora con toda la información podemos hacer un buen gráfico \"Sankey\" para ver la evolución del peso total del inventario de las 5 marcas más pesadas a lo largo del tiempo."
   ]
  },
  {
   "cell_type": "code",
   "execution_count": 211,
   "id": "4dfe66bb",
   "metadata": {},
   "outputs": [
    {
     "data": {
      "application/vnd.plotly.v1+json": {
       "config": {
        "plotlyServerURL": "https://plot.ly"
       },
       "data": [
        {
         "link": {
          "color": [
           "rgba(99,116,255,0.7)",
           "rgba(99,116,255,0.7)",
           "rgba(99,116,255,0.7)",
           "rgba(99,116,255,0.7)",
           "rgba(99,116,255,0.7)",
           "rgba(99,116,255,0.7)",
           "rgba(99,116,255,0.7)",
           "rgba(99,116,255,0.7)",
           "rgba(209,93,93,0.7)",
           "rgba(209,93,93,0.7)",
           "rgba(209,93,93,0.7)",
           "rgba(209,93,93,0.7)",
           "rgba(209,93,93,0.7)",
           "rgba(209,93,93,0.7)",
           "rgba(209,93,93,0.7)",
           "rgba(209,93,93,0.7)",
           "rgba(64,224,208,0.7)",
           "rgba(64,224,208,0.7)",
           "rgba(64,224,208,0.7)",
           "rgba(64,224,208,0.7)",
           "rgba(64,224,208,0.7)",
           "rgba(64,224,208,0.7)",
           "rgba(64,224,208,0.7)",
           "rgba(64,224,208,0.7)",
           "rgba(182,127,255,0.7)",
           "rgba(182,127,255,0.7)",
           "rgba(182,127,255,0.7)",
           "rgba(182,127,255,0.7)",
           "rgba(182,127,255,0.7)",
           "rgba(182,127,255,0.7)",
           "rgba(182,127,255,0.7)",
           "rgba(182,127,255,0.7)",
           "rgba(142,50,0,0.7)",
           "rgba(142,50,0,0.7)",
           "rgba(142,50,0,0.7)",
           "rgba(142,50,0,0.7)",
           "rgba(142,50,0,0.7)",
           "rgba(142,50,0,0.7)",
           "rgba(142,50,0,0.7)",
           "rgba(142,50,0,0.7)"
          ],
          "label": [
           "Gardena",
           "Gardena",
           "Gardena",
           "Gardena",
           "Gardena",
           "Gardena",
           "Gardena",
           "Gardena",
           "Vetriscience",
           "Vetriscience",
           "Vetriscience",
           "Vetriscience",
           "Vetriscience",
           "Vetriscience",
           "Vetriscience",
           "Vetriscience",
           "Adidas",
           "Adidas",
           "Adidas",
           "Adidas",
           "Adidas",
           "Adidas",
           "Adidas",
           "Adidas",
           "Bosch",
           "Bosch",
           "Bosch",
           "Bosch",
           "Bosch",
           "Bosch",
           "Bosch",
           "Bosch",
           "Stubhub",
           "Stubhub",
           "Stubhub",
           "Stubhub",
           "Stubhub",
           "Stubhub",
           "Stubhub",
           "Stubhub"
          ],
          "source": [
           0,
           1,
           2,
           3,
           4,
           5,
           6,
           7,
           0,
           1,
           2,
           3,
           4,
           5,
           6,
           7,
           0,
           1,
           2,
           3,
           4,
           5,
           6,
           7,
           0,
           1,
           2,
           3,
           4,
           5,
           6,
           7,
           0,
           1,
           2,
           3,
           4,
           5,
           6,
           7
          ],
          "target": [
           1,
           2,
           3,
           4,
           5,
           6,
           7,
           8,
           1,
           2,
           3,
           4,
           5,
           6,
           7,
           8,
           1,
           2,
           3,
           4,
           5,
           6,
           7,
           8,
           1,
           2,
           3,
           4,
           5,
           6,
           7,
           8,
           1,
           2,
           3,
           4,
           5,
           6,
           7,
           8
          ],
          "value": [
           374.77,
           562.66,
           727.28,
           880.95,
           977.09,
           1127.66,
           1267.75,
           1296.78,
           233.48,
           394.89,
           442.86,
           499.45,
           708.61,
           879.95,
           1037.61,
           1087.23,
           205.05,
           335.41,
           466.76,
           559.13,
           661.89,
           800.47,
           980.8,
           1058.62,
           223.78,
           351.89,
           510.76,
           645.47,
           806.14,
           954.02,
           1058.7,
           1108.62,
           237.37,
           407.12,
           581.12,
           705.57,
           815.19,
           930.42,
           1131.69,
           1131.69
          ]
         },
         "node": {
          "label": [
           "2023Q3",
           "2023Q4",
           "2024Q1",
           "2024Q2",
           "2024Q3",
           "2024Q4",
           "2025Q1",
           "2025Q2",
           "2025Q3"
          ],
          "line": {
           "color": "black",
           "width": 0.5
          },
          "pad": 15,
          "thickness": 20
         },
         "type": "sankey"
        }
       ],
       "layout": {
        "font": {
         "size": 12
        },
        "template": {
         "data": {
          "bar": [
           {
            "error_x": {
             "color": "#2a3f5f"
            },
            "error_y": {
             "color": "#2a3f5f"
            },
            "marker": {
             "line": {
              "color": "#E5ECF6",
              "width": 0.5
             },
             "pattern": {
              "fillmode": "overlay",
              "size": 10,
              "solidity": 0.2
             }
            },
            "type": "bar"
           }
          ],
          "barpolar": [
           {
            "marker": {
             "line": {
              "color": "#E5ECF6",
              "width": 0.5
             },
             "pattern": {
              "fillmode": "overlay",
              "size": 10,
              "solidity": 0.2
             }
            },
            "type": "barpolar"
           }
          ],
          "carpet": [
           {
            "aaxis": {
             "endlinecolor": "#2a3f5f",
             "gridcolor": "white",
             "linecolor": "white",
             "minorgridcolor": "white",
             "startlinecolor": "#2a3f5f"
            },
            "baxis": {
             "endlinecolor": "#2a3f5f",
             "gridcolor": "white",
             "linecolor": "white",
             "minorgridcolor": "white",
             "startlinecolor": "#2a3f5f"
            },
            "type": "carpet"
           }
          ],
          "choropleth": [
           {
            "colorbar": {
             "outlinewidth": 0,
             "ticks": ""
            },
            "type": "choropleth"
           }
          ],
          "contour": [
           {
            "colorbar": {
             "outlinewidth": 0,
             "ticks": ""
            },
            "colorscale": [
             [
              0,
              "#0d0887"
             ],
             [
              0.1111111111111111,
              "#46039f"
             ],
             [
              0.2222222222222222,
              "#7201a8"
             ],
             [
              0.3333333333333333,
              "#9c179e"
             ],
             [
              0.4444444444444444,
              "#bd3786"
             ],
             [
              0.5555555555555556,
              "#d8576b"
             ],
             [
              0.6666666666666666,
              "#ed7953"
             ],
             [
              0.7777777777777778,
              "#fb9f3a"
             ],
             [
              0.8888888888888888,
              "#fdca26"
             ],
             [
              1,
              "#f0f921"
             ]
            ],
            "type": "contour"
           }
          ],
          "contourcarpet": [
           {
            "colorbar": {
             "outlinewidth": 0,
             "ticks": ""
            },
            "type": "contourcarpet"
           }
          ],
          "heatmap": [
           {
            "colorbar": {
             "outlinewidth": 0,
             "ticks": ""
            },
            "colorscale": [
             [
              0,
              "#0d0887"
             ],
             [
              0.1111111111111111,
              "#46039f"
             ],
             [
              0.2222222222222222,
              "#7201a8"
             ],
             [
              0.3333333333333333,
              "#9c179e"
             ],
             [
              0.4444444444444444,
              "#bd3786"
             ],
             [
              0.5555555555555556,
              "#d8576b"
             ],
             [
              0.6666666666666666,
              "#ed7953"
             ],
             [
              0.7777777777777778,
              "#fb9f3a"
             ],
             [
              0.8888888888888888,
              "#fdca26"
             ],
             [
              1,
              "#f0f921"
             ]
            ],
            "type": "heatmap"
           }
          ],
          "histogram": [
           {
            "marker": {
             "pattern": {
              "fillmode": "overlay",
              "size": 10,
              "solidity": 0.2
             }
            },
            "type": "histogram"
           }
          ],
          "histogram2d": [
           {
            "colorbar": {
             "outlinewidth": 0,
             "ticks": ""
            },
            "colorscale": [
             [
              0,
              "#0d0887"
             ],
             [
              0.1111111111111111,
              "#46039f"
             ],
             [
              0.2222222222222222,
              "#7201a8"
             ],
             [
              0.3333333333333333,
              "#9c179e"
             ],
             [
              0.4444444444444444,
              "#bd3786"
             ],
             [
              0.5555555555555556,
              "#d8576b"
             ],
             [
              0.6666666666666666,
              "#ed7953"
             ],
             [
              0.7777777777777778,
              "#fb9f3a"
             ],
             [
              0.8888888888888888,
              "#fdca26"
             ],
             [
              1,
              "#f0f921"
             ]
            ],
            "type": "histogram2d"
           }
          ],
          "histogram2dcontour": [
           {
            "colorbar": {
             "outlinewidth": 0,
             "ticks": ""
            },
            "colorscale": [
             [
              0,
              "#0d0887"
             ],
             [
              0.1111111111111111,
              "#46039f"
             ],
             [
              0.2222222222222222,
              "#7201a8"
             ],
             [
              0.3333333333333333,
              "#9c179e"
             ],
             [
              0.4444444444444444,
              "#bd3786"
             ],
             [
              0.5555555555555556,
              "#d8576b"
             ],
             [
              0.6666666666666666,
              "#ed7953"
             ],
             [
              0.7777777777777778,
              "#fb9f3a"
             ],
             [
              0.8888888888888888,
              "#fdca26"
             ],
             [
              1,
              "#f0f921"
             ]
            ],
            "type": "histogram2dcontour"
           }
          ],
          "mesh3d": [
           {
            "colorbar": {
             "outlinewidth": 0,
             "ticks": ""
            },
            "type": "mesh3d"
           }
          ],
          "parcoords": [
           {
            "line": {
             "colorbar": {
              "outlinewidth": 0,
              "ticks": ""
             }
            },
            "type": "parcoords"
           }
          ],
          "pie": [
           {
            "automargin": true,
            "type": "pie"
           }
          ],
          "scatter": [
           {
            "fillpattern": {
             "fillmode": "overlay",
             "size": 10,
             "solidity": 0.2
            },
            "type": "scatter"
           }
          ],
          "scatter3d": [
           {
            "line": {
             "colorbar": {
              "outlinewidth": 0,
              "ticks": ""
             }
            },
            "marker": {
             "colorbar": {
              "outlinewidth": 0,
              "ticks": ""
             }
            },
            "type": "scatter3d"
           }
          ],
          "scattercarpet": [
           {
            "marker": {
             "colorbar": {
              "outlinewidth": 0,
              "ticks": ""
             }
            },
            "type": "scattercarpet"
           }
          ],
          "scattergeo": [
           {
            "marker": {
             "colorbar": {
              "outlinewidth": 0,
              "ticks": ""
             }
            },
            "type": "scattergeo"
           }
          ],
          "scattergl": [
           {
            "marker": {
             "colorbar": {
              "outlinewidth": 0,
              "ticks": ""
             }
            },
            "type": "scattergl"
           }
          ],
          "scattermap": [
           {
            "marker": {
             "colorbar": {
              "outlinewidth": 0,
              "ticks": ""
             }
            },
            "type": "scattermap"
           }
          ],
          "scattermapbox": [
           {
            "marker": {
             "colorbar": {
              "outlinewidth": 0,
              "ticks": ""
             }
            },
            "type": "scattermapbox"
           }
          ],
          "scatterpolar": [
           {
            "marker": {
             "colorbar": {
              "outlinewidth": 0,
              "ticks": ""
             }
            },
            "type": "scatterpolar"
           }
          ],
          "scatterpolargl": [
           {
            "marker": {
             "colorbar": {
              "outlinewidth": 0,
              "ticks": ""
             }
            },
            "type": "scatterpolargl"
           }
          ],
          "scatterternary": [
           {
            "marker": {
             "colorbar": {
              "outlinewidth": 0,
              "ticks": ""
             }
            },
            "type": "scatterternary"
           }
          ],
          "surface": [
           {
            "colorbar": {
             "outlinewidth": 0,
             "ticks": ""
            },
            "colorscale": [
             [
              0,
              "#0d0887"
             ],
             [
              0.1111111111111111,
              "#46039f"
             ],
             [
              0.2222222222222222,
              "#7201a8"
             ],
             [
              0.3333333333333333,
              "#9c179e"
             ],
             [
              0.4444444444444444,
              "#bd3786"
             ],
             [
              0.5555555555555556,
              "#d8576b"
             ],
             [
              0.6666666666666666,
              "#ed7953"
             ],
             [
              0.7777777777777778,
              "#fb9f3a"
             ],
             [
              0.8888888888888888,
              "#fdca26"
             ],
             [
              1,
              "#f0f921"
             ]
            ],
            "type": "surface"
           }
          ],
          "table": [
           {
            "cells": {
             "fill": {
              "color": "#EBF0F8"
             },
             "line": {
              "color": "white"
             }
            },
            "header": {
             "fill": {
              "color": "#C8D4E3"
             },
             "line": {
              "color": "white"
             }
            },
            "type": "table"
           }
          ]
         },
         "layout": {
          "annotationdefaults": {
           "arrowcolor": "#2a3f5f",
           "arrowhead": 0,
           "arrowwidth": 1
          },
          "autotypenumbers": "strict",
          "coloraxis": {
           "colorbar": {
            "outlinewidth": 0,
            "ticks": ""
           }
          },
          "colorscale": {
           "diverging": [
            [
             0,
             "#8e0152"
            ],
            [
             0.1,
             "#c51b7d"
            ],
            [
             0.2,
             "#de77ae"
            ],
            [
             0.3,
             "#f1b6da"
            ],
            [
             0.4,
             "#fde0ef"
            ],
            [
             0.5,
             "#f7f7f7"
            ],
            [
             0.6,
             "#e6f5d0"
            ],
            [
             0.7,
             "#b8e186"
            ],
            [
             0.8,
             "#7fbc41"
            ],
            [
             0.9,
             "#4d9221"
            ],
            [
             1,
             "#276419"
            ]
           ],
           "sequential": [
            [
             0,
             "#0d0887"
            ],
            [
             0.1111111111111111,
             "#46039f"
            ],
            [
             0.2222222222222222,
             "#7201a8"
            ],
            [
             0.3333333333333333,
             "#9c179e"
            ],
            [
             0.4444444444444444,
             "#bd3786"
            ],
            [
             0.5555555555555556,
             "#d8576b"
            ],
            [
             0.6666666666666666,
             "#ed7953"
            ],
            [
             0.7777777777777778,
             "#fb9f3a"
            ],
            [
             0.8888888888888888,
             "#fdca26"
            ],
            [
             1,
             "#f0f921"
            ]
           ],
           "sequentialminus": [
            [
             0,
             "#0d0887"
            ],
            [
             0.1111111111111111,
             "#46039f"
            ],
            [
             0.2222222222222222,
             "#7201a8"
            ],
            [
             0.3333333333333333,
             "#9c179e"
            ],
            [
             0.4444444444444444,
             "#bd3786"
            ],
            [
             0.5555555555555556,
             "#d8576b"
            ],
            [
             0.6666666666666666,
             "#ed7953"
            ],
            [
             0.7777777777777778,
             "#fb9f3a"
            ],
            [
             0.8888888888888888,
             "#fdca26"
            ],
            [
             1,
             "#f0f921"
            ]
           ]
          },
          "colorway": [
           "#636efa",
           "#EF553B",
           "#00cc96",
           "#ab63fa",
           "#FFA15A",
           "#19d3f3",
           "#FF6692",
           "#B6E880",
           "#FF97FF",
           "#FECB52"
          ],
          "font": {
           "color": "#2a3f5f"
          },
          "geo": {
           "bgcolor": "white",
           "lakecolor": "white",
           "landcolor": "#E5ECF6",
           "showlakes": true,
           "showland": true,
           "subunitcolor": "white"
          },
          "hoverlabel": {
           "align": "left"
          },
          "hovermode": "closest",
          "mapbox": {
           "style": "light"
          },
          "paper_bgcolor": "white",
          "plot_bgcolor": "#E5ECF6",
          "polar": {
           "angularaxis": {
            "gridcolor": "white",
            "linecolor": "white",
            "ticks": ""
           },
           "bgcolor": "#E5ECF6",
           "radialaxis": {
            "gridcolor": "white",
            "linecolor": "white",
            "ticks": ""
           }
          },
          "scene": {
           "xaxis": {
            "backgroundcolor": "#E5ECF6",
            "gridcolor": "white",
            "gridwidth": 2,
            "linecolor": "white",
            "showbackground": true,
            "ticks": "",
            "zerolinecolor": "white"
           },
           "yaxis": {
            "backgroundcolor": "#E5ECF6",
            "gridcolor": "white",
            "gridwidth": 2,
            "linecolor": "white",
            "showbackground": true,
            "ticks": "",
            "zerolinecolor": "white"
           },
           "zaxis": {
            "backgroundcolor": "#E5ECF6",
            "gridcolor": "white",
            "gridwidth": 2,
            "linecolor": "white",
            "showbackground": true,
            "ticks": "",
            "zerolinecolor": "white"
           }
          },
          "shapedefaults": {
           "line": {
            "color": "#2a3f5f"
           }
          },
          "ternary": {
           "aaxis": {
            "gridcolor": "white",
            "linecolor": "white",
            "ticks": ""
           },
           "baxis": {
            "gridcolor": "white",
            "linecolor": "white",
            "ticks": ""
           },
           "bgcolor": "#E5ECF6",
           "caxis": {
            "gridcolor": "white",
            "linecolor": "white",
            "ticks": ""
           }
          },
          "title": {
           "x": 0.05
          },
          "xaxis": {
           "automargin": true,
           "gridcolor": "white",
           "linecolor": "white",
           "ticks": "",
           "title": {
            "standoff": 15
           },
           "zerolinecolor": "white",
           "zerolinewidth": 2
          },
          "yaxis": {
           "automargin": true,
           "gridcolor": "white",
           "linecolor": "white",
           "ticks": "",
           "title": {
            "standoff": 15
           },
           "zerolinecolor": "white",
           "zerolinewidth": 2
          }
         }
        },
        "title": {
         "text": "Evolución por marca y cuatrimestre"
        }
       }
      }
     },
     "metadata": {},
     "output_type": "display_data"
    }
   ],
   "source": [
    "import pandas as pd\n",
    "import plotly.graph_objects as go\n",
    "\n",
    "df = acumulated_weight_df.reset_index()\n",
    "df['quarter'] = df['quarter'].astype(str)\n",
    "\n",
    "brands = df['brand'].unique().tolist()\n",
    "quarters = df['quarter'].unique().tolist()\n",
    "labels = quarters.copy()\n",
    "\n",
    "label_to_idx = {label: i for i, label in enumerate(labels)}\n",
    "\n",
    "sources = []\n",
    "targets = []\n",
    "values = []\n",
    "colors = []\n",
    "\n",
    "brand_colors = {\n",
    "    'Gardena': 'rgba(99,116,255,0.7)',\n",
    "    'Bosch': 'rgba(182,127,255,0.7)',\n",
    "    'Adidas': 'rgba(64,224,208,0.7)',\n",
    "    'Stubhub': 'rgba(142,50,0,0.7)',\n",
    "    'Vetriscience': 'rgba(209,93,93,0.7)',\n",
    "}\n",
    "\n",
    "# Para cada marca, armar el camino a través de los quarters (sin START)\n",
    "for brand in brands:\n",
    "    df_b = df[df['brand'] == brand].sort_values('quarter')\n",
    "    qtrs = df_b['quarter'].tolist()\n",
    "    weights = df_b['acumulated_weight_kg'].tolist()\n",
    "    # Solo creamos links entre quarters\n",
    "    for i in range(1, len(qtrs)):\n",
    "        sources.append(label_to_idx[qtrs[i-1]])\n",
    "        targets.append(label_to_idx[qtrs[i]])\n",
    "        values.append(weights[i])\n",
    "        colors.append(brand_colors[brand])\n",
    "\n",
    "fig = go.Figure(go.Sankey(\n",
    "    node=dict(\n",
    "        pad=15,\n",
    "        thickness=20,\n",
    "        line=dict(color=\"black\", width=0.5),\n",
    "        label=labels,\n",
    "    ),\n",
    "    link=dict(\n",
    "        source=sources,\n",
    "        target=targets,\n",
    "        value=values,\n",
    "        color=colors,\n",
    "        label=[f\"{brand}\" for brand in brands for _ in range(len(quarters)-1)]\n",
    "    )\n",
    "))\n",
    "fig.update_layout(\n",
    "    title_text=\"Evolución por marca y cuatrimestre\",\n",
    "    font_size=12,\n",
    ")\n",
    "fig.show()\n",
    "\n"
   ]
  }
 ],
 "metadata": {
  "kernelspec": {
   "display_name": ".venv (3.12.3)",
   "language": "python",
   "name": "python3"
  },
  "language_info": {
   "codemirror_mode": {
    "name": "ipython",
    "version": 3
   },
   "file_extension": ".py",
   "mimetype": "text/x-python",
   "name": "python",
   "nbconvert_exporter": "python",
   "pygments_lexer": "ipython3",
   "version": "3.12.3"
  }
 },
 "nbformat": 4,
 "nbformat_minor": 5
}
