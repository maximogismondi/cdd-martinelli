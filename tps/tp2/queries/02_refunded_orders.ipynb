{
 "cells": [
  {
   "cell_type": "markdown",
   "id": "3246cd51",
   "metadata": {},
   "source": [
    "## Query 2\n",
    "\n",
    "> ¿Cuáles son los 5 códigos postales más comunes para las órdenes con estado 'Refunded'? ¿Y cuál es el nombre más frecuente entre los clientes de esas direcciones?\n",
    "\n",
    "estas direcciones = 5 códigos postales más comunes"
   ]
  },
  {
   "cell_type": "markdown",
   "id": "9c9ac6b4",
   "metadata": {},
   "source": [
    "Los pasos en este caso serían:\n",
    "\n",
    "1. Importar el dataset de ordenes crudas (data/raw/orders.csv) a un RDD.\n",
    "2. Filtar aquellas con datos invalidos o que no esten en estado 'Refunded'.\n",
    "3. Mapear el código postal de la dirección (shipping en este caso).\n",
    "4. Filtrar los registros que no correspondan con un código postal válido.\n",
    "5. Agrupar por código postal y contar la cantidad de ocurrencias.\n",
    "6. Tomar los 5 códigos postales más comunes.\n",
    "\n",
    "Luego para el nombre más frecuente:\n",
    "\n",
    "1. Importar el dataset de clientes (data/raw/customers.csv) a un RDD.\n",
    "2. Filtrar aquellos con datos invalidos.\n",
    "3. Mapear el nombre y el código postal.\n",
    "4. Filtrar los registros que no correspondan con un código postal válido.\n",
    "5. Filtrar aquellos cuyo código postal esté entre los 5 más comunes obtenidos anteriormente.\n",
    "6. Agrupar por nombre y contar la cantidad de ocurrencias.\n",
    "7. Tomar el nombre más frecuente."
   ]
  },
  {
   "cell_type": "code",
   "execution_count": 1,
   "id": "36b0835f",
   "metadata": {},
   "outputs": [],
   "source": [
    "import re\n",
    "from pyspark.sql import SparkSession"
   ]
  },
  {
   "cell_type": "code",
   "execution_count": null,
   "id": "2bbc5a9b",
   "metadata": {},
   "outputs": [],
   "source": [
    "spark = SparkSession.builder.appName(\"RefundedOrders\").getOrCreate()\n",
    "spark.sparkContext.setLogLevel(\"ERROR\")"
   ]
  },
  {
   "cell_type": "code",
   "execution_count": 3,
   "id": "94b06827",
   "metadata": {},
   "outputs": [
    {
     "name": "stderr",
     "output_type": "stream",
     "text": [
      "                                                                                \r"
     ]
    }
   ],
   "source": [
    "df_orders = spark.read.csv(\"../../data/raw/orders.csv\", header=True, inferSchema=True)\n",
    "rdd_orders = df_orders.rdd\n",
    "\n",
    "\n",
    "def extract_zip(address):\n",
    "    if not address:\n",
    "        return None\n",
    "    match = re.search(r\"(\\d{5})$\", address)\n",
    "    return match.group(1) if match else None\n",
    "\n",
    "\n",
    "REFUND_STATUS = \"REFUNDED\"\n",
    "\n",
    "rdd_refunded_orders = rdd_orders.map(\n",
    "    lambda r: {\n",
    "        \"status\": r.status.strip().upper() if getattr(r, \"status\", None) else None,\n",
    "        \"shipping_address\": (\n",
    "            r.shipping_address if getattr(r, \"shipping_address\", None) else None\n",
    "        ),\n",
    "    }\n",
    ").filter(\n",
    "    lambda row: row[\"status\"] == REFUND_STATUS and row[\"shipping_address\"] is not None\n",
    ")\n",
    "\n",
    "\n",
    "refunded_with_zip = rdd_refunded_orders.map(\n",
    "    lambda row: extract_zip(row[\"shipping_address\"])\n",
    ")\n",
    "\n",
    "zip_counts = (\n",
    "    refunded_with_zip.filter(lambda z: z is not None)\n",
    "    .map(lambda z: (z, 1))\n",
    "    .reduceByKey(lambda a, b: a + b)\n",
    ")"
   ]
  },
  {
   "cell_type": "code",
   "execution_count": 4,
   "id": "d1c9eb01",
   "metadata": {},
   "outputs": [
    {
     "name": "stderr",
     "output_type": "stream",
     "text": [
      "[Stage 2:===================================================>       (7 + 1) / 8]\r"
     ]
    },
    {
     "name": "stdout",
     "output_type": "stream",
     "text": [
      "Top 5 códigos postales más comunes para órdenes refunded:\n",
      "70696: 6\n",
      "47612: 5\n",
      "11954: 5\n",
      "83755: 5\n",
      "59883: 5\n"
     ]
    },
    {
     "name": "stderr",
     "output_type": "stream",
     "text": [
      "                                                                                \r"
     ]
    }
   ],
   "source": [
    "top_5_zips = zip_counts.takeOrdered(5, key=lambda x: -x[1])\n",
    "\n",
    "print(\"Top 5 códigos postales más comunes para órdenes refunded:\")\n",
    "for zip_code, count in top_5_zips:\n",
    "    print(f\"{zip_code}: {count}\")\n",
    "\n",
    "top_zips_set = set(zip for zip, _ in top_5_zips)\n",
    "\n",
    "# Para usar en la query de customers\n",
    "broadcast_top_zips = spark.sparkContext.broadcast(top_zips_set)"
   ]
  },
  {
   "cell_type": "code",
   "execution_count": 5,
   "id": "7d1f0234",
   "metadata": {},
   "outputs": [
    {
     "name": "stderr",
     "output_type": "stream",
     "text": [
      "                                                                                \r"
     ]
    }
   ],
   "source": [
    "df_customers = spark.read.csv(\n",
    "    \"../../data/raw/customers.csv\", header=True, inferSchema=True\n",
    ")\n",
    "rdd_customers = df_customers.rdd\n",
    "\n",
    "rdd_customers_min = rdd_customers.map(\n",
    "    lambda r: {\n",
    "        \"address\": r.address if getattr(r, \"address\", None) else None,\n",
    "        \"first_name\": r.first_name.strip() if getattr(r, \"first_name\", None) else None,\n",
    "    }\n",
    ")"
   ]
  },
  {
   "cell_type": "code",
   "execution_count": 6,
   "id": "a98c328a",
   "metadata": {},
   "outputs": [
    {
     "name": "stderr",
     "output_type": "stream",
     "text": [
      "                                                                                \r"
     ]
    },
    {
     "name": "stdout",
     "output_type": "stream",
     "text": [
      "Nombre más frecuente entre los clientes de esos códigos postales: ('Amy', 1)\n"
     ]
    }
   ],
   "source": [
    "customers_filtered = (\n",
    "    rdd_customers_min.filter(\n",
    "        lambda row: row[\"address\"] is not None and row[\"first_name\"] is not None\n",
    "    )\n",
    "    .map(\n",
    "        lambda row: {\n",
    "            \"zip\": extract_zip(row[\"address\"]),\n",
    "            \"first_name\": row[\"first_name\"],\n",
    "        }\n",
    "    )\n",
    "    .filter(lambda x: x[\"zip\"] is not None and x[\"zip\"] in broadcast_top_zips.value)\n",
    ")\n",
    "\n",
    "name_counts = customers_filtered.map(lambda x: (x[\"first_name\"], 1)).reduceByKey(\n",
    "    lambda a, b: a + b\n",
    ")\n",
    "\n",
    "if name_counts.isEmpty():\n",
    "    most_frequent_name = None\n",
    "else:\n",
    "    most_frequent_name = name_counts.reduce(lambda a, b: a if a[1] > b[1] else b)\n",
    "\n",
    "print(\n",
    "    f\"Nombre más frecuente entre los clientes de esos códigos postales: {most_frequent_name}\"\n",
    ")"
   ]
  }
 ],
 "metadata": {
  "kernelspec": {
   "display_name": ".venv (3.12.3)",
   "language": "python",
   "name": "python3"
  },
  "language_info": {
   "codemirror_mode": {
    "name": "ipython",
    "version": 3
   },
   "file_extension": ".py",
   "mimetype": "text/x-python",
   "name": "python",
   "nbconvert_exporter": "python",
   "pygments_lexer": "ipython3",
   "version": "3.12.3"
  }
 },
 "nbformat": 4,
 "nbformat_minor": 5
}
