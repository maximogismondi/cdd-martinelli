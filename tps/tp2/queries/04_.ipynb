{
 "cells": [
  {
   "cell_type": "markdown",
   "id": "e1696a16",
   "metadata": {},
   "source": [
    "## Query 4\n",
    "\n",
    "> Para los productos que contienen en su descripción la palabra “stuff” (sin importar mayúsculas o minúsculas), calcular el peso total de su inventario agrupado por marca, mostrar sólo la marca y el peso total de las 5 más pesadas."
   ]
  }
 ],
 "metadata": {
  "language_info": {
   "name": "python"
  }
 },
 "nbformat": 4,
 "nbformat_minor": 5
}
