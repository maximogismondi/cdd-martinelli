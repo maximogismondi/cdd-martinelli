{
 "cells": [
  {
   "cell_type": "markdown",
   "id": "2b47f022",
   "metadata": {},
   "source": [
    "## Query 11\n",
    "\n",
    "Obtener el tiempo promedio de TTFP (tiempo de primera compra) por segmento de clientes.\n",
    "\n",
    "El tiempo de primera compra se define como la diferencia en días entre la fecha de creación del cliente y la fecha de su primera orden.\n",
    "\n",
    "Para cada segmento se quiere el promedio en días de TTFP junto con la cantidad de clientes que componen el segmento, la cantidad de clientes que realizaron al menos una compra y la cantidad de clientes que no realizaron ninguna compra.\n",
    "\n",
    "Para que la query funcione correctamente es necesario que \"customers\" y \"orders\" se puedan joinear.\n",
    "\n",
    "Como customers tiene customer_ids desde 1 a 441895 y orders tiene customer_ids desde 400009 a 500000, podemos restarle 400008 a los customer_ids de orders para que matcheen.\n",
    "\n",
    "- 1 -> 400009\n",
    "- 2 -> 400010\n",
    "- ..."
   ]
  },
  {
   "cell_type": "markdown",
   "id": "38b4b2d1",
   "metadata": {},
   "source": [
    "Para resolver esto debemos seguir los siguientes pasos:\n",
    "\n",
    "1. Importar el dataset de customers (data/raw/customers.csv).\n",
    "2. Filtrar clientes con datos válidos (customer_id, customer_segment, registration_date).\n",
    "3. Mapear a (customer_id, (segment, registration_date)).\n",
    "4. Importar el dataset de orders (data/raw/orders.csv).\n",
    "5. Filtrar órdenes con datos válidos (order_id, customer_id, created_at).\n",
    "6. Mapear a (customer_id, order_date) y reducir por customer_id para obtener la primera orden de cada cliente.\n",
    "7. Hacer left outer join entre clientes y primeras órdenes usando customer_id como clave.\n",
    "8. Calcular TTFP (días entre registration_date del cliente y primera orden) para clientes que compraron.\n",
    "9. Agrupar por segmento y calcular: TTFP promedio, total de clientes, clientes con compra, clientes sin compra.\n",
    "10. Formatear y mostrar resultados."
   ]
  },
  {
   "cell_type": "code",
   "execution_count": 106,
   "id": "cb235cfb",
   "metadata": {},
   "outputs": [],
   "source": [
    "from pyspark.sql import SparkSession\n",
    "from datetime import datetime\n",
    "\n",
    "spark = SparkSession.builder.appName(\"PrimerasComprasClientes\").getOrCreate()\n",
    "spark.sparkContext.setLogLevel(\"ERROR\")\n",
    "\n",
    "OFFSET = 400008"
   ]
  },
  {
   "cell_type": "code",
   "execution_count": 118,
   "id": "a713814e",
   "metadata": {},
   "outputs": [
    {
     "name": "stderr",
     "output_type": "stream",
     "text": [
      "                                                                                \r"
     ]
    },
    {
     "data": {
      "text/plain": [
       "[('1', ('REGULAR', '2022-09-22')),\n",
       " ('2', ('BUDGET', '2022-11-14')),\n",
       " ('3', ('BUDGET', '2022-10-14')),\n",
       " ('4', ('UNDEFINED', '2024-03-16')),\n",
       " ('5', ('REGULAR', '2023-07-21')),\n",
       " ('6', ('REGULAR', '2023-08-17')),\n",
       " ('7', ('PREMIUM', '2025-04-01')),\n",
       " ('8', ('REGULAR', '2023-05-05')),\n",
       " ('9', ('REGULAR', '2024-04-01')),\n",
       " ('10', ('REGULAR', '2022-08-17'))]"
      ]
     },
     "execution_count": 118,
     "metadata": {},
     "output_type": "execute_result"
    }
   ],
   "source": [
    "customers_df = spark.read.csv(\n",
    "    \"../../data/raw/customers.csv\", header=True, inferSchema=True\n",
    ")\n",
    "customers_rdd = customers_df.rdd\n",
    "\n",
    "customers_kv = (\n",
    "    customers_rdd.filter(\n",
    "        lambda r: r.customer_id and r.customer_segment and r.registration_date\n",
    "    )\n",
    "    .map(\n",
    "        lambda r: (\n",
    "            str(r.customer_id),\n",
    "            (\n",
    "                r.customer_segment.strip().upper(),\n",
    "                r.registration_date.strip()[:10] if r.registration_date else None,\n",
    "            ),\n",
    "        )\n",
    "    )\n",
    "    .filter(lambda x: x[1][1] is not None)\n",
    "    .cache()\n",
    ")\n",
    "\n",
    "customers_kv.take(10)"
   ]
  },
  {
   "cell_type": "code",
   "execution_count": 121,
   "id": "9340aa58",
   "metadata": {},
   "outputs": [
    {
     "name": "stderr",
     "output_type": "stream",
     "text": [
      "                                                                                \r"
     ]
    },
    {
     "data": {
      "text/plain": [
       "[('447917', '2023-11-24'),\n",
       " ('441229', '2024-11-29'),\n",
       " ('442829', '2024-10-08'),\n",
       " ('454929', '2023-03-09'),\n",
       " ('489351', '2023-05-31'),\n",
       " ('416469', '2025-05-20'),\n",
       " ('411439', '2022-12-31'),\n",
       " ('464064', '2022-11-28'),\n",
       " ('468539', '2024-06-21'),\n",
       " ('437634', '2025-02-03')]"
      ]
     },
     "execution_count": 121,
     "metadata": {},
     "output_type": "execute_result"
    }
   ],
   "source": [
    "orders_df = spark.read.csv(\"../../data/raw/orders.csv\", header=True, inferSchema=True)\n",
    "orders_rdd = orders_df.rdd\n",
    "\n",
    "first_orders = (\n",
    "    orders_rdd.filter(lambda r: r.order_id and r.customer_id and r.created_at)\n",
    "    .map(\n",
    "        lambda r: (\n",
    "            str(r.customer_id),\n",
    "            r.created_at.strip()[:10] if r.created_at else None,\n",
    "        )\n",
    "    )\n",
    "    .filter(lambda x: x[1] is not None)\n",
    "    .reduceByKey(lambda a, b: min(a, b))\n",
    ").cache()\n",
    "\n",
    "first_orders.take(10)"
   ]
  },
  {
   "cell_type": "code",
   "execution_count": null,
   "id": "22f28ed6",
   "metadata": {},
   "outputs": [
    {
     "name": "stderr",
     "output_type": "stream",
     "text": [
      "                                                                                \r"
     ]
    },
    {
     "data": {
      "text/plain": [
       "[('UNDEFINED', (None, 0, 1)),\n",
       " ('REGULAR', (None, 0, 1)),\n",
       " ('REGULAR', (None, 0, 1)),\n",
       " ('REGULAR', (None, 0, 1)),\n",
       " ('REGULAR', (None, 0, 1)),\n",
       " ('REGULAR', (None, 0, 1)),\n",
       " ('REGULAR', (None, 0, 1)),\n",
       " ('UNDEFINED', (None, 0, 1)),\n",
       " ('REGULAR', (None, 0, 1)),\n",
       " ('REGULAR', (None, 0, 1))]"
      ]
     },
     "execution_count": 127,
     "metadata": {},
     "output_type": "execute_result"
    }
   ],
   "source": [
    "def calculate_ttfp_tuple(registration_date, first_order_date):\n",
    "\n",
    "    try:\n",
    "        order_date = datetime.strptime(first_order_date, \"%Y-%m-%d\")\n",
    "        reg_date = datetime.strptime(registration_date, \"%Y-%m-%d\")\n",
    "        if order_date < reg_date:\n",
    "            return None\n",
    "\n",
    "        return (order_date - reg_date).days\n",
    "    except Exception:\n",
    "        return None\n",
    "\n",
    "\n",
    "customers_with_orders = (\n",
    "    customers_kv.leftOuterJoin(\n",
    "        first_orders\n",
    "    )  # (customer_id, ((segment, registration_date), first_order_date))\n",
    "    .map(\n",
    "        lambda kv: (\n",
    "            kv[1][0][0],  # segment\n",
    "            calculate_ttfp_tuple(kv[1][0][1], kv[1][1]) if kv[1][1] else None,  # ttfp\n",
    "        )\n",
    "    )\n",
    "    .map(\n",
    "        lambda x: (\n",
    "            x[0],\n",
    "            (\n",
    "                x[1],\n",
    "                1 if x[1] is not None else 0,  # has_first_order\n",
    "                1,\n",
    "            ),\n",
    "        )\n",
    "    )\n",
    "    .cache()\n",
    ")\n",
    "\n",
    "customers_with_orders.take(10)"
   ]
  },
  {
   "cell_type": "code",
   "execution_count": null,
   "id": "480d0d3b",
   "metadata": {},
   "outputs": [
    {
     "name": "stderr",
     "output_type": "stream",
     "text": [
      "                                                                                \r"
     ]
    }
   ],
   "source": [
    "segment_stats = (\n",
    "    customers_with_orders.reduceByKey(\n",
    "        lambda a, b: (  # (total_ttfp, total_with_first_order, total_customers)\n",
    "            (a[0] if a[0] is not None else 0) + (b[0] if b[0] is not None else 0),\n",
    "            a[1] + b[1],\n",
    "            a[2] + b[2],\n",
    "        )\n",
    "    )\n",
    "    .map(\n",
    "        lambda kv: (\n",
    "            kv[0],  # segment\n",
    "            (kv[1][0] / kv[1][1]) if kv[1][1] > 0 else None,  # avg_ttfp\n",
    "            kv[1][2],  # total_customers\n",
    "            kv[1][1],  # total_with_first_order\n",
    "            kv[1][2] - kv[1][1],  # total_without_first_order\n",
    "        )\n",
    "    )\n",
    "    .collect()\n",
    ")"
   ]
  },
  {
   "cell_type": "code",
   "execution_count": null,
   "id": "b7ac214e",
   "metadata": {},
   "outputs": [
    {
     "data": {
      "text/html": [
       "<div>\n",
       "<style scoped>\n",
       "    .dataframe tbody tr th:only-of-type {\n",
       "        vertical-align: middle;\n",
       "    }\n",
       "\n",
       "    .dataframe tbody tr th {\n",
       "        vertical-align: top;\n",
       "    }\n",
       "\n",
       "    .dataframe thead th {\n",
       "        text-align: right;\n",
       "    }\n",
       "</style>\n",
       "<table border=\"1\" class=\"dataframe\">\n",
       "  <thead>\n",
       "    <tr style=\"text-align: right;\">\n",
       "      <th></th>\n",
       "      <th>segmento</th>\n",
       "      <th>ttfp_promedio_dias</th>\n",
       "      <th>total_clientes</th>\n",
       "      <th>clientes_con_compra</th>\n",
       "      <th>clientes_sin_compra</th>\n",
       "    </tr>\n",
       "  </thead>\n",
       "  <tbody>\n",
       "    <tr>\n",
       "      <th>2</th>\n",
       "      <td>BUDGET</td>\n",
       "      <td>0</td>\n",
       "      <td>84972</td>\n",
       "      <td>0</td>\n",
       "      <td>84972</td>\n",
       "    </tr>\n",
       "    <tr>\n",
       "      <th>3</th>\n",
       "      <td>PREMIUM</td>\n",
       "      <td>0</td>\n",
       "      <td>86042</td>\n",
       "      <td>0</td>\n",
       "      <td>86042</td>\n",
       "    </tr>\n",
       "    <tr>\n",
       "      <th>0</th>\n",
       "      <td>REGULAR</td>\n",
       "      <td>0</td>\n",
       "      <td>256735</td>\n",
       "      <td>0</td>\n",
       "      <td>256735</td>\n",
       "    </tr>\n",
       "    <tr>\n",
       "      <th>1</th>\n",
       "      <td>UNDEFINED</td>\n",
       "      <td>0</td>\n",
       "      <td>14146</td>\n",
       "      <td>0</td>\n",
       "      <td>14146</td>\n",
       "    </tr>\n",
       "  </tbody>\n",
       "</table>\n",
       "</div>"
      ],
      "text/plain": [
       "    segmento  ttfp_promedio_dias  total_clientes  clientes_con_compra  \\\n",
       "2     BUDGET                   0           84972                    0   \n",
       "3    PREMIUM                   0           86042                    0   \n",
       "0    REGULAR                   0          256735                    0   \n",
       "1  UNDEFINED                   0           14146                    0   \n",
       "\n",
       "   clientes_sin_compra  \n",
       "2                84972  \n",
       "3                86042  \n",
       "0               256735  \n",
       "1                14146  "
      ]
     },
     "metadata": {},
     "output_type": "display_data"
    }
   ],
   "source": [
    "import pandas as pd\n",
    "\n",
    "if segment_stats:\n",
    "    results = [\n",
    "        {\n",
    "            \"segmento\": s[0],\n",
    "            \"avg_ttfp\": round(s[1], 2) if s[1] is not None else \"N/A\",\n",
    "            \"total_clientes\": s[2],\n",
    "            \"con_primera_compra\": s[3],\n",
    "            \"sin_primera_compra\": s[4],\n",
    "        }\n",
    "        for s in segment_stats\n",
    "    ]\n",
    "    df = pd.DataFrame(results).sort_values(\"segmento\")\n",
    "    display(df)\n",
    "else:\n",
    "    print(\"No results\")"
   ]
  }
 ],
 "metadata": {
  "kernelspec": {
   "display_name": ".venv (3.12.3)",
   "language": "python",
   "name": "python3"
  },
  "language_info": {
   "codemirror_mode": {
    "name": "ipython",
    "version": 3
   },
   "file_extension": ".py",
   "mimetype": "text/x-python",
   "name": "python",
   "nbconvert_exporter": "python",
   "pygments_lexer": "ipython3",
   "version": "3.12.3"
  }
 },
 "nbformat": 4,
 "nbformat_minor": 5
}
