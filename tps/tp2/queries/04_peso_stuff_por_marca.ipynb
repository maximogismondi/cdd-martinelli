{
 "cells": [
  {
   "cell_type": "markdown",
   "id": "e1696a16",
   "metadata": {},
   "source": [
    "## Query 4\n",
    "\n",
    "> Para los productos que contienen en su descripción la palabra “stuff” (sin importar mayúsculas o minúsculas), calcular el peso total de su inventario agrupado por marca, mostrar sólo la marca y el peso total de las 5 más pesadas."
   ]
  },
  {
   "cell_type": "markdown",
   "id": "1a4f3a1b",
   "metadata": {},
   "source": [
    "Para calcular el peso del inventario vamos a realizar los siguientes pasos:\n",
    "\n",
    "1. Importamos el dataset de productos (data/raw/products.csv).\n",
    "2. Filtramos aquellos que tienen campos invalidos (brand_id, product_id o weight in kgs) y aquellos que no contienen la palabra \"stuff\" en su descripción.\n",
    "3. Mapeamos los campos que nos interesan (brand_id, product_id, weight_kgs) para dejar solo los valores necesarios.\n",
    "4. Importamos el dataset logs de inventario para calcular el flujo de los productos (data/raw/inventory_logs.csv).\n",
    "5. Filtramos aquellas entradas que tengan campos relevantes invalidos (product_id, quantity).\n",
    "6. Mapeamos los campos para dejar solo los valores necesarios (product_id, quantity). Debemos acomodar quantity para que sea positivo o negativo dependiendo del tipo de movimiento.\n",
    "7. Agrupamos por producto para calcular el flujo de los mismos.\n",
    "8. Filtramos los que tengan un flujo valido (mayor a 0).\n",
    "9. Joineamos los datasets por \"product_id\" para quedarnos solo con los productos que tienen la palabra \"stuff\" en su descripción y un flujo valido.\n",
    "10. Agrupamos por marca para calcular el peso total del inventario por marca.\n",
    "11. Nos quedamos solo con las 5 marcas más pesadas."
   ]
  },
  {
   "cell_type": "code",
   "execution_count": 6,
   "id": "c3f916b0",
   "metadata": {},
   "outputs": [],
   "source": [
    "from pyspark.sql import SparkSession\n",
    "\n",
    "spark = SparkSession.builder.appName(\"PesoStuffPorMarca\").getOrCreate()\n",
    "spark.sparkContext.setLogLevel(\"ERROR\")"
   ]
  },
  {
   "cell_type": "code",
   "execution_count": 7,
   "id": "508c3c43",
   "metadata": {},
   "outputs": [
    {
     "name": "stderr",
     "output_type": "stream",
     "text": [
      "                                                                                \r"
     ]
    }
   ],
   "source": [
    "import re\n",
    "\n",
    "products_df = spark.read.csv(\n",
    "    \"../../data/raw/products.csv\", header=True, inferSchema=True\n",
    ")\n",
    "products_rdd = products_df.rdd\n",
    "\n",
    "products_min = (\n",
    "    products_rdd.filter(\n",
    "        lambda r: getattr(r, \"product_id\", None) is not None\n",
    "        and getattr(r, \"brand\", None) is not None\n",
    "        and getattr(r, \"weight_kg\", None) is not None\n",
    "        and getattr(r, \"description\", None) is not None\n",
    "    )\n",
    "    .map(\n",
    "        lambda r: {\n",
    "            \"product_id\": str(getattr(r, \"product_id\", \"\")).strip(),\n",
    "            \"brand\": str(getattr(r, \"brand\", \"\")).strip().title(),\n",
    "            \"weight_kg\": float(getattr(r, \"weight_kg\", 0.0)),\n",
    "            \"description\": str(getattr(r, \"description\", \"\")).strip(),\n",
    "        }\n",
    "    )\n",
    "    .filter(lambda x: x[\"weight_kg\"] > 0.0)\n",
    ")\n",
    "\n",
    "pattern_stuff = re.compile(r\"\\bstuff\\b\", re.IGNORECASE)\n",
    "\n",
    "stuff_products = products_min.filter(\n",
    "    lambda x: pattern_stuff.search(x[\"description\"]) is not None\n",
    ").map(\n",
    "    lambda x: {\n",
    "        \"product_id\": x[\"product_id\"],\n",
    "        \"brand\": x[\"brand\"],\n",
    "        \"weight_kg\": x[\"weight_kg\"],\n",
    "    }\n",
    ")"
   ]
  },
  {
   "cell_type": "code",
   "execution_count": 8,
   "id": "56a4d368",
   "metadata": {},
   "outputs": [],
   "source": [
    "def normalize_from_set(val, allowed_set):\n",
    "    if val is None:\n",
    "        return None\n",
    "    raw = str(val).strip().upper()\n",
    "    return raw if raw in allowed_set else None\n",
    "\n",
    "\n",
    "MOVEMENT_SIGN = {\n",
    "    \"IN\": 1,\n",
    "    \"OUT\": -1,\n",
    "    \"ADJUSTMENT\": 1,\n",
    "}\n",
    "\n",
    "inv_df = spark.read.csv(\n",
    "    \"../../data/raw/inventory_logs.csv\", header=True, inferSchema=True\n",
    ")\n",
    "inv_rdd = inv_df.rdd\n",
    "\n",
    "inv_cleaned = (\n",
    "    inv_rdd.filter(\n",
    "        lambda r: getattr(r, \"product_id\", None) is not None\n",
    "        and getattr(r, \"movement_type\", None) is not None\n",
    "        and getattr(r, \"quantity_change\", None) is not None\n",
    "    )\n",
    "    .map(\n",
    "        lambda r: {\n",
    "            \"product_id\": str(getattr(r, \"product_id\", \"\")).strip(),\n",
    "            \"movement_type\": normalize_from_set(\n",
    "                getattr(r, \"movement_type\", None), MOVEMENT_SIGN.keys()\n",
    "            ),\n",
    "            \"quantity_change\": int(getattr(r, \"quantity_change\", 0) or 0),\n",
    "        }\n",
    "    )\n",
    "    .filter(lambda x: x[\"movement_type\"] is not None)\n",
    "    .map(\n",
    "        lambda x: {\n",
    "            \"product_id\": x[\"product_id\"],\n",
    "            \"qty\": x[\"quantity_change\"] * MOVEMENT_SIGN.get(x[\"movement_type\"], 0),\n",
    "        }\n",
    "    )\n",
    ")\n",
    "\n",
    "flow_by_product = inv_cleaned.map(lambda x: (x[\"product_id\"], x[\"qty\"])).reduceByKey(\n",
    "    lambda a, b: a + b\n",
    ")\n",
    "\n",
    "flow_positive = flow_by_product.filter(lambda x: x[1] > 0)"
   ]
  },
  {
   "cell_type": "code",
   "execution_count": 9,
   "id": "247b0fe4",
   "metadata": {},
   "outputs": [
    {
     "name": "stderr",
     "output_type": "stream",
     "text": [
      "                                                                                \r"
     ]
    }
   ],
   "source": [
    "stuff_kv = stuff_products.map(\n",
    "    lambda x: (x[\"product_id\"], {\"brand\": x[\"brand\"], \"weight_kg\": x[\"weight_kg\"]})\n",
    ")\n",
    "\n",
    "joined = flow_positive.join(stuff_kv)\n",
    "\n",
    "by_brand = joined.map(\n",
    "    lambda kv: (kv[1][1][\"brand\"], kv[1][0] * kv[1][1][\"weight_kg\"])  # qty * weight\n",
    ")\n",
    "\n",
    "sum_by_brand = by_brand.reduceByKey(lambda a, b: a + b)\n",
    "\n",
    "top5 = sum_by_brand.takeOrdered(5, key=lambda x: -x[1])"
   ]
  },
  {
   "cell_type": "code",
   "execution_count": 10,
   "id": "4506b7b9",
   "metadata": {},
   "outputs": [
    {
     "data": {
      "text/html": [
       "<div>\n",
       "<style scoped>\n",
       "    .dataframe tbody tr th:only-of-type {\n",
       "        vertical-align: middle;\n",
       "    }\n",
       "\n",
       "    .dataframe tbody tr th {\n",
       "        vertical-align: top;\n",
       "    }\n",
       "\n",
       "    .dataframe thead th {\n",
       "        text-align: right;\n",
       "    }\n",
       "</style>\n",
       "<table border=\"1\" class=\"dataframe\">\n",
       "  <thead>\n",
       "    <tr style=\"text-align: right;\">\n",
       "      <th></th>\n",
       "      <th>marca</th>\n",
       "      <th>peso_total_kg</th>\n",
       "    </tr>\n",
       "  </thead>\n",
       "  <tbody>\n",
       "    <tr>\n",
       "      <th>0</th>\n",
       "      <td>Undefined</td>\n",
       "      <td>385686.67</td>\n",
       "    </tr>\n",
       "    <tr>\n",
       "      <th>1</th>\n",
       "      <td>Gardena</td>\n",
       "      <td>269784.97</td>\n",
       "    </tr>\n",
       "    <tr>\n",
       "      <th>2</th>\n",
       "      <td>Stubhub</td>\n",
       "      <td>255881.28</td>\n",
       "    </tr>\n",
       "    <tr>\n",
       "      <th>3</th>\n",
       "      <td>Leuchtturm1917</td>\n",
       "      <td>237153.79</td>\n",
       "    </tr>\n",
       "    <tr>\n",
       "      <th>4</th>\n",
       "      <td>Adidas</td>\n",
       "      <td>229815.13</td>\n",
       "    </tr>\n",
       "  </tbody>\n",
       "</table>\n",
       "</div>"
      ],
      "text/plain": [
       "            marca  peso_total_kg\n",
       "0       Undefined      385686.67\n",
       "1         Gardena      269784.97\n",
       "2         Stubhub      255881.28\n",
       "3  Leuchtturm1917      237153.79\n",
       "4          Adidas      229815.13"
      ]
     },
     "metadata": {},
     "output_type": "display_data"
    }
   ],
   "source": [
    "import pandas as pd\n",
    "\n",
    "df_top5 = pd.DataFrame(top5, columns=[\"marca\", \"peso_total_kg\"])\n",
    "if not df_top5.empty:\n",
    "    df_top5[\"peso_total_kg\"] = df_top5[\"peso_total_kg\"].round(2)\n",
    "    display(df_top5)\n",
    "else:\n",
    "    print(\"No hay resultados\")"
   ]
  }
 ],
 "metadata": {
  "kernelspec": {
   "display_name": ".venv (3.12.3)",
   "language": "python",
   "name": "python3"
  },
  "language_info": {
   "codemirror_mode": {
    "name": "ipython",
    "version": 3
   },
   "file_extension": ".py",
   "mimetype": "text/x-python",
   "name": "python",
   "nbconvert_exporter": "python",
   "pygments_lexer": "ipython3",
   "version": "3.12.3"
  }
 },
 "nbformat": 4,
 "nbformat_minor": 5
}
