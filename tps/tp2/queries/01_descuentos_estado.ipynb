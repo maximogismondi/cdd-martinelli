{
 "cells": [
  {
   "cell_type": "markdown",
   "id": "44c96c51",
   "metadata": {},
   "source": [
    "## Query 1\n",
    "\n",
    "> Cuál es el estado que más descuentos tiene en total? y en promedio? Supongan que de una direccion del estilo: 3123 Alan Extension Port Andrea, MA 26926, “MA” es el estado."
   ]
  },
  {
   "cell_type": "markdown",
   "id": "8b0d54c8",
   "metadata": {},
   "source": [
    "Los pasos en este caso serían:\n",
    "\n",
    "1. Importar el dataset de ordenes (data/raw/orders.csv) a un RDD.\n",
    "2. Filtrar aquellas ordenes cuyos datos de dirección y/o descuentos no sean válidos.\n",
    "3. Parsear los números a float para poder operar con ellos.\n",
    "4. Mapear los datos de dirección (shipping y billing) para extraer el estado.\n",
    "5. Cachear el RDD resultante para evitar recalcularlo en cada subconsulta.\n",
    "6. Ahora para cada dirección (shipping, billing) aplicamos un agrupado haciendo:\n",
    "    1. Un filter de los estados vacíos\n",
    "    2. Un mapeo de las ordenes para que la key sea el estado de la dirección\n",
    "    3. Un reduceByKey para calcular los totales\n",
    "    4. Un cache para reutilizar los cálculos\n",
    "    5. Finalmente para cada métrica hacemos:\n",
    "        1. Un map para quedarnos/cacular la métrica que nos interesa\n",
    "        2. Un reduce para quedarnos con aquella que sea mayor"
   ]
  },
  {
   "cell_type": "code",
   "execution_count": 5,
   "id": "d099b691",
   "metadata": {},
   "outputs": [],
   "source": [
    "import re\n",
    "from pyspark.sql import SparkSession"
   ]
  },
  {
   "cell_type": "code",
   "execution_count": 6,
   "id": "8c7e9734",
   "metadata": {},
   "outputs": [],
   "source": [
    "spark = SparkSession.builder.appName(\"DescuentosEstado\").getOrCreate()\n",
    "spark.sparkContext.setLogLevel(\"ERROR\")"
   ]
  },
  {
   "cell_type": "code",
   "execution_count": 7,
   "id": "f25655a3",
   "metadata": {},
   "outputs": [
    {
     "name": "stderr",
     "output_type": "stream",
     "text": [
      "                                                                                \r"
     ]
    }
   ],
   "source": [
    "df = spark.read.csv(\"../../data/raw/orders.csv\", header=True, inferSchema=True)\n",
    "rdd = df.rdd\n",
    "\n",
    "cleaned = (\n",
    "    rdd\n",
    "    .filter(lambda r: r.shipping_address and r.billing_address and r.total_amount is not None)\n",
    "    .map(lambda r: {\n",
    "        \"shipping_address\": r.shipping_address,\n",
    "        \"billing_address\": r.billing_address,\n",
    "        \"total_amount\": float(r.total_amount),\n",
    "        \"discount_amount\": float(getattr(r, \"discount_amount\", 0.0) or 0.0),\n",
    "    })\n",
    ")\n",
    "\n",
    "STATE_REGEX = r\",\\s*([A-Z]{2})\\s+\\d{5}\"\n",
    "\n",
    "def extract_state(address):\n",
    "    if not address:\n",
    "        return None\n",
    "    match = re.search(STATE_REGEX, address)\n",
    "    return match.group(1) if match else None\n",
    "\n",
    "processed = cleaned.map(\n",
    "    lambda x: {\n",
    "        \"state_shipping\": extract_state(x[\"shipping_address\"]),\n",
    "        \"state_billing\": extract_state(x[\"billing_address\"]),\n",
    "        \"total_amount\": x[\"total_amount\"],\n",
    "        \"discount_absolute\": x[\"total_amount\"] * x.get(\"discount_amount\", 0.0) / 100.0,\n",
    "    }\n",
    ").cache()\n"
   ]
  },
  {
   "cell_type": "code",
   "execution_count": 9,
   "id": "16775082",
   "metadata": {},
   "outputs": [
    {
     "name": "stderr",
     "output_type": "stream",
     "text": [
      "                                                                                \r"
     ]
    },
    {
     "name": "stdout",
     "output_type": "stream",
     "text": [
      "Shipping - Estado con máximo descuento total: ('UT', 134728.09174800006)\n",
      "Shipping - Estado con máximo descuento promedio: ('UT', 2.754049299836469)\n",
      "Billing - Estado con máximo descuento total: ('MO', 134500.404522)\n",
      "Billing - Estado con máximo descuento promedio: ('MO', 2.7259911739359546)\n"
     ]
    }
   ],
   "source": [
    "def find_max_discounts(data, state_key):\n",
    "    grouped = (\n",
    "        data.filter(lambda x: x[state_key] is not None)\n",
    "        .map(\n",
    "            lambda x: (\n",
    "                x[state_key],\n",
    "                {\n",
    "                    \"count\": 1,\n",
    "                    \"sum_abs\": x[\"discount_absolute\"],\n",
    "                },\n",
    "            )\n",
    "        )\n",
    "        .reduceByKey(\n",
    "            lambda a, b: {\n",
    "                \"count\": a[\"count\"] + b[\"count\"],\n",
    "                \"sum_abs\": a[\"sum_abs\"] + b[\"sum_abs\"],\n",
    "            }\n",
    "        )\n",
    "        .map(\n",
    "            lambda x: {\n",
    "                \"state\": x[0],\n",
    "                \"count\": x[1][\"count\"],\n",
    "                \"total_discount\": x[1][\"sum_abs\"],\n",
    "            }\n",
    "        )\n",
    "    ).cache()\n",
    "\n",
    "    # Reduce to find max total discount\n",
    "    max_total = grouped.map(lambda x: (x[\"state\"], x[\"total_discount\"])).reduce(\n",
    "        lambda a, b: a if a[1] > b[1] else b\n",
    "    )\n",
    "\n",
    "    # Reduce to find max average discount\n",
    "    max_avg = grouped.map(\n",
    "        lambda x: (\n",
    "            x[\"state\"],\n",
    "            x[\"total_discount\"] / x[\"count\"] if x[\"count\"] > 0 else 0,\n",
    "        )\n",
    "    ).reduce(lambda a, b: a if a[1] > b[1] else b)\n",
    "\n",
    "    return max_total, max_avg\n",
    "\n",
    "\n",
    "max_total_shipping, max_avg_shipping = find_max_discounts(processed, \"state_shipping\")\n",
    "max_total_billing, max_avg_billing = find_max_discounts(processed, \"state_billing\")\n",
    "\n",
    "print(\"Shipping - Estado con máximo descuento total:\", max_total_shipping)\n",
    "print(\"Shipping - Estado con máximo descuento promedio:\", max_avg_shipping)\n",
    "print(\"Billing - Estado con máximo descuento total:\", max_total_billing)\n",
    "print(\"Billing - Estado con máximo descuento promedio:\", max_avg_billing)\n"
   ]
  }
 ],
 "metadata": {
  "kernelspec": {
   "display_name": ".venv (3.12.3)",
   "language": "python",
   "name": "python3"
  },
  "language_info": {
   "codemirror_mode": {
    "name": "ipython",
    "version": 3
   },
   "file_extension": ".py",
   "mimetype": "text/x-python",
   "name": "python",
   "nbconvert_exporter": "python",
   "pygments_lexer": "ipython3",
   "version": "3.12.3"
  }
 },
 "nbformat": 4,
 "nbformat_minor": 5
}
