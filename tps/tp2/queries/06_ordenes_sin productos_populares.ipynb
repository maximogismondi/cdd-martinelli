{
 "cells": [
  {
   "cell_type": "markdown",
   "id": "8a7eea00",
   "metadata": {},
   "source": [
    "## Query 6\n",
    "\n",
    "> Obtener la cantidad de órdenes que no hayan comprado ninguno de los 10 productos más vendidos.\n",
    "\n",
    "- Los top 10 son respecto a la cantidad\n",
    "- Ordenes que NO tengan el producto mas allá de si tienen o no detalles en las ordenes"
   ]
  },
  {
   "cell_type": "markdown",
   "id": "7b78d6d0",
   "metadata": {},
   "source": [
    "1. Importamos el dataset de detalles de ordenes (data/raw/order_items.csv)\n",
    "2. Filtramos registros con datos invalidos (product_id, quantity)\n",
    "3. Mapeamos a (product_id, quantity)\n",
    "4. Agrupamos por product_id y sumamos las cantidades\n",
    "5. Nos quedamos los 10 más vendidos y extraemos los product_id\n",
    "6. Broadcasteamos los product_id de los top 10\n",
    "7. Importamos el dataset de ordenes (data/raw/orders.csv)\n",
    "8. Filtramos registros con datos invalidos (order_id)\n",
    "9. Joineamos con los detalles de ordenes (order_id) con un left outer join\n",
    "10. Agrupamos por order_id y sumamos la cantidad de productos que son de los top 10\n",
    "11. Filtramos las ordenes que no tienen productos de los top 10\n",
    "12. Contamos la cantidad de ordenes que cumplen la condición"
   ]
  },
  {
   "cell_type": "code",
   "execution_count": 23,
   "id": "4a9152b3",
   "metadata": {},
   "outputs": [],
   "source": [
    "from pyspark.sql import SparkSession\n",
    "\n",
    "spark = SparkSession.builder.appName(\"Query6_OrdenesSinProductosPopulares\").getOrCreate()\n",
    "spark.sparkContext.setLogLevel(\"ERROR\")"
   ]
  },
  {
   "cell_type": "code",
   "execution_count": 24,
   "id": "b5ffe0d7",
   "metadata": {},
   "outputs": [
    {
     "name": "stderr",
     "output_type": "stream",
     "text": [
      "                                                                                \r"
     ]
    }
   ],
   "source": [
    "# 1) Top 10 productos más vendidos por cantidad\n",
    "order_items_df = spark.read.csv(\n",
    "    \"../../data/raw/order_items.csv\", header=True, inferSchema=True\n",
    ")\n",
    "oi_rdd = order_items_df.rdd\n",
    "\n",
    "order_items_cleaned = oi_rdd.filter(\n",
    "    lambda r: getattr(r, \"product_id\", None) is not None\n",
    "    and getattr(r, \"quantity\", None) is not None\n",
    ").map(\n",
    "    lambda r: (\n",
    "        str(getattr(r, \"product_id\", \"\")).strip(),\n",
    "        int(getattr(r, \"quantity\", 0) or 0),\n",
    "    )\n",
    ")\n",
    "\n",
    "qty_by_product = order_items_cleaned.reduceByKey(lambda a, b: a + b)\n",
    "\n",
    "top10_products = qty_by_product.takeOrdered(10, key=lambda kv: -kv[1])\n",
    "top10_set = set(pid for pid, _ in top10_products)\n",
    "top10_bc = spark.sparkContext.broadcast(top10_set)"
   ]
  },
  {
   "cell_type": "code",
   "execution_count": 25,
   "id": "ffe93f68",
   "metadata": {},
   "outputs": [
    {
     "name": "stderr",
     "output_type": "stream",
     "text": [
      "                                                                                \r"
     ]
    }
   ],
   "source": [
    "orders_df = spark.read.csv(\"../../data/raw/orders.csv\", header=True, inferSchema=True)\n",
    "orders_rdd = orders_df.rdd\n",
    "\n",
    "orders_min = orders_rdd.filter(lambda r: getattr(r, \"order_id\", None) is not None).map(\n",
    "    lambda r: {\"order_id\": str(getattr(r, \"order_id\", \"\")).strip()}\n",
    ")\n",
    "\n",
    "order_items_per_order = (\n",
    "    oi_rdd.filter(\n",
    "        lambda r: getattr(r, \"order_id\", None) is not None\n",
    "        and getattr(r, \"product_id\", None) is not None\n",
    "    )\n",
    "    .map(\n",
    "        lambda r: (\n",
    "            str(getattr(r, \"order_id\", \"\")).strip(),\n",
    "            1 if str(getattr(r, \"product_id\", \"\")).strip() in top10_bc.value else 0,\n",
    "        )\n",
    "    )\n",
    "    .reduceByKey(lambda a, b: a + b) # (order_id, count_of_top10_products_in_order)\n",
    ").cache()  # este cache lo agrego ya que lo reutilizo cuando hago la query por segunda vez\n",
    "\n",
    "orders_kv = orders_min.map(lambda x: (x[\"order_id\"], 0))  # add it to allow the join\n",
    "\n",
    "left_join = orders_kv.leftOuterJoin(\n",
    "    order_items_per_order\n",
    ")  # (order_id, (0, count_of_top10_products_in_order))\n",
    "\n",
    "orders_without_top10 = left_join.filter(lambda kv: (kv[1][1] or 0) == 0)\n",
    "\n",
    "count_orders_without_top10 = orders_without_top10.count()"
   ]
  },
  {
   "cell_type": "code",
   "execution_count": 26,
   "id": "8f300ae1",
   "metadata": {},
   "outputs": [
    {
     "name": "stdout",
     "output_type": "stream",
     "text": [
      "Cantidad de órdenes sin productos del top 10: 4700000\n"
     ]
    }
   ],
   "source": [
    "print(f\"Cantidad de órdenes sin productos del top 10: {count_orders_without_top10}\")"
   ]
  },
  {
   "cell_type": "markdown",
   "id": "a8024335",
   "metadata": {},
   "source": [
    "Repito pero sin joinear con ordenes ya que no parece estar habiendo matchs entre `orders` y `order_items`."
   ]
  },
  {
   "cell_type": "code",
   "execution_count": 27,
   "id": "087557f0",
   "metadata": {},
   "outputs": [
    {
     "name": "stdout",
     "output_type": "stream",
     "text": [
      "Cantidad de órdenes sin productos del top 10 (sin join): 99507\n"
     ]
    }
   ],
   "source": [
    "orders_without_top10_without_join = order_items_per_order.filter(lambda kv: kv[1] == 0).count()\n",
    "\n",
    "print(f\"Cantidad de órdenes sin productos del top 10 (sin join): {orders_without_top10_without_join}\")"
   ]
  }
 ],
 "metadata": {
  "kernelspec": {
   "display_name": ".venv (3.12.3)",
   "language": "python",
   "name": "python3"
  },
  "language_info": {
   "codemirror_mode": {
    "name": "ipython",
    "version": 3
   },
   "file_extension": ".py",
   "mimetype": "text/x-python",
   "name": "python",
   "nbconvert_exporter": "python",
   "pygments_lexer": "ipython3",
   "version": "3.12.3"
  }
 },
 "nbformat": 4,
 "nbformat_minor": 5
}
