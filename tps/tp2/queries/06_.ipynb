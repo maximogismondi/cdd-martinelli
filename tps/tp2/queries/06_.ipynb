{
 "cells": [
  {
   "cell_type": "markdown",
   "id": "8a7eea00",
   "metadata": {},
   "source": [
    "## Query 6\n",
    "\n",
    "> Obtener la cantidad de órdenes que no hayan comprado ninguno de los 10 productos más vendidos.\n",
    "\n",
    "Los top 10 son respecto a la cantidad\n",
    "\n",
    "Ordenes que NO tengan el producto mas allá de si tienen o no detalles en las ordenes"
   ]
  }
 ],
 "metadata": {
  "language_info": {
   "name": "python"
  }
 },
 "nbformat": 4,
 "nbformat_minor": 5
}
