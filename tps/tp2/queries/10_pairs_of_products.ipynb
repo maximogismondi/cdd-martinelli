{
 "cells": [
  {
   "cell_type": "markdown",
   "id": "819ebb41",
   "metadata": {},
   "source": [
    "## Query 10\n",
    "\n",
    "Quiero buscar los pares de productos que son frecuentemente comprados juntos. Para esto buscamos en las órdenes aquellos productos que aparecen juntos en la misma orden. Luego, contamos cuántas veces aparece cada par de productos juntos y devolvemos los pares más frecuentes. Cabe aclarar que si se compran varias unidades de AMBOS productos en la misma orden, se cuenta como un par."
   ]
  },
  {
   "cell_type": "markdown",
   "id": "d51b42e0",
   "metadata": {},
   "source": [
    "Para hacer esto debemos seguir los siguientes pasos:\n",
    "\n",
    "1. Importar el dataset de order_items (data/raw/order_items.csv).\n",
    "2. Filtrar por valores inválidos (order_id, product_id) y convertir product_id a string.\n",
    "3. Mapear para obtener (order_id, product_id).\n",
    "4. Agrupar por order_id para obtener lista de productos por orden: (order_id, [product_id, ...]).\n",
    "5. Para cada orden, generar todos los pares posibles de productos (combinaciones sin repetición).\n",
    "6. Mapear a ((product_id_1, product_id_2), 1) donde product_id_1 < product_id_2 para evitar duplicados, contando 1 por cada orden.\n",
    "7. Reducir por par de productos sumando las veces que aparecen juntos.\n",
    "8. Tomar los top 10 pares más frecuentes.\n",
    "9. Broadcastear los IDs únicos de productos de los pares más frecuentes (convertidos a string).\n",
    "10. Importar el dataset de products (data/raw/products.csv).\n",
    "11. Filtrar productos con datos válidos (product_id, product_name), convertir product_id a string y filtrar solo los que están en el broadcast.\n",
    "12. Paralelizar los top 10 pares para crear RDD.\n",
    "13. Hacer primer join con products_kv usando product_id_1 como clave para obtener el nombre del primer producto.\n",
    "14. Hacer segundo join con products_kv usando product_id_2 como clave para obtener el nombre del segundo producto.\n",
    "15. Formatear resultado final extrayendo solo los nombres de productos y el conteo.\n",
    "16. Mostrar los resultados en formato de tabla con pandas."
   ]
  },
  {
   "cell_type": "code",
   "execution_count": 59,
   "id": "af2cb80b",
   "metadata": {},
   "outputs": [],
   "source": [
    "from pyspark.sql import SparkSession\n",
    "\n",
    "spark = SparkSession.builder.appName(\"ParesProductos\").getOrCreate()\n",
    "spark.sparkContext.setLogLevel(\"ERROR\")"
   ]
  },
  {
   "cell_type": "code",
   "execution_count": 60,
   "id": "7d77f279",
   "metadata": {},
   "outputs": [
    {
     "name": "stderr",
     "output_type": "stream",
     "text": [
      "                                                                                \r"
     ]
    }
   ],
   "source": [
    "items_df = spark.read.csv(\n",
    "    \"../../data/raw/order_items.csv\", header=True, inferSchema=True\n",
    ")\n",
    "items_rdd = items_df.rdd\n",
    "\n",
    "items_by_order = (\n",
    "    items_rdd.filter(lambda r: r.order_id and r.product_id)\n",
    "    .map(lambda r: (r.order_id, str(r.product_id)))\n",
    "    .groupByKey()\n",
    "    .mapValues(list)\n",
    ")  # (order_id, [product_id, ...])"
   ]
  },
  {
   "cell_type": "code",
   "execution_count": 61,
   "id": "192f033d",
   "metadata": {},
   "outputs": [
    {
     "name": "stderr",
     "output_type": "stream",
     "text": [
      "                                                                                \r"
     ]
    }
   ],
   "source": [
    "from itertools import combinations\n",
    "\n",
    "\n",
    "def generate_pairs(order_items):\n",
    "    \"\"\"Generate all product pairs from an order, counting 1 per order\"\"\"\n",
    "    pairs = []\n",
    "    items_list = list(order_items)\n",
    "\n",
    "    # Generate all combinations of 2 products\n",
    "    for prod1, prod2 in combinations(items_list, 2):\n",
    "        if prod1 < prod2:\n",
    "            pair = ((prod1, prod2), 1)\n",
    "        else:\n",
    "            pair = ((prod2, prod1), 1)\n",
    "        pairs.append(pair)\n",
    "\n",
    "    return pairs\n",
    "\n",
    "\n",
    "product_pairs = items_by_order.flatMap(\n",
    "    lambda kv: generate_pairs(kv[1])\n",
    ")  # ((product_id_1, product_id_2), 1)\n",
    "\n",
    "pair_counts = product_pairs.reduceByKey(\n",
    "    lambda a, b: a + b\n",
    ")  # ((product_id_1, product_id_2), veces_juntos)\n",
    "\n",
    "top10 = pair_counts.takeOrdered(10, key=lambda kv: -kv[1])"
   ]
  },
  {
   "cell_type": "code",
   "execution_count": 62,
   "id": "8d6842bd",
   "metadata": {},
   "outputs": [
    {
     "name": "stderr",
     "output_type": "stream",
     "text": [
      "                                                                                \r"
     ]
    }
   ],
   "source": [
    "ids_top = spark.sparkContext.broadcast(\n",
    "    {str(p) for (p1, p2), _ in top10 for p in (p1, p2)}\n",
    ")\n",
    "\n",
    "products_df = spark.read.csv(\n",
    "    \"../../data/raw/products.csv\", header=True, inferSchema=True\n",
    ")\n",
    "\n",
    "products_rdd = products_df.rdd\n",
    "\n",
    "products_kv = (\n",
    "    products_rdd.filter(lambda r: r.product_id is not None and r.product_name)\n",
    "    .map(lambda r: (str(r.product_id), r.product_name))\n",
    "    .filter(lambda kv: kv[0] in ids_top.value)\n",
    ")  # RDD[(product_id, product_name)]"
   ]
  },
  {
   "cell_type": "code",
   "execution_count": 63,
   "id": "612cd17e",
   "metadata": {},
   "outputs": [
    {
     "name": "stderr",
     "output_type": "stream",
     "text": [
      "                                                                                \r"
     ]
    }
   ],
   "source": [
    "top10_rdd = spark.sparkContext.parallelize(top10)  # [((p1, p2), cnt)]\n",
    "\n",
    "pairs_by_p1 = top10_rdd.map(lambda kv: (kv[0][0], (kv[0][1], kv[1])))\n",
    "j1 = pairs_by_p1.join(products_kv)  # (p1, ((p2, cnt), name1))\n",
    "\n",
    "to_p2 = j1.map(lambda kv: (kv[1][0][0], (kv[1][0][1], kv[1][1])))\n",
    "j2 = to_p2.join(products_kv)  # (p2, ((cnt, name1), name2))\n",
    "\n",
    "with_names = j2.map(lambda kv: ((kv[1][0][1], kv[1][1]), kv[1][0][0]))\n",
    "result = with_names.collect()  # ((name1, name2), cnt)"
   ]
  },
  {
   "cell_type": "code",
   "execution_count": 64,
   "id": "f08b2732",
   "metadata": {},
   "outputs": [
    {
     "data": {
      "text/html": [
       "<div>\n",
       "<style scoped>\n",
       "    .dataframe tbody tr th:only-of-type {\n",
       "        vertical-align: middle;\n",
       "    }\n",
       "\n",
       "    .dataframe tbody tr th {\n",
       "        vertical-align: top;\n",
       "    }\n",
       "\n",
       "    .dataframe thead th {\n",
       "        text-align: right;\n",
       "    }\n",
       "</style>\n",
       "<table border=\"1\" class=\"dataframe\">\n",
       "  <thead>\n",
       "    <tr style=\"text-align: right;\">\n",
       "      <th></th>\n",
       "      <th>producto_1</th>\n",
       "      <th>producto_2</th>\n",
       "      <th>veces_comprados_juntos</th>\n",
       "    </tr>\n",
       "  </thead>\n",
       "  <tbody>\n",
       "    <tr>\n",
       "      <th>0</th>\n",
       "      <td>Progressive methodical open architecture</td>\n",
       "      <td>Universal solution-oriented hub</td>\n",
       "      <td>2</td>\n",
       "    </tr>\n",
       "    <tr>\n",
       "      <th>1</th>\n",
       "      <td>front-line mobile core</td>\n",
       "      <td>User-centric mobile task-force</td>\n",
       "      <td>2</td>\n",
       "    </tr>\n",
       "    <tr>\n",
       "      <th>2</th>\n",
       "      <td>Total reciprocal core</td>\n",
       "      <td>Customer-focused fresh-thinking open architecture</td>\n",
       "      <td>2</td>\n",
       "    </tr>\n",
       "    <tr>\n",
       "      <th>3</th>\n",
       "      <td>Profound zero tolerance forecast</td>\n",
       "      <td>User-centric next generation pricing structure</td>\n",
       "      <td>2</td>\n",
       "    </tr>\n",
       "    <tr>\n",
       "      <th>4</th>\n",
       "      <td>Stand-alone static implementation</td>\n",
       "      <td>Right-sized regional approach</td>\n",
       "      <td>2</td>\n",
       "    </tr>\n",
       "    <tr>\n",
       "      <th>5</th>\n",
       "      <td>Business-focused didactic adapter</td>\n",
       "      <td>Monitored contextually-based Local Area Network</td>\n",
       "      <td>2</td>\n",
       "    </tr>\n",
       "    <tr>\n",
       "      <th>6</th>\n",
       "      <td>Switchable neutral forecast</td>\n",
       "      <td>Exclusive empowering strategy</td>\n",
       "      <td>2</td>\n",
       "    </tr>\n",
       "    <tr>\n",
       "      <th>7</th>\n",
       "      <td>USER-CENTRIC 6THGENERATION INTERNET SOLUTION</td>\n",
       "      <td>Integrated web-enabled challenge</td>\n",
       "      <td>2</td>\n",
       "    </tr>\n",
       "    <tr>\n",
       "      <th>8</th>\n",
       "      <td>Re-engineered regional help-desk</td>\n",
       "      <td>Automated executive leverage</td>\n",
       "      <td>2</td>\n",
       "    </tr>\n",
       "  </tbody>\n",
       "</table>\n",
       "</div>"
      ],
      "text/plain": [
       "                                     producto_1  \\\n",
       "0      Progressive methodical open architecture   \n",
       "1                        front-line mobile core   \n",
       "2                         Total reciprocal core   \n",
       "3              Profound zero tolerance forecast   \n",
       "4             Stand-alone static implementation   \n",
       "5             Business-focused didactic adapter   \n",
       "6                   Switchable neutral forecast   \n",
       "7  USER-CENTRIC 6THGENERATION INTERNET SOLUTION   \n",
       "8              Re-engineered regional help-desk   \n",
       "\n",
       "                                          producto_2  veces_comprados_juntos  \n",
       "0                    Universal solution-oriented hub                       2  \n",
       "1                     User-centric mobile task-force                       2  \n",
       "2  Customer-focused fresh-thinking open architecture                       2  \n",
       "3     User-centric next generation pricing structure                       2  \n",
       "4                      Right-sized regional approach                       2  \n",
       "5    Monitored contextually-based Local Area Network                       2  \n",
       "6                      Exclusive empowering strategy                       2  \n",
       "7                   Integrated web-enabled challenge                       2  \n",
       "8                      Automated executive leverage                        2  "
      ]
     },
     "metadata": {},
     "output_type": "display_data"
    }
   ],
   "source": [
    "import pandas as pd\n",
    "\n",
    "if result:\n",
    "    results_formatted = [\n",
    "        {\n",
    "            \"producto_1\": name1,\n",
    "            \"producto_2\": name2,\n",
    "            \"veces_comprados_juntos\": cnt,\n",
    "        }\n",
    "        for (name1, name2), cnt in result\n",
    "    ]\n",
    "    df = pd.DataFrame(results_formatted)\n",
    "    display(df)\n",
    "else:\n",
    "    print(\"No results\")"
   ]
  }
 ],
 "metadata": {
  "kernelspec": {
   "display_name": ".venv (3.12.3)",
   "language": "python",
   "name": "python3"
  },
  "language_info": {
   "codemirror_mode": {
    "name": "ipython",
    "version": 3
   },
   "file_extension": ".py",
   "mimetype": "text/x-python",
   "name": "python",
   "nbconvert_exporter": "python",
   "pygments_lexer": "ipython3",
   "version": "3.12.3"
  }
 },
 "nbformat": 4,
 "nbformat_minor": 5
}
