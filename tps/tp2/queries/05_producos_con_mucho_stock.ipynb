{
 "cells": [
  {
   "cell_type": "markdown",
   "id": "f0d61b4c",
   "metadata": {},
   "source": [
    "## Query 5\n",
    "\n",
    "> Calculen el porcentaje de productos cuyo stock es al menos 20% más alto que el stock promedio de su marca. Por ejemplo, si el stock promedio de la marca Adidas fuera 100, para los productos de dicha marca la condición será que tengan un stock mayor a 120, y luego se deberá calcular qué porcentaje del total de productos cumple con esta condición."
   ]
  },
  {
   "cell_type": "markdown",
   "id": "5523cd50",
   "metadata": {},
   "source": [
    "Para realizar la siguiente consulta vamos a:\n",
    "\n",
    "1. Importamos el dataset de productos (data/raw/products.csv).\n",
    "2. Filtramos aquellos que tienen campos invalidos (brand_id, product_id)\n",
    "3. Mapeamos los campos que nos interesan (brand_id, product_id,) para dejar solo los valores necesarios.\n",
    "4. Importamos el dataset logs de inventario para calcular el flujo de los productos (data/raw/inventory_logs.csv).\n",
    "5. Filtramos aquellas entradas que tengan campos relevantes invalidos (product_id, quantity).\n",
    "6. Mapeamos los campos para dejar solo los valores necesarios (product_id, quantity). Debemos acomodar quantity para que sea positivo o negativo dependiendo del tipo de movimiento.\n",
    "7. Agrupamos por producto para calcular el flujo de los mismos.\n",
    "8. Filtramos los que tengan un flujo valido (mayor a 0).\n",
    "9. Joineamos los datasets por \"product_id\" para quedarnos solo con los productos su flujo.\n",
    "10. Aplicamos un cache para optimizar la consulta.\n",
    "11. Agrupamos por marca para calcular el stock stock promedio por marca.\n",
    "12. Retomamos el rdd cacheado y lo joineamos con el rdd de métricas por marca.\n",
    "13. Filtramos aquellos productos cuyo stock es al menos 20% más alto que el stock promedio de su marca.\n",
    "14. Aplicamos un count para obtener la cantidad de productos que cumplen la condición.\n",
    "15. Aplicamos un count para obtener la cantidad total de productos al rdd cacheado.\n",
    "16. Calculamos el porcentaje."
   ]
  },
  {
   "cell_type": "code",
   "execution_count": 5,
   "id": "db178ad4",
   "metadata": {},
   "outputs": [],
   "source": [
    "from pyspark.sql import SparkSession\n",
    "\n",
    "spark = SparkSession.builder.appName(\"Query5_ProductosMuchoStock\").getOrCreate()\n",
    "spark.sparkContext.setLogLevel(\"ERROR\")"
   ]
  },
  {
   "cell_type": "code",
   "execution_count": 6,
   "id": "6b751a09",
   "metadata": {},
   "outputs": [
    {
     "name": "stderr",
     "output_type": "stream",
     "text": [
      "                                                                                \r"
     ]
    }
   ],
   "source": [
    "products_df = spark.read.csv(\n",
    "    \"../../data/raw/products.csv\", header=True, inferSchema=True\n",
    ")\n",
    "products_rdd = products_df.rdd\n",
    "\n",
    "products_min = products_rdd.filter(\n",
    "    lambda r: getattr(r, \"product_id\", None) is not None\n",
    "    and getattr(r, \"brand\", None) is not None\n",
    ").map(\n",
    "    lambda r: {\n",
    "        \"product_id\": str(getattr(r, \"product_id\", \"\")).strip(),\n",
    "        \"brand\": str(getattr(r, \"brand\", \"\")).strip().title(),\n",
    "    }\n",
    ")\n",
    "\n",
    "\n",
    "def normalize_from_set(val, allowed_set):\n",
    "    if val is None:\n",
    "        return None\n",
    "    raw = str(val).strip().upper()\n",
    "    return raw if raw in allowed_set else None\n",
    "\n",
    "\n",
    "MOVEMENT_SIGN = {\"IN\": 1, \"OUT\": -1, \"ADJUSTMENT\": 1}\n",
    "\n",
    "inv_df = spark.read.csv(\n",
    "    \"../../data/raw/inventory_logs.csv\", header=True, inferSchema=True\n",
    ")\n",
    "inv_rdd = inv_df.rdd\n",
    "\n",
    "inv_cleaned = (\n",
    "    inv_rdd.filter(\n",
    "        lambda r: getattr(r, \"product_id\", None) is not None\n",
    "        and getattr(r, \"movement_type\", None) is not None\n",
    "        and getattr(r, \"quantity_change\", None) is not None\n",
    "    )\n",
    "    .map(\n",
    "        lambda r: {\n",
    "            \"product_id\": str(getattr(r, \"product_id\", \"\")).strip(),\n",
    "            \"movement_type\": normalize_from_set(\n",
    "                getattr(r, \"movement_type\", None), MOVEMENT_SIGN.keys()\n",
    "            ),\n",
    "            \"quantity_change\": int(getattr(r, \"quantity_change\", 0) or 0),\n",
    "        }\n",
    "    )\n",
    "    .filter(lambda x: x[\"movement_type\"] is not None)\n",
    "    .map(\n",
    "        lambda x: {\n",
    "            \"product_id\": x[\"product_id\"],\n",
    "            \"qty\": x[\"quantity_change\"] * MOVEMENT_SIGN[x[\"movement_type\"]],\n",
    "        }\n",
    "    )\n",
    ")\n",
    "\n",
    "flow_by_product = inv_cleaned.map(lambda x: (x[\"product_id\"], x[\"qty\"])).reduceByKey(\n",
    "    lambda a, b: a + b\n",
    ")\n",
    "\n",
    "stock_by_product = flow_by_product.filter(lambda kv: kv[1] >= 0)"
   ]
  },
  {
   "cell_type": "code",
   "execution_count": 7,
   "id": "f387e387",
   "metadata": {},
   "outputs": [
    {
     "name": "stderr",
     "output_type": "stream",
     "text": [
      "                                                                                \r"
     ]
    }
   ],
   "source": [
    "prod_kv = products_min.map(lambda x: (x[\"product_id\"], x[\"brand\"]))\n",
    "joined = stock_by_product.join(prod_kv).cache()  # (product_id, (stock, brand))\n",
    "\n",
    "by_brand_stock = joined.map(lambda kv: (kv[1][1], (kv[1][0], 1)))\n",
    "brand_totals = by_brand_stock.reduceByKey(lambda a, b: (a[0] + b[0], a[1] + b[1]))\n",
    "brand_avg = brand_totals.mapValues(lambda s: s[0] / s[1] if s[1] else 0.0)  # (brand, avg_stock)\n",
    "\n",
    "products_by_brand = joined.map(lambda kv: (kv[1][1], (kv[0], kv[1][0])))  # (brand, (product_id, stock))\n",
    "brand_join = products_by_brand.join(brand_avg)  # (brand, ((product_id, stock), avg_stock))\n",
    "\n",
    "THRESHOLD = 1.2\n",
    "qualifying = brand_join.filter(lambda kv: kv[1][0][1] >= THRESHOLD * kv[1][1])\n",
    "\n",
    "num_qualifying = qualifying.count()\n",
    "num_total = joined.count()\n",
    "percentage = (num_qualifying / num_total * 100.0) if num_total > 0 else 0.0"
   ]
  },
  {
   "cell_type": "code",
   "execution_count": 10,
   "id": "707311c2",
   "metadata": {},
   "outputs": [
    {
     "name": "stdout",
     "output_type": "stream",
     "text": [
      "Productos con stock >= 120% del promedio de su marca\n",
      "Cantidad: 28256 de un total de 84869 productos con stock\n",
      "Porcentaje: 33.29%\n"
     ]
    }
   ],
   "source": [
    "print(\"Productos con stock >= 120% del promedio de su marca\")\n",
    "\n",
    "print(f\"Cantidad: {num_qualifying} de un total de {num_total} productos con stock\")\n",
    "print(f\"Porcentaje: {percentage:.2f}%\")"
   ]
  }
 ],
 "metadata": {
  "kernelspec": {
   "display_name": ".venv (3.12.3)",
   "language": "python",
   "name": "python3"
  },
  "language_info": {
   "codemirror_mode": {
    "name": "ipython",
    "version": 3
   },
   "file_extension": ".py",
   "mimetype": "text/x-python",
   "name": "python",
   "nbconvert_exporter": "python",
   "pygments_lexer": "ipython3",
   "version": "3.12.3"
  }
 },
 "nbformat": 4,
 "nbformat_minor": 5
}
